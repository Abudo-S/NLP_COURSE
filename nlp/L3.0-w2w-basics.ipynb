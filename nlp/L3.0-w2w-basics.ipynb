{
  "cells": [
    {
      "cell_type": "markdown",
      "metadata": {
        "id": "XOIB8VsAbWuz"
      },
      "source": [
        "##### Master Degree in Computer Science and Data Science for Economics\n",
        "\n",
        "# Word2Vec\n",
        "## A toy example and from scratch implementation\n",
        "\n",
        "### Alfio Ferrara\n",
        "\n",
        "For the details about the model, see [wordvec.py](./nlp/wordvec.py)"
      ]
    },
    {
      "cell_type": "markdown",
      "metadata": {
        "id": "9msc7P-BbWu1"
      },
      "source": [
        "## A simple toy dataset\n",
        "Let's take a simple example with pseudo docs representing different weather conditions"
      ]
    },
    {
      "cell_type": "code",
      "execution_count": 1,
      "metadata": {
        "id": "gb4Lqb7zbWu2",
        "outputId": "ffbc51dc-d541-443a-b131-558695dc41b2",
        "colab": {
          "base_uri": "https://localhost:8080/"
        }
      },
      "outputs": [
        {
          "output_type": "stream",
          "name": "stdout",
          "text": [
            "/content\n",
            ".:\n",
            "sample_data\n",
            "\n",
            "./sample_data:\n",
            "anscombe.json\t\t      mnist_test.csv\n",
            "california_housing_test.csv   mnist_train_small.csv\n",
            "california_housing_train.csv  README.md\n",
            "Directory NLP_COURSE does not exist, proceeding with clone.\n",
            "Cloning into 'NLP_COURSE'...\n",
            "remote: Enumerating objects: 153, done.\u001b[K\n",
            "remote: Counting objects: 100% (47/47), done.\u001b[K\n",
            "remote: Compressing objects: 100% (45/45), done.\u001b[K\n",
            "remote: Total 153 (delta 21), reused 10 (delta 2), pack-reused 106 (from 1)\u001b[K\n",
            "Receiving objects: 100% (153/153), 66.58 MiB | 7.06 MiB/s, done.\n",
            "Resolving deltas: 100% (23/23), done.\n",
            "Filtering content: 100% (14/14), 800.44 MiB | 42.49 MiB/s, done.\n",
            "/content/NLP_COURSE\n"
          ]
        }
      ],
      "source": [
        "import json\n",
        "import os\n",
        "\n",
        "%cd /content/\n",
        "!ls -R\n",
        "repo_name = \"NLP_COURSE\"\n",
        "#!rm -rf {repo_name}\n",
        "if not os.path.exists(repo_name):\n",
        "    print(f\"Directory {repo_name} does not exist, proceeding with clone.\")\n",
        "    !git clone https://github.com/Abudo-S/NLP_COURSE.git\n",
        "\n",
        "%cd NLP_COURSE"
      ]
    },
    {
      "cell_type": "code",
      "execution_count": 2,
      "metadata": {
        "id": "NMlUHGg7bWu3",
        "outputId": "b344fae0-c7ec-4cdd-e375-7447f1983d95",
        "colab": {
          "base_uri": "https://localhost:8080/"
        }
      },
      "outputs": [
        {
          "output_type": "stream",
          "name": "stdout",
          "text": [
            "mountains | snow | ice | peak | woods | cold\n",
            "beach | sand | sea | wave | sun | hot\n",
            "desert | dune | cactus | sand | sun | arid\n",
            "forest | tree | leaf | animal | rain | humidity\n",
            "river | water | fish | spring | current | bank\n",
            "sky | cloud | wind | rain | thunder | rainbow\n"
          ]
        }
      ],
      "source": [
        "with open('/content/NLP_COURSE/data/weather.json', 'r') as file_in:\n",
        "    data = json.load(file_in)\n",
        "weather = data['weather']\n",
        "for doc in weather:\n",
        "    print(\" | \".join(doc))"
      ]
    },
    {
      "cell_type": "markdown",
      "metadata": {
        "id": "NOalBZQUbWu3"
      },
      "source": [
        "## Create SkipGram dataloader"
      ]
    },
    {
      "cell_type": "code",
      "execution_count": 3,
      "metadata": {
        "id": "KRIDtTeZbWu4",
        "outputId": "d67d0705-1e83-4235-e470-234bbc3cd6b0",
        "colab": {
          "base_uri": "https://localhost:8080/"
        }
      },
      "outputs": [
        {
          "output_type": "stream",
          "name": "stdout",
          "text": [
            "/content/NLP_COURSE/nlp/nlp\n"
          ]
        }
      ],
      "source": [
        "#!pip install nlp\n",
        "#!ls -R\n",
        "#!pwd\n",
        "%cd nlp/nlp\n",
        "import wordbags as wb\n",
        "import pandas as pd\n",
        "import torch"
      ]
    },
    {
      "cell_type": "code",
      "execution_count": 4,
      "metadata": {
        "id": "1AoJtchTbWu4"
      },
      "outputs": [],
      "source": [
        "bow = wb.Bow(corpus=weather)\n",
        "data_loader, inputs, outputs = bow.one_hot_skip_gram_dataloader(window=2, batch=2) #use skip-gram architecture (predict the context words given a target word)"
      ]
    },
    {
      "cell_type": "code",
      "execution_count": 5,
      "metadata": {
        "id": "ekhYVb5rbWu5",
        "outputId": "45412b3f-7b7b-4f62-d273-b564d9d80d8e",
        "colab": {
          "base_uri": "https://localhost:8080/",
          "height": 241
        }
      },
      "outputs": [
        {
          "output_type": "execute_result",
          "data": {
            "text/plain": [
              "mountains    1.0\n",
              "snow         0.0\n",
              "ice          0.0\n",
              "peak         0.0\n",
              "woods        0.0\n",
              "Name: 0, dtype: float32"
            ],
            "text/html": [
              "<div>\n",
              "<style scoped>\n",
              "    .dataframe tbody tr th:only-of-type {\n",
              "        vertical-align: middle;\n",
              "    }\n",
              "\n",
              "    .dataframe tbody tr th {\n",
              "        vertical-align: top;\n",
              "    }\n",
              "\n",
              "    .dataframe thead th {\n",
              "        text-align: right;\n",
              "    }\n",
              "</style>\n",
              "<table border=\"1\" class=\"dataframe\">\n",
              "  <thead>\n",
              "    <tr style=\"text-align: right;\">\n",
              "      <th></th>\n",
              "      <th>0</th>\n",
              "    </tr>\n",
              "  </thead>\n",
              "  <tbody>\n",
              "    <tr>\n",
              "      <th>mountains</th>\n",
              "      <td>1.0</td>\n",
              "    </tr>\n",
              "    <tr>\n",
              "      <th>snow</th>\n",
              "      <td>0.0</td>\n",
              "    </tr>\n",
              "    <tr>\n",
              "      <th>ice</th>\n",
              "      <td>0.0</td>\n",
              "    </tr>\n",
              "    <tr>\n",
              "      <th>peak</th>\n",
              "      <td>0.0</td>\n",
              "    </tr>\n",
              "    <tr>\n",
              "      <th>woods</th>\n",
              "      <td>0.0</td>\n",
              "    </tr>\n",
              "  </tbody>\n",
              "</table>\n",
              "</div><br><label><b>dtype:</b> float32</label>"
            ]
          },
          "metadata": {},
          "execution_count": 5
        }
      ],
      "source": [
        "readable_input = pd.DataFrame(inputs, columns=bow.vocabulary)\n",
        "readable_input.iloc[0].head()"
      ]
    },
    {
      "cell_type": "code",
      "execution_count": 6,
      "metadata": {
        "id": "gdHoWIfWbWu5",
        "outputId": "6f43e580-a922-4e40-91d4-0a7fad467cf7",
        "colab": {
          "base_uri": "https://localhost:8080/",
          "height": 241
        }
      },
      "outputs": [
        {
          "output_type": "execute_result",
          "data": {
            "text/plain": [
              "mountains    0.0\n",
              "snow         1.0\n",
              "ice          1.0\n",
              "peak         0.0\n",
              "woods        0.0\n",
              "Name: 0, dtype: float32"
            ],
            "text/html": [
              "<div>\n",
              "<style scoped>\n",
              "    .dataframe tbody tr th:only-of-type {\n",
              "        vertical-align: middle;\n",
              "    }\n",
              "\n",
              "    .dataframe tbody tr th {\n",
              "        vertical-align: top;\n",
              "    }\n",
              "\n",
              "    .dataframe thead th {\n",
              "        text-align: right;\n",
              "    }\n",
              "</style>\n",
              "<table border=\"1\" class=\"dataframe\">\n",
              "  <thead>\n",
              "    <tr style=\"text-align: right;\">\n",
              "      <th></th>\n",
              "      <th>0</th>\n",
              "    </tr>\n",
              "  </thead>\n",
              "  <tbody>\n",
              "    <tr>\n",
              "      <th>mountains</th>\n",
              "      <td>0.0</td>\n",
              "    </tr>\n",
              "    <tr>\n",
              "      <th>snow</th>\n",
              "      <td>1.0</td>\n",
              "    </tr>\n",
              "    <tr>\n",
              "      <th>ice</th>\n",
              "      <td>1.0</td>\n",
              "    </tr>\n",
              "    <tr>\n",
              "      <th>peak</th>\n",
              "      <td>0.0</td>\n",
              "    </tr>\n",
              "    <tr>\n",
              "      <th>woods</th>\n",
              "      <td>0.0</td>\n",
              "    </tr>\n",
              "  </tbody>\n",
              "</table>\n",
              "</div><br><label><b>dtype:</b> float32</label>"
            ]
          },
          "metadata": {},
          "execution_count": 6
        }
      ],
      "source": [
        "readable_target = pd.DataFrame(outputs, columns=bow.vocabulary)\n",
        "readable_target.iloc[0].head()"
      ]
    },
    {
      "cell_type": "code",
      "execution_count": 7,
      "metadata": {
        "id": "RlbA7K5pbWu6",
        "outputId": "88098edc-473d-4c18-d613-c25192349e84",
        "colab": {
          "base_uri": "https://localhost:8080/"
        }
      },
      "outputs": [
        {
          "output_type": "stream",
          "name": "stdout",
          "text": [
            "Input: tensor([[1., 0., 0., 0., 0., 0., 0., 0., 0., 0., 0., 0., 0., 0., 0., 0., 0., 0.,\n",
            "         0., 0., 0., 0., 0., 0., 0., 0., 0., 0., 0., 0., 0., 0., 0.],\n",
            "        [0., 1., 0., 0., 0., 0., 0., 0., 0., 0., 0., 0., 0., 0., 0., 0., 0., 0.,\n",
            "         0., 0., 0., 0., 0., 0., 0., 0., 0., 0., 0., 0., 0., 0., 0.]])\n",
            "Target: tensor([[0., 1., 1., 0., 0., 0., 0., 0., 0., 0., 0., 0., 0., 0., 0., 0., 0., 0.,\n",
            "         0., 0., 0., 0., 0., 0., 0., 0., 0., 0., 0., 0., 0., 0., 0.],\n",
            "        [1., 0., 1., 1., 0., 0., 0., 0., 0., 0., 0., 0., 0., 0., 0., 0., 0., 0.,\n",
            "         0., 0., 0., 0., 0., 0., 0., 0., 0., 0., 0., 0., 0., 0., 0.]])\n"
          ]
        }
      ],
      "source": [
        "for x, y in data_loader:\n",
        "    print(f\"Input: {x}\")\n",
        "    print(f\"Target: {y}\")\n",
        "    break"
      ]
    },
    {
      "cell_type": "code",
      "execution_count": 8,
      "metadata": {
        "id": "OnR8WgGYbWu7",
        "outputId": "3f15bcaf-7897-4a25-bd68-2dda7ed9e68d",
        "colab": {
          "base_uri": "https://localhost:8080/"
        }
      },
      "outputs": [
        {
          "output_type": "stream",
          "name": "stdout",
          "text": [
            "['mountains'] ==> ['snow', 'ice']\n",
            "['snow'] ==> ['mountains', 'ice', 'peak']\n",
            "['ice'] ==> ['mountains', 'snow', 'peak', 'woods']\n",
            "['peak'] ==> ['snow', 'ice', 'woods', 'cold']\n",
            "['woods'] ==> ['ice', 'peak', 'cold']\n",
            "['cold'] ==> ['peak', 'woods']\n",
            "['beach'] ==> ['sand', 'sea']\n",
            "['sand'] ==> ['beach', 'sea', 'wave']\n",
            "['sea'] ==> ['beach', 'sand', 'wave', 'sun']\n",
            "['wave'] ==> ['sand', 'sea', 'sun', 'hot']\n",
            "['sun'] ==> ['sea', 'wave', 'hot']\n",
            "['hot'] ==> ['wave', 'sun']\n",
            "['desert'] ==> ['dune', 'cactus']\n",
            "['dune'] ==> ['sand', 'desert', 'cactus']\n"
          ]
        }
      ],
      "source": [
        "for i, (x, y) in enumerate(data_loader):\n",
        "    for batch_i in range(x.shape[0]):\n",
        "        x_indices = torch.where(x[batch_i] == 1)[0].numpy()\n",
        "        y_indices = torch.where(y[batch_i] == 1)[0].numpy()\n",
        "        input_word = f\"{[bow.idx2word[w_x] for w_x in x_indices]}\"\n",
        "        target_word = f\"{[bow.idx2word[w_y] for w_y in y_indices]}\"\n",
        "        print(f\"{input_word} ==> {target_word}\")\n",
        "    if i > 5:\n",
        "        break"
      ]
    },
    {
      "cell_type": "code",
      "source": [
        "# from sklearn.feature_extraction.text import CountVectorizer\n",
        "# import numpy as np\n",
        "# from torch.utils.data import DataLoader, TensorDataset\n",
        "\n",
        "# # Custom tokenizer to capture skip-grams\n",
        "# def skipgram_tokenizer(text, n=2, k=1):\n",
        "#     tokens = text.split()\n",
        "#     all_skipgrams = []\n",
        "#     # Loop over all possible n-grams\n",
        "#     for i in range(len(tokens) - n + 1):\n",
        "#         # Generate skip-grams by taking the first and last word\n",
        "#         # and skipping up to k words in between\n",
        "#         for j in range(i + n - 1, min(i + n + k, len(tokens))):\n",
        "#             skipgram = ' '.join([tokens[i], tokens[j]])\n",
        "#             all_skipgrams.append(skipgram)\n",
        "#     return all_skipgrams\n",
        "\n",
        "# #corpus\n",
        "# flattened_corpus = np.ravel(weather).tolist()\n",
        "# corpus = [\" \".join(flattened_corpus)] #all words as a single document\n",
        "\n",
        "# #CountVectorizer with the custom tokenizer\n",
        "# vectorizer = CountVectorizer(tokenizer=lambda doc: skipgram_tokenizer(doc, n=2, k=1))\n",
        "\n",
        "# #Fit and transform the corpus\n",
        "# X = vectorizer.fit_transform(corpus)\n",
        "\n",
        "# print(\"Vocabulary:\", vectorizer.get_feature_names_out())\n",
        "# print(\"\\nBoW Matrix:\")\n",
        "# print(X.toarray())\n",
        "\n",
        "# print(X.toarray().shape)\n",
        "# print(np.zeros(X.shape[-1]).shape)\n",
        "# dataset = TensorDataset(torch.Tensor(flattened_corpus), torch.Tensor(X.toarray()))\n",
        "# dataloader = DataLoader(dataset, batch_size=2, shuffle=False)\n",
        "\n",
        "# # Iterate over the dataloader to get batches\n",
        "# for inputs, labels in dataloader:\n",
        "#     print(f\"\\nBatch Inputs:\\n{inputs.numpy()}\")\n",
        "#     print(f\"Batch Labels:\\n{labels.numpy()}\")"
      ],
      "metadata": {
        "id": "cSMzxafdn36I"
      },
      "execution_count": 9,
      "outputs": []
    },
    {
      "cell_type": "markdown",
      "metadata": {
        "id": "xbvWf5epbWu8"
      },
      "source": [
        "## Build and train a predictor"
      ]
    },
    {
      "cell_type": "code",
      "execution_count": 13,
      "metadata": {
        "id": "_dyp3zDzbWu8"
      },
      "outputs": [],
      "source": [
        "#remove \"nlp.\" from w2w_readers\n",
        "import importlib\n",
        "import wordvec\n",
        "import w2w_readers\n",
        "importlib.reload(wordvec)\n",
        "importlib.reload(w2w_readers)\n",
        "import wordvec\n",
        "import w2w_readers\n",
        "from wordvec import Word2WordPrediction, Word2VecModel\n",
        "from w2w_readers import WordEmbeddings"
      ]
    },
    {
      "cell_type": "code",
      "execution_count": 14,
      "metadata": {
        "id": "MVGpZAMnbWu8",
        "outputId": "e4239203-d274-4d38-f0cb-144e075f3d8b",
        "colab": {
          "base_uri": "https://localhost:8080/"
        }
      },
      "outputs": [
        {
          "output_type": "stream",
          "name": "stderr",
          "text": [
            "100%|██████████| 50/50 [00:00<00:00, 61.46it/s]"
          ]
        },
        {
          "output_type": "stream",
          "name": "stdout",
          "text": [
            "10.488977962070042 9.725208653344048\n"
          ]
        },
        {
          "output_type": "stream",
          "name": "stderr",
          "text": [
            "\n"
          ]
        }
      ],
      "source": [
        "w2w = Word2WordPrediction(input_dim=bow.size, hidden_dim=4)\n",
        "epochs = 50\n",
        "learning_rate = 0.01\n",
        "history = w2w.train(data_loader=data_loader, epochs=epochs,\n",
        "                    learning_rate=learning_rate)\n",
        "print(history[0], history[-1])"
      ]
    },
    {
      "cell_type": "markdown",
      "metadata": {
        "id": "xhcZKa6ubWu9"
      },
      "source": [
        "### Predict next word"
      ]
    },
    {
      "cell_type": "code",
      "execution_count": 15,
      "metadata": {
        "id": "9O-sp5E9bWu9"
      },
      "outputs": [],
      "source": [
        "model = WordEmbeddings(words=bow, model=w2w)"
      ]
    },
    {
      "cell_type": "code",
      "execution_count": 16,
      "metadata": {
        "id": "9W4lxEi5bWu-",
        "outputId": "82678bfd-8432-4854-bad9-71dde6a3baab",
        "colab": {
          "base_uri": "https://localhost:8080/"
        }
      },
      "outputs": [
        {
          "output_type": "execute_result",
          "data": {
            "text/plain": [
              "array([ 1.870923  , -0.81277657, -2.1573446 , -0.76378447], dtype=float32)"
            ]
          },
          "metadata": {},
          "execution_count": 16
        }
      ],
      "source": [
        "model['desert']"
      ]
    },
    {
      "cell_type": "code",
      "execution_count": 17,
      "metadata": {
        "id": "ZDwxOxU6bWu-",
        "outputId": "962f9e59-1e84-4436-b559-6fa05c1f4634",
        "colab": {
          "base_uri": "https://localhost:8080/",
          "height": 398
        }
      },
      "outputs": [
        {
          "output_type": "execute_result",
          "data": {
            "text/plain": [
              "peak         0.994931\n",
              "snow         0.002671\n",
              "ice          0.000768\n",
              "woods        0.000273\n",
              "mountains    0.000257\n",
              "animal       0.000237\n",
              "rain         0.000129\n",
              "cold         0.000125\n",
              "forest       0.000081\n",
              "thunder      0.000077\n",
              "dtype: float32"
            ],
            "text/html": [
              "<div>\n",
              "<style scoped>\n",
              "    .dataframe tbody tr th:only-of-type {\n",
              "        vertical-align: middle;\n",
              "    }\n",
              "\n",
              "    .dataframe tbody tr th {\n",
              "        vertical-align: top;\n",
              "    }\n",
              "\n",
              "    .dataframe thead th {\n",
              "        text-align: right;\n",
              "    }\n",
              "</style>\n",
              "<table border=\"1\" class=\"dataframe\">\n",
              "  <thead>\n",
              "    <tr style=\"text-align: right;\">\n",
              "      <th></th>\n",
              "      <th>0</th>\n",
              "    </tr>\n",
              "  </thead>\n",
              "  <tbody>\n",
              "    <tr>\n",
              "      <th>peak</th>\n",
              "      <td>0.994931</td>\n",
              "    </tr>\n",
              "    <tr>\n",
              "      <th>snow</th>\n",
              "      <td>0.002671</td>\n",
              "    </tr>\n",
              "    <tr>\n",
              "      <th>ice</th>\n",
              "      <td>0.000768</td>\n",
              "    </tr>\n",
              "    <tr>\n",
              "      <th>woods</th>\n",
              "      <td>0.000273</td>\n",
              "    </tr>\n",
              "    <tr>\n",
              "      <th>mountains</th>\n",
              "      <td>0.000257</td>\n",
              "    </tr>\n",
              "    <tr>\n",
              "      <th>animal</th>\n",
              "      <td>0.000237</td>\n",
              "    </tr>\n",
              "    <tr>\n",
              "      <th>rain</th>\n",
              "      <td>0.000129</td>\n",
              "    </tr>\n",
              "    <tr>\n",
              "      <th>cold</th>\n",
              "      <td>0.000125</td>\n",
              "    </tr>\n",
              "    <tr>\n",
              "      <th>forest</th>\n",
              "      <td>0.000081</td>\n",
              "    </tr>\n",
              "    <tr>\n",
              "      <th>thunder</th>\n",
              "      <td>0.000077</td>\n",
              "    </tr>\n",
              "  </tbody>\n",
              "</table>\n",
              "</div><br><label><b>dtype:</b> float32</label>"
            ]
          },
          "metadata": {},
          "execution_count": 17
        }
      ],
      "source": [
        "query = 'snow'\n",
        "next_word = model.predict(query, topk=10)\n",
        "next_word"
      ]
    },
    {
      "cell_type": "markdown",
      "metadata": {
        "id": "0Gg0OUywbWu-"
      },
      "source": [
        "### Generate text"
      ]
    },
    {
      "cell_type": "code",
      "execution_count": 18,
      "metadata": {
        "id": "aul-mnUtbWu_"
      },
      "outputs": [],
      "source": [
        "import numpy as np"
      ]
    },
    {
      "cell_type": "code",
      "execution_count": 19,
      "metadata": {
        "id": "jOK-ikxKbWu_",
        "outputId": "888c25bb-5889-4a0b-8562-118509fb0fc4",
        "colab": {
          "base_uri": "https://localhost:8080/"
        }
      },
      "outputs": [
        {
          "output_type": "stream",
          "name": "stdout",
          "text": [
            "desert cactus sand wave sand wave sand\n"
          ]
        }
      ],
      "source": [
        "start = \"desert\"\n",
        "text = [start]\n",
        "for i in range(6):\n",
        "    p = model.predict(start)\n",
        "    next_word = np.random.choice(p.index.values, p=p.values / p.values.sum())\n",
        "    text.append(next_word)\n",
        "    start = next_word\n",
        "\n",
        "print(\" \".join(text))"
      ]
    },
    {
      "cell_type": "markdown",
      "metadata": {
        "id": "4YzZVP9LbWu_"
      },
      "source": [
        "## Word Embeddings\n",
        "The primary goal of embedding is to transform words from text, which machines can't understand, into a numerical format that captures their semantic meaning and relationships to other words. (ex. using Word2Vec through cbow or skip-gram)"
      ]
    },
    {
      "cell_type": "code",
      "execution_count": 21,
      "metadata": {
        "id": "PzNI3wy7bWu_"
      },
      "outputs": [],
      "source": [
        "search = 'snow'"
      ]
    },
    {
      "cell_type": "code",
      "execution_count": 23,
      "metadata": {
        "id": "yPTLrnW_bWvA",
        "outputId": "c6bc5442-3959-491a-c61f-31393686d713",
        "colab": {
          "base_uri": "https://localhost:8080/"
        }
      },
      "outputs": [
        {
          "output_type": "execute_result",
          "data": {
            "text/plain": [
              "array([ 1.2480648,  1.4827678,  0.9788397, -1.0827423], dtype=float32)"
            ]
          },
          "metadata": {},
          "execution_count": 23
        }
      ],
      "source": [
        "model[search]"
      ]
    },
    {
      "cell_type": "markdown",
      "metadata": {
        "id": "1bn43BvcbWvA"
      },
      "source": [
        "### Most similar"
      ]
    },
    {
      "cell_type": "code",
      "execution_count": 24,
      "metadata": {
        "id": "RtflypJqbWvA",
        "outputId": "bb9078fd-f6c6-4839-beb2-8fbfaa9b1319",
        "colab": {
          "base_uri": "https://localhost:8080/",
          "height": 398
        }
      },
      "outputs": [
        {
          "output_type": "execute_result",
          "data": {
            "text/plain": [
              "snow         1.000000\n",
              "cold         0.998594\n",
              "woods        0.997701\n",
              "ice          0.808312\n",
              "peak         0.357964\n",
              "mountains    0.350071\n",
              "tree         0.269793\n",
              "leaf         0.234893\n",
              "humidity     0.146644\n",
              "forest       0.136406\n",
              "Name: snow, dtype: float32"
            ],
            "text/html": [
              "<div>\n",
              "<style scoped>\n",
              "    .dataframe tbody tr th:only-of-type {\n",
              "        vertical-align: middle;\n",
              "    }\n",
              "\n",
              "    .dataframe tbody tr th {\n",
              "        vertical-align: top;\n",
              "    }\n",
              "\n",
              "    .dataframe thead th {\n",
              "        text-align: right;\n",
              "    }\n",
              "</style>\n",
              "<table border=\"1\" class=\"dataframe\">\n",
              "  <thead>\n",
              "    <tr style=\"text-align: right;\">\n",
              "      <th></th>\n",
              "      <th>snow</th>\n",
              "    </tr>\n",
              "  </thead>\n",
              "  <tbody>\n",
              "    <tr>\n",
              "      <th>snow</th>\n",
              "      <td>1.000000</td>\n",
              "    </tr>\n",
              "    <tr>\n",
              "      <th>cold</th>\n",
              "      <td>0.998594</td>\n",
              "    </tr>\n",
              "    <tr>\n",
              "      <th>woods</th>\n",
              "      <td>0.997701</td>\n",
              "    </tr>\n",
              "    <tr>\n",
              "      <th>ice</th>\n",
              "      <td>0.808312</td>\n",
              "    </tr>\n",
              "    <tr>\n",
              "      <th>peak</th>\n",
              "      <td>0.357964</td>\n",
              "    </tr>\n",
              "    <tr>\n",
              "      <th>mountains</th>\n",
              "      <td>0.350071</td>\n",
              "    </tr>\n",
              "    <tr>\n",
              "      <th>tree</th>\n",
              "      <td>0.269793</td>\n",
              "    </tr>\n",
              "    <tr>\n",
              "      <th>leaf</th>\n",
              "      <td>0.234893</td>\n",
              "    </tr>\n",
              "    <tr>\n",
              "      <th>humidity</th>\n",
              "      <td>0.146644</td>\n",
              "    </tr>\n",
              "    <tr>\n",
              "      <th>forest</th>\n",
              "      <td>0.136406</td>\n",
              "    </tr>\n",
              "  </tbody>\n",
              "</table>\n",
              "</div><br><label><b>dtype:</b> float32</label>"
            ]
          },
          "metadata": {},
          "execution_count": 24
        }
      ],
      "source": [
        "model.most_similar(search, topk=10)"
      ]
    },
    {
      "cell_type": "markdown",
      "metadata": {
        "id": "4nbn_SV5bWvB"
      },
      "source": [
        "### Visual map\n",
        "TSNE in sklearn is a powerful tool for visualizing high-dimensional data. It's a non-linear dimensionality reduction technique.\n",
        "Unlike linear methods like PCA, t-SNE focuses on preserving the local structure of the data. This means that points that are close to each other in the original high-dimensional space will remain close to each other in the low-dimensional plot. This makes it excellent for visually identifying clusters and patterns."
      ]
    },
    {
      "cell_type": "code",
      "execution_count": 25,
      "metadata": {
        "id": "hP7BmXKTbWvB"
      },
      "outputs": [],
      "source": [
        "from sklearn.manifold import TSNE\n",
        "import matplotlib.pyplot as plt\n",
        "\n",
        "plt.style.use('seaborn-v0_8-dark-palette')"
      ]
    },
    {
      "cell_type": "markdown",
      "source": [],
      "metadata": {
        "id": "27e5BzGYUrGu"
      }
    },
    {
      "cell_type": "code",
      "execution_count": 26,
      "metadata": {
        "id": "oXbcxke5bWvB"
      },
      "outputs": [],
      "source": [
        "tsne = TSNE(n_components=2)\n",
        "vectors = model.vectors(bow.vocabulary)\n",
        "v2d = tsne.fit_transform(vectors)"
      ]
    },
    {
      "cell_type": "code",
      "execution_count": 27,
      "metadata": {
        "id": "dLn61Z9YbWvB",
        "outputId": "ae5fe709-196f-4626-96ab-caf448cccf35",
        "colab": {
          "base_uri": "https://localhost:8080/",
          "height": 507
        }
      },
      "outputs": [
        {
          "output_type": "display_data",
          "data": {
            "text/plain": [
              "<Figure size 500x500 with 1 Axes>"
            ],
            "image/png": "[encoded data removed]"
          },
          "metadata": {}
        }
      ],
      "source": [
        "selected_words = bow.vocabulary\n",
        "indexes = [bow.word2idx[w] for w in selected_words]\n",
        "selected2d = v2d[indexes]\n",
        "\n",
        "fig, ax = plt.subplots(figsize=(5, 5))\n",
        "ax.scatter(selected2d[:,0], selected2d[:, 1])\n",
        "for i, w in enumerate(selected_words):\n",
        "    ax.text(selected2d[i][0] + .02, selected2d[i][1] + .02, w)\n",
        "plt.tight_layout()\n",
        "plt.show()"
      ]
    },
    {
      "cell_type": "markdown",
      "metadata": {
        "id": "2MHu2CzzbWvC"
      },
      "source": [
        "### Directions\n",
        "Each context shall have its unique direction."
      ]
    },
    {
      "cell_type": "code",
      "execution_count": 28,
      "metadata": {
        "id": "UEfS9tmZbWvC",
        "outputId": "cfe3cf0e-fee0-4cbc-d4de-6dac2367b2c9",
        "colab": {
          "base_uri": "https://localhost:8080/",
          "height": 407
        }
      },
      "outputs": [
        {
          "output_type": "display_data",
          "data": {
            "text/plain": [
              "<Figure size 400x400 with 1 Axes>"
            ],
            "image/png": "[encoded data removed]"
          },
          "metadata": {}
        }
      ],
      "source": [
        "def pointer(group, vectors):\n",
        "    g = vectors[[bow.word2idx[w] for w in group]]\n",
        "    return g.mean(axis=0)\n",
        "\n",
        "group1 = ['dune', 'beach', 'cactus', 'arid']\n",
        "group2 = ['snow', 'peak', 'mountains', 'ice']\n",
        "group3 = ['forest', 'tree', 'rain', 'humidity']\n",
        "g1 = pointer(group1, v2d)\n",
        "g2 = pointer(group2, v2d)\n",
        "g3 = pointer(group3, v2d)\n",
        "\n",
        "fig, ax = plt.subplots(figsize=(4, 4))\n",
        "ax.arrow(0, 0, g1[0], g1[1], head_width=0.05, head_length=0.05, fc='red', ec='red')\n",
        "ax.arrow(0, 0, g2[0], g2[1], head_width=0.05, head_length=0.05, fc='blue', ec='blue')\n",
        "ax.arrow(0, 0, g3[0], g3[1], head_width=0.05, head_length=0.05, fc='green', ec='green')\n",
        "plt.tight_layout()\n",
        "plt.show()"
      ]
    },
    {
      "cell_type": "markdown",
      "metadata": {
        "id": "sPAOekODbWvD"
      },
      "source": [
        "## Compositionality\n",
        "Extension methods defined in w2w_readers"
      ]
    },
    {
      "cell_type": "code",
      "execution_count": 29,
      "metadata": {
        "id": "QWR7JnJXbWvD",
        "outputId": "0bc09958-b9f2-4632-eba2-9a16250f2515",
        "colab": {
          "base_uri": "https://localhost:8080/",
          "height": 398
        }
      },
      "outputs": [
        {
          "output_type": "execute_result",
          "data": {
            "text/plain": [
              "sea         0.681636\n",
              "humidity    0.649006\n",
              "cloud       0.633445\n",
              "animal      0.618578\n",
              "thunder     0.615262\n",
              "wind        0.595469\n",
              "rainbow     0.565970\n",
              "hot         0.554537\n",
              "spring      0.518162\n",
              "river       0.494609\n",
              "dtype: float32"
            ],
            "text/html": [
              "<div>\n",
              "<style scoped>\n",
              "    .dataframe tbody tr th:only-of-type {\n",
              "        vertical-align: middle;\n",
              "    }\n",
              "\n",
              "    .dataframe tbody tr th {\n",
              "        vertical-align: top;\n",
              "    }\n",
              "\n",
              "    .dataframe thead th {\n",
              "        text-align: right;\n",
              "    }\n",
              "</style>\n",
              "<table border=\"1\" class=\"dataframe\">\n",
              "  <thead>\n",
              "    <tr style=\"text-align: right;\">\n",
              "      <th></th>\n",
              "      <th>0</th>\n",
              "    </tr>\n",
              "  </thead>\n",
              "  <tbody>\n",
              "    <tr>\n",
              "      <th>sea</th>\n",
              "      <td>0.681636</td>\n",
              "    </tr>\n",
              "    <tr>\n",
              "      <th>humidity</th>\n",
              "      <td>0.649006</td>\n",
              "    </tr>\n",
              "    <tr>\n",
              "      <th>cloud</th>\n",
              "      <td>0.633445</td>\n",
              "    </tr>\n",
              "    <tr>\n",
              "      <th>animal</th>\n",
              "      <td>0.618578</td>\n",
              "    </tr>\n",
              "    <tr>\n",
              "      <th>thunder</th>\n",
              "      <td>0.615262</td>\n",
              "    </tr>\n",
              "    <tr>\n",
              "      <th>wind</th>\n",
              "      <td>0.595469</td>\n",
              "    </tr>\n",
              "    <tr>\n",
              "      <th>rainbow</th>\n",
              "      <td>0.565970</td>\n",
              "    </tr>\n",
              "    <tr>\n",
              "      <th>hot</th>\n",
              "      <td>0.554537</td>\n",
              "    </tr>\n",
              "    <tr>\n",
              "      <th>spring</th>\n",
              "      <td>0.518162</td>\n",
              "    </tr>\n",
              "    <tr>\n",
              "      <th>river</th>\n",
              "      <td>0.494609</td>\n",
              "    </tr>\n",
              "  </tbody>\n",
              "</table>\n",
              "</div><br><label><b>dtype:</b> float32</label>"
            ]
          },
          "metadata": {},
          "execution_count": 29
        }
      ],
      "source": [
        "model.search(positive=['sand'], negative=['dune'])"
      ]
    },
    {
      "cell_type": "code",
      "execution_count": 30,
      "metadata": {
        "id": "cfKF1C9rbWvD",
        "outputId": "b20b8b5a-cc26-4f4d-8eab-df731bde27bb",
        "colab": {
          "base_uri": "https://localhost:8080/"
        }
      },
      "outputs": [
        {
          "output_type": "stream",
          "name": "stdout",
          "text": [
            "sand\n"
          ]
        }
      ],
      "source": [
        "answer, a_vector = model.analogy('sea', 'wave', 'desert')\n",
        "print(answer)"
      ]
    },
    {
      "cell_type": "code",
      "execution_count": 31,
      "metadata": {
        "id": "ZF-j76Q8bWvD",
        "outputId": "5c577725-5bea-4420-9bd7-13dcd0521d01",
        "colab": {
          "base_uri": "https://localhost:8080/",
          "height": 398
        }
      },
      "outputs": [
        {
          "output_type": "execute_result",
          "data": {
            "text/plain": [
              "sun          0.968798\n",
              "sand         0.935948\n",
              "desert       0.841983\n",
              "dune         0.774701\n",
              "hot          0.742572\n",
              "sea          0.686530\n",
              "mountains    0.346822\n",
              "peak         0.322439\n",
              "cactus       0.303974\n",
              "arid         0.283961\n",
              "dtype: float32"
            ],
            "text/html": [
              "<div>\n",
              "<style scoped>\n",
              "    .dataframe tbody tr th:only-of-type {\n",
              "        vertical-align: middle;\n",
              "    }\n",
              "\n",
              "    .dataframe tbody tr th {\n",
              "        vertical-align: top;\n",
              "    }\n",
              "\n",
              "    .dataframe thead th {\n",
              "        text-align: right;\n",
              "    }\n",
              "</style>\n",
              "<table border=\"1\" class=\"dataframe\">\n",
              "  <thead>\n",
              "    <tr style=\"text-align: right;\">\n",
              "      <th></th>\n",
              "      <th>0</th>\n",
              "    </tr>\n",
              "  </thead>\n",
              "  <tbody>\n",
              "    <tr>\n",
              "      <th>sun</th>\n",
              "      <td>0.968798</td>\n",
              "    </tr>\n",
              "    <tr>\n",
              "      <th>sand</th>\n",
              "      <td>0.935948</td>\n",
              "    </tr>\n",
              "    <tr>\n",
              "      <th>desert</th>\n",
              "      <td>0.841983</td>\n",
              "    </tr>\n",
              "    <tr>\n",
              "      <th>dune</th>\n",
              "      <td>0.774701</td>\n",
              "    </tr>\n",
              "    <tr>\n",
              "      <th>hot</th>\n",
              "      <td>0.742572</td>\n",
              "    </tr>\n",
              "    <tr>\n",
              "      <th>sea</th>\n",
              "      <td>0.686530</td>\n",
              "    </tr>\n",
              "    <tr>\n",
              "      <th>mountains</th>\n",
              "      <td>0.346822</td>\n",
              "    </tr>\n",
              "    <tr>\n",
              "      <th>peak</th>\n",
              "      <td>0.322439</td>\n",
              "    </tr>\n",
              "    <tr>\n",
              "      <th>cactus</th>\n",
              "      <td>0.303974</td>\n",
              "    </tr>\n",
              "    <tr>\n",
              "      <th>arid</th>\n",
              "      <td>0.283961</td>\n",
              "    </tr>\n",
              "  </tbody>\n",
              "</table>\n",
              "</div><br><label><b>dtype:</b> float32</label>"
            ]
          },
          "metadata": {},
          "execution_count": 31
        }
      ],
      "source": [
        "model.common_meanings(['sea', 'wave', 'desert', 'sand'])"
      ]
    },
    {
      "cell_type": "code",
      "execution_count": 32,
      "metadata": {
        "id": "Q9nlGg7SbWvE",
        "outputId": "6f34e0dc-f1d0-4d90-82aa-22c6de698153",
        "colab": {
          "base_uri": "https://localhost:8080/",
          "height": 210
        }
      },
      "outputs": [
        {
          "output_type": "execute_result",
          "data": {
            "text/plain": [
              "sand         0.296634\n",
              "snow         0.480070\n",
              "peak         0.944787\n",
              "mountains    0.948399\n",
              "dtype: float32"
            ],
            "text/html": [
              "<div>\n",
              "<style scoped>\n",
              "    .dataframe tbody tr th:only-of-type {\n",
              "        vertical-align: middle;\n",
              "    }\n",
              "\n",
              "    .dataframe tbody tr th {\n",
              "        vertical-align: top;\n",
              "    }\n",
              "\n",
              "    .dataframe thead th {\n",
              "        text-align: right;\n",
              "    }\n",
              "</style>\n",
              "<table border=\"1\" class=\"dataframe\">\n",
              "  <thead>\n",
              "    <tr style=\"text-align: right;\">\n",
              "      <th></th>\n",
              "      <th>0</th>\n",
              "    </tr>\n",
              "  </thead>\n",
              "  <tbody>\n",
              "    <tr>\n",
              "      <th>sand</th>\n",
              "      <td>0.296634</td>\n",
              "    </tr>\n",
              "    <tr>\n",
              "      <th>snow</th>\n",
              "      <td>0.480070</td>\n",
              "    </tr>\n",
              "    <tr>\n",
              "      <th>peak</th>\n",
              "      <td>0.944787</td>\n",
              "    </tr>\n",
              "    <tr>\n",
              "      <th>mountains</th>\n",
              "      <td>0.948399</td>\n",
              "    </tr>\n",
              "  </tbody>\n",
              "</table>\n",
              "</div><br><label><b>dtype:</b> float32</label>"
            ]
          },
          "metadata": {},
          "execution_count": 32
        }
      ],
      "source": [
        "model.spot_odd_one(words=['mountains', 'peak', 'snow', 'sand'])"
      ]
    },
    {
      "cell_type": "code",
      "execution_count": 33,
      "metadata": {
        "id": "lEW3jkIUbWvE",
        "outputId": "a1dca605-f740-4b0b-d541-cd8242e56ebd",
        "colab": {
          "base_uri": "https://localhost:8080/",
          "height": 398
        }
      },
      "outputs": [
        {
          "output_type": "execute_result",
          "data": {
            "text/plain": [
              "sea         0.877635\n",
              "hot         0.792069\n",
              "sand        0.614336\n",
              "forest      0.532888\n",
              "humidity    0.321182\n",
              "animal      0.244321\n",
              "thunder     0.242673\n",
              "cloud       0.231636\n",
              "wind        0.231450\n",
              "spring      0.203893\n",
              "dtype: float32"
            ],
            "text/html": [
              "<div>\n",
              "<style scoped>\n",
              "    .dataframe tbody tr th:only-of-type {\n",
              "        vertical-align: middle;\n",
              "    }\n",
              "\n",
              "    .dataframe tbody tr th {\n",
              "        vertical-align: top;\n",
              "    }\n",
              "\n",
              "    .dataframe thead th {\n",
              "        text-align: right;\n",
              "    }\n",
              "</style>\n",
              "<table border=\"1\" class=\"dataframe\">\n",
              "  <thead>\n",
              "    <tr style=\"text-align: right;\">\n",
              "      <th></th>\n",
              "      <th>0</th>\n",
              "    </tr>\n",
              "  </thead>\n",
              "  <tbody>\n",
              "    <tr>\n",
              "      <th>sea</th>\n",
              "      <td>0.877635</td>\n",
              "    </tr>\n",
              "    <tr>\n",
              "      <th>hot</th>\n",
              "      <td>0.792069</td>\n",
              "    </tr>\n",
              "    <tr>\n",
              "      <th>sand</th>\n",
              "      <td>0.614336</td>\n",
              "    </tr>\n",
              "    <tr>\n",
              "      <th>forest</th>\n",
              "      <td>0.532888</td>\n",
              "    </tr>\n",
              "    <tr>\n",
              "      <th>humidity</th>\n",
              "      <td>0.321182</td>\n",
              "    </tr>\n",
              "    <tr>\n",
              "      <th>animal</th>\n",
              "      <td>0.244321</td>\n",
              "    </tr>\n",
              "    <tr>\n",
              "      <th>thunder</th>\n",
              "      <td>0.242673</td>\n",
              "    </tr>\n",
              "    <tr>\n",
              "      <th>cloud</th>\n",
              "      <td>0.231636</td>\n",
              "    </tr>\n",
              "    <tr>\n",
              "      <th>wind</th>\n",
              "      <td>0.231450</td>\n",
              "    </tr>\n",
              "    <tr>\n",
              "      <th>spring</th>\n",
              "      <td>0.203893</td>\n",
              "    </tr>\n",
              "  </tbody>\n",
              "</table>\n",
              "</div><br><label><b>dtype:</b> float32</label>"
            ]
          },
          "metadata": {},
          "execution_count": 33
        }
      ],
      "source": [
        "model.search(positive=['sea'], negative=['wave'])"
      ]
    },
    {
      "cell_type": "code",
      "execution_count": 34,
      "metadata": {
        "id": "h62phNM9bWvE",
        "outputId": "58abab5a-014a-4f4f-8bff-fcca2ab04616",
        "colab": {
          "base_uri": "https://localhost:8080/",
          "height": 398
        }
      },
      "outputs": [
        {
          "output_type": "execute_result",
          "data": {
            "text/plain": [
              "sand         0.917332\n",
              "sea          0.899262\n",
              "hot          0.884339\n",
              "sun          0.683485\n",
              "desert       0.647889\n",
              "forest       0.475379\n",
              "dune         0.367435\n",
              "mountains    0.245881\n",
              "peak         0.233092\n",
              "spring       0.110844\n",
              "dtype: float32"
            ],
            "text/html": [
              "<div>\n",
              "<style scoped>\n",
              "    .dataframe tbody tr th:only-of-type {\n",
              "        vertical-align: middle;\n",
              "    }\n",
              "\n",
              "    .dataframe tbody tr th {\n",
              "        vertical-align: top;\n",
              "    }\n",
              "\n",
              "    .dataframe thead th {\n",
              "        text-align: right;\n",
              "    }\n",
              "</style>\n",
              "<table border=\"1\" class=\"dataframe\">\n",
              "  <thead>\n",
              "    <tr style=\"text-align: right;\">\n",
              "      <th></th>\n",
              "      <th>0</th>\n",
              "    </tr>\n",
              "  </thead>\n",
              "  <tbody>\n",
              "    <tr>\n",
              "      <th>sand</th>\n",
              "      <td>0.917332</td>\n",
              "    </tr>\n",
              "    <tr>\n",
              "      <th>sea</th>\n",
              "      <td>0.899262</td>\n",
              "    </tr>\n",
              "    <tr>\n",
              "      <th>hot</th>\n",
              "      <td>0.884339</td>\n",
              "    </tr>\n",
              "    <tr>\n",
              "      <th>sun</th>\n",
              "      <td>0.683485</td>\n",
              "    </tr>\n",
              "    <tr>\n",
              "      <th>desert</th>\n",
              "      <td>0.647889</td>\n",
              "    </tr>\n",
              "    <tr>\n",
              "      <th>forest</th>\n",
              "      <td>0.475379</td>\n",
              "    </tr>\n",
              "    <tr>\n",
              "      <th>dune</th>\n",
              "      <td>0.367435</td>\n",
              "    </tr>\n",
              "    <tr>\n",
              "      <th>mountains</th>\n",
              "      <td>0.245881</td>\n",
              "    </tr>\n",
              "    <tr>\n",
              "      <th>peak</th>\n",
              "      <td>0.233092</td>\n",
              "    </tr>\n",
              "    <tr>\n",
              "      <th>spring</th>\n",
              "      <td>0.110844</td>\n",
              "    </tr>\n",
              "  </tbody>\n",
              "</table>\n",
              "</div><br><label><b>dtype:</b> float32</label>"
            ]
          },
          "metadata": {},
          "execution_count": 34
        }
      ],
      "source": [
        "model.search(positive=['dune', 'sea'], negative=['wave'])"
      ]
    },
    {
      "cell_type": "code",
      "execution_count": null,
      "metadata": {
        "id": "uTaTAtJWbWvE"
      },
      "outputs": [],
      "source": []
    }
  ],
  "metadata": {
    "kernelspec": {
      "display_name": "nlp",
      "language": "python",
      "name": "python3"
    },
    "language_info": {
      "codemirror_mode": {
        "name": "ipython",
        "version": 3
      },
      "file_extension": ".py",
      "mimetype": "text/x-python",
      "name": "python",
      "nbconvert_exporter": "python",
      "pygments_lexer": "ipython3",
      "version": "3.10.4"
    },
    "colab": {
      "provenance": []
    }
  },
  "nbformat": 4,
  "nbformat_minor": 0
}