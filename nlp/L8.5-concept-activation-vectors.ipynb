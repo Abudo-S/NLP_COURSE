{
  "cells": [
    {
      "cell_type": "markdown",
      "source": [],
      "metadata": {
        "id": "ZlLbX3ntkp4I"
      },
      "id": "ZlLbX3ntkp4I"
    },
    {
      "cell_type": "markdown",
      "id": "8af592e8",
      "metadata": {
        "id": "8af592e8"
      },
      "source": [
        "## CAV explanation on text\n",
        "\n",
        "Concept Activation Vectors, are a technique for explaining the predictions of a neural network in terms of human-understandable concepts. Instead of explaining a prediction by highlighting individual features (like words), CAVs explain it by quantifying how much a model relies on a high-level concept (e.g., \"sentiment\" or \"politeness\").\n",
        "\n",
        "How CAVs Work:\n",
        "\n",
        "The core idea is to represent a concept as a vector in the neural network's activation space.\n",
        "\n",
        "* Define a Concept: A human-interpretable concept is defined by providing a set of example sentences that contain that concept. For instance, the concept of \"positive sentiment\" could be defined by a set of movie reviews that are highly positive. A second set of \"negative\" or \"neutral\" examples is also needed.\n",
        "\n",
        "* Generate Activations: Both the concept examples and the neutral examples are passed through a specific layer of the neural network. The activations (the output of the neurons) for each example are then collected.\n",
        "\n",
        "* Train a Classifier: A simple linear classifier is trained on these activation vectors to distinguish the concept examples from the neutral examples. The classifier's job is to find a decision boundary that best separates the two groups.\n",
        "\n",
        "* Create the CAV: The Concept Activation Vector (CAV) is the vector that is perpendicular (orthogonal) to this learned decision boundary. This vector represents the \"direction\" of the concept in the network's internal representation.\n",
        "\n",
        "* Quantify Importance (TCAV): Once the CAV is created, a method called Testing with CAVs (TCAV) is used to quantify the concept's importance for a given prediction. This is done by calculating the directional derivative of the model's output along the CAV. Essentially, it measures how much the model's prediction changes when you move in the direction of that concept."
      ]
    },
    {
      "cell_type": "code",
      "execution_count": null,
      "id": "a70db43b",
      "metadata": {
        "id": "a70db43b"
      },
      "outputs": [],
      "source": [
        "import torch\n",
        "from transformers import AutoModel, AutoTokenizer\n",
        "#transformers.AutoModel is a PyTorch class that allows us to load any pre-trained model from a model checkpoint,\n",
        "#such as those on the Hugging Face Hub, without needing to know the specific model architecture class.\n",
        "#It's a key part of the Hugging Face transformers library's \"auto-magic\" functionality."
      ]
    },
    {
      "cell_type": "markdown",
      "id": "360fc9c9",
      "metadata": {
        "id": "360fc9c9"
      },
      "source": [
        "### Concepts\n",
        "A concept is a human-understandable idea that is represented by a set of example images or text snippets. It's a high-level, semantic notion, not a low-level feature like a pixel or a word.\n",
        "In our case, concepts are pre-defined sets of text examples."
      ]
    },
    {
      "cell_type": "code",
      "execution_count": null,
      "id": "28df6ca0",
      "metadata": {
        "id": "28df6ca0"
      },
      "outputs": [],
      "source": [
        "cooking = [\n",
        "    \"Heat a non-stick pan with a drizzle of oil and add the chopped onion, letting it brown over medium heat.\",\n",
        "    \"Add the peeled tomatoes, adjust the salt, and let cook at low heat for 15 minutes in the oven.\",\n",
        "    \"Bring a pot of salted water to a boil, cook the pasta until al dente, and drain it directly into the prepared sauce.\"\n",
        "]\n",
        "\n",
        "preparation = [\n",
        "    \"Finely chop the parsley and garlic, then set them aside in a bowl.\",\n",
        "    \"Cut the vegetables into evenly sized cubes to ensure uniform cooking.\",\n",
        "    \"Beat the eggs with a fork until you get a smooth mixture, then add a pinch of salt.\"\n",
        "]\n",
        "\n",
        "ingredients = [\n",
        "    \"400 grams of chicken breast, 2 zucchinis, 1 garlic clove.\",\n",
        "    \"3 eggs, 100 grams of butter, a pinch of salt.\",\n",
        "    \"250 ml of milk, 50 grams of cocoa powder, 1 teaspoon of vanilla extract.\"\n",
        "]"
      ]
    },
    {
      "cell_type": "markdown",
      "id": "3f6280bb",
      "metadata": {
        "id": "3f6280bb"
      },
      "source": [
        "## Get model activations"
      ]
    },
    {
      "cell_type": "code",
      "execution_count": null,
      "id": "918f189b",
      "metadata": {
        "id": "918f189b"
      },
      "outputs": [],
      "source": [
        "model_name = \"bert-base-uncased\"\n",
        "tokenizer = AutoTokenizer.from_pretrained(model_name)\n",
        "model = AutoModel.from_pretrained(model_name)\n",
        "model.eval()\n",
        "\n",
        "def get_activations(texts):\n",
        "    inputs = tokenizer(texts, padding=True, truncation=True, max_length=128, return_tensors=\"pt\")\n",
        "    with torch.no_grad():\n",
        "        outputs = model(**inputs)\n",
        "        return outputs.last_hidden_state.mean(dim=1).numpy()  # Mean across tokens\n",
        "\n",
        "cooking_activations = get_activations(cooking)\n",
        "preparation_activations = get_activations(preparation)\n",
        "ingredients_activations = get_activations(ingredients)"
      ]
    },
    {
      "cell_type": "markdown",
      "id": "f3a025cd",
      "metadata": {
        "id": "f3a025cd"
      },
      "source": [
        "## Find a linear boundary between examples"
      ]
    },
    {
      "cell_type": "code",
      "execution_count": null,
      "id": "0ff576f1",
      "metadata": {
        "id": "0ff576f1"
      },
      "outputs": [],
      "source": [
        "from sklearn.linear_model import LogisticRegression\n",
        "import numpy as np\n",
        "\n",
        "X = np.vstack([cooking_activations, preparation_activations, ingredients_activations])\n",
        "y = np.array([0] * len(cooking_activations) + [1] * len(preparation_activations) + [2] * len(ingredients_activations))\n",
        "\n",
        "#Model's coefficients are the weights that the model assigns to each feature for a specific output class.\n",
        "cav_classifier = LogisticRegression().fit(X, y)\n",
        "cav_cottura = cav_classifier.coef_[0] #The shape of coef_ is (n_classes, n_features). Each row corresponds to the coefficients for one of the classes.\n",
        "cav_preparazione = cav_classifier.coef_[1]\n",
        "cav_ingredienti = cav_classifier.coef_[2]\n"
      ]
    },
    {
      "cell_type": "markdown",
      "id": "011c6bee",
      "metadata": {
        "id": "011c6bee"
      },
      "source": [
        "## Compute concept importance"
      ]
    },
    {
      "cell_type": "code",
      "execution_count": null,
      "id": "2b9cc61b",
      "metadata": {
        "id": "2b9cc61b",
        "outputId": "cd4e8382-07c1-42f1-91cb-4519bc551f75"
      },
      "outputs": [
        {
          "name": "stdout",
          "output_type": "stream",
          "text": [
            "cooking: 0.7030524984789631\n",
            "preparation: 0.09999056806400607\n",
            "ingredients: -0.8030430665429442\n"
          ]
        }
      ],
      "source": [
        "def concept_importance(input_text):\n",
        "    activations = get_activations([input_text])\n",
        "    #measures the similarity between each class coeffients and the input's activations\n",
        "    cottura_rel = np.dot(activations, cav_cottura)\n",
        "    preparazione_rel = np.dot(activations, cav_preparazione)\n",
        "    ingredienti_rel = np.dot(activations, cav_ingredienti)\n",
        "    return np.array([cottura_rel, preparazione_rel, ingredienti_rel])\n",
        "\n",
        "c_example = \"boil water and add salt. Use a pan to heat oil.\"\n",
        "p_example = \"cut onions in slices, stage the flavor in a cup\"\n",
        "i_example = \"300 g of tomato sauce, 10 grams of olive oil\"\n",
        "x_example = \"go in computer settings and set up an update of the os\"\n",
        "\n",
        "out = concept_importance(x_example)\n",
        "\n",
        "labels = ['cooking', 'preparation', 'ingredients']\n",
        "for i, x in enumerate(out):\n",
        "    print(f\"{labels[i]}: {x[0]}\")"
      ]
    },
    {
      "cell_type": "code",
      "execution_count": null,
      "id": "bc24ec15",
      "metadata": {
        "id": "bc24ec15"
      },
      "outputs": [],
      "source": []
    }
  ],
  "metadata": {
    "kernelspec": {
      "display_name": "nlp",
      "language": "python",
      "name": "python3"
    },
    "language_info": {
      "codemirror_mode": {
        "name": "ipython",
        "version": 3
      },
      "file_extension": ".py",
      "mimetype": "text/x-python",
      "name": "python",
      "nbconvert_exporter": "python",
      "pygments_lexer": "ipython3",
      "version": "3.10.4"
    },
    "colab": {
      "provenance": []
    }
  },
  "nbformat": 4,
  "nbformat_minor": 5
}