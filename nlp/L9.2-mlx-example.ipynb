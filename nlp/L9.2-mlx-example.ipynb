{
  "cells": [
    {
      "cell_type": "markdown",
      "id": "c1fd4dfb",
      "metadata": {
        "id": "c1fd4dfb"
      },
      "source": [
        "##### Master Degree in Computer Science and Data Science for Economics\n",
        "\n",
        "# MLX LM\n",
        "\n",
        "### Sergio Picascia\n",
        "\n",
        "[MLX LM](https://github.com/ml-explore/mlx-lm)  is a Python package for generating text and fine-tuning large language models on Apple silicon with MLX.  \n",
        "It's an equivalent to llama.cpp but for apple silicon only."
      ]
    },
    {
      "cell_type": "code",
      "execution_count": 1,
      "id": "2f4b5991",
      "metadata": {
        "id": "2f4b5991",
        "outputId": "a7f82d4e-c92f-43c7-ef54-3bfeb5bc715c",
        "colab": {
          "base_uri": "https://localhost:8080/"
        }
      },
      "outputs": [
        {
          "output_type": "stream",
          "name": "stdout",
          "text": [
            "Collecting mlx-lm\n",
            "  Downloading mlx_lm-0.27.0-py3-none-any.whl.metadata (10 kB)\n",
            "Collecting mlx>=0.29.0 (from mlx-lm)\n",
            "  Downloading mlx-0.29.0-cp312-cp312-manylinux_2_35_x86_64.whl.metadata (5.7 kB)\n",
            "Requirement already satisfied: numpy in /usr/local/lib/python3.12/dist-packages (from mlx-lm) (2.0.2)\n",
            "Requirement already satisfied: transformers>=4.39.3 in /usr/local/lib/python3.12/dist-packages (from mlx-lm) (4.55.4)\n",
            "Requirement already satisfied: protobuf in /usr/local/lib/python3.12/dist-packages (from mlx-lm) (5.29.5)\n",
            "Requirement already satisfied: pyyaml in /usr/local/lib/python3.12/dist-packages (from mlx-lm) (6.0.2)\n",
            "Requirement already satisfied: jinja2 in /usr/local/lib/python3.12/dist-packages (from mlx-lm) (3.1.6)\n",
            "Requirement already satisfied: filelock in /usr/local/lib/python3.12/dist-packages (from transformers>=4.39.3->mlx-lm) (3.19.1)\n",
            "Requirement already satisfied: huggingface-hub<1.0,>=0.34.0 in /usr/local/lib/python3.12/dist-packages (from transformers>=4.39.3->mlx-lm) (0.34.4)\n",
            "Requirement already satisfied: packaging>=20.0 in /usr/local/lib/python3.12/dist-packages (from transformers>=4.39.3->mlx-lm) (25.0)\n",
            "Requirement already satisfied: regex!=2019.12.17 in /usr/local/lib/python3.12/dist-packages (from transformers>=4.39.3->mlx-lm) (2024.11.6)\n",
            "Requirement already satisfied: requests in /usr/local/lib/python3.12/dist-packages (from transformers>=4.39.3->mlx-lm) (2.32.4)\n",
            "Requirement already satisfied: tokenizers<0.22,>=0.21 in /usr/local/lib/python3.12/dist-packages (from transformers>=4.39.3->mlx-lm) (0.21.4)\n",
            "Requirement already satisfied: safetensors>=0.4.3 in /usr/local/lib/python3.12/dist-packages (from transformers>=4.39.3->mlx-lm) (0.6.2)\n",
            "Requirement already satisfied: tqdm>=4.27 in /usr/local/lib/python3.12/dist-packages (from transformers>=4.39.3->mlx-lm) (4.67.1)\n",
            "Requirement already satisfied: MarkupSafe>=2.0 in /usr/local/lib/python3.12/dist-packages (from jinja2->mlx-lm) (3.0.2)\n",
            "Requirement already satisfied: fsspec>=2023.5.0 in /usr/local/lib/python3.12/dist-packages (from huggingface-hub<1.0,>=0.34.0->transformers>=4.39.3->mlx-lm) (2025.3.0)\n",
            "Requirement already satisfied: typing-extensions>=3.7.4.3 in /usr/local/lib/python3.12/dist-packages (from huggingface-hub<1.0,>=0.34.0->transformers>=4.39.3->mlx-lm) (4.15.0)\n",
            "Requirement already satisfied: hf-xet<2.0.0,>=1.1.3 in /usr/local/lib/python3.12/dist-packages (from huggingface-hub<1.0,>=0.34.0->transformers>=4.39.3->mlx-lm) (1.1.8)\n",
            "Requirement already satisfied: charset_normalizer<4,>=2 in /usr/local/lib/python3.12/dist-packages (from requests->transformers>=4.39.3->mlx-lm) (3.4.3)\n",
            "Requirement already satisfied: idna<4,>=2.5 in /usr/local/lib/python3.12/dist-packages (from requests->transformers>=4.39.3->mlx-lm) (3.10)\n",
            "Requirement already satisfied: urllib3<3,>=1.21.1 in /usr/local/lib/python3.12/dist-packages (from requests->transformers>=4.39.3->mlx-lm) (2.5.0)\n",
            "Requirement already satisfied: certifi>=2017.4.17 in /usr/local/lib/python3.12/dist-packages (from requests->transformers>=4.39.3->mlx-lm) (2025.8.3)\n",
            "Downloading mlx_lm-0.27.0-py3-none-any.whl (245 kB)\n",
            "\u001b[2K   \u001b[90m━━━━━━━━━━━━━━━━━━━━━━━━━━━━━━━━━━━━━━━━\u001b[0m \u001b[32m245.6/245.6 kB\u001b[0m \u001b[31m8.4 MB/s\u001b[0m eta \u001b[36m0:00:00\u001b[0m\n",
            "\u001b[?25hDownloading mlx-0.29.0-cp312-cp312-manylinux_2_35_x86_64.whl (645 kB)\n",
            "\u001b[2K   \u001b[90m━━━━━━━━━━━━━━━━━━━━━━━━━━━━━━━━━━━━━━━━\u001b[0m \u001b[32m645.0/645.0 kB\u001b[0m \u001b[31m33.6 MB/s\u001b[0m eta \u001b[36m0:00:00\u001b[0m\n",
            "\u001b[?25hInstalling collected packages: mlx, mlx-lm\n",
            "Successfully installed mlx-0.29.0 mlx-lm-0.27.0\n"
          ]
        }
      ],
      "source": [
        "%pip install mlx-lm"
      ]
    },
    {
      "cell_type": "code",
      "execution_count": null,
      "id": "21a2fa5e",
      "metadata": {
        "id": "21a2fa5e",
        "outputId": "2798500e-84b9-49a0-86ec-5b3121feb82c"
      },
      "outputs": [
        {
          "name": "stderr",
          "output_type": "stream",
          "text": [
            "/Users/sergiopicascia/.pyenv/versions/3.11.5/envs/bgrules/lib/python3.11/site-packages/tqdm/auto.py:21: TqdmWarning: IProgress not found. Please update jupyter and ipywidgets. See https://ipywidgets.readthedocs.io/en/stable/user_install.html\n",
            "  from .autonotebook import tqdm as notebook_tqdm\n"
          ]
        }
      ],
      "source": [
        "from mlx_lm import load, generate"
      ]
    },
    {
      "cell_type": "code",
      "execution_count": null,
      "id": "cd930fcf",
      "metadata": {
        "id": "cd930fcf",
        "outputId": "b880f5ad-e041-4401-d9bf-67c87cef0fbc"
      },
      "outputs": [
        {
          "name": "stderr",
          "output_type": "stream",
          "text": [
            "Fetching 6 files: 100%|██████████| 6/6 [13:55<00:00, 139.30s/it]\n"
          ]
        }
      ],
      "source": [
        "model, tokenizer = load(\"mlx-community/Meta-Llama-3.1-8B-Instruct-4bit\")"
      ]
    },
    {
      "cell_type": "code",
      "execution_count": null,
      "id": "3a03c778",
      "metadata": {
        "id": "3a03c778",
        "outputId": "5557c4e9-6cf0-446a-f823-87f3fd0556a6"
      },
      "outputs": [
        {
          "name": "stdout",
          "output_type": "stream",
          "text": [
            "==========\n"
          ]
        },
        {
          "name": "stderr",
          "output_type": "stream",
          "text": [
            "mx.metal.set_wired_limt is deprecated and will be removed in a future version. Use mx.set_wired_limit instead.\n"
          ]
        },
        {
          "name": "stdout",
          "output_type": "stream",
          "text": [
            "There are eight planets in our solar system. They are:\n",
            "\n",
            "1. Mercury"
          ]
        },
        {
          "name": "stderr",
          "output_type": "stream",
          "text": [
            "mx.metal.get_peak_memory is deprecated and will be removed in a future version. Use mx.get_peak_memory instead.\n",
            "mx.metal.clear_cache is deprecated and will be removed in a future version. Use mx.clear_cache instead.\n"
          ]
        },
        {
          "name": "stdout",
          "output_type": "stream",
          "text": [
            ": The closest planet to the sun, Mercury is a small, rocky world with a highly eccentric orbit.\n",
            "\n",
            "2. Venus: Often called Earth's twin due to its similar size and mass, Venus is a scorching hot planet with a thick atmosphere that traps heat.\n",
            "\n",
            "3. Earth: Our home planet, Earth is a terrestrial world with a diverse range of environments and life forms.\n",
            "\n",
            "4. Mars: A rocky planet with a thin atmosphere, Mars is a potential candidate for supporting life and has been the subject of numerous robotic missions.\n",
            "\n",
            "5. Jupiter: The largest planet in our solar system, Jupiter is a gas giant with massive storms and a system of moons.\n",
            "\n",
            "6. Saturn: Another gas giant, Saturn is known for its stunning ring system and numerous moons.\n",
            "\n",
            "7. Uranus: An icy planet with a tilted axis, Uranus is a distant world with a thin atmosphere and a system of moons.\n",
            "\n",
            "8. Neptune: The farthest planet from the sun, Neptune is a cold, icy world with strong winds and a system of moons.\n",
            "\n",
            "Note: Pluto was previously considered a planet but was reclassified as a dwarf planet in 2006 by the International Astronomical Union (IAU).\n",
            "==========\n",
            "Prompt: 44 tokens, 85.860 tokens-per-sec\n",
            "Generation: 256 tokens, 74.028 tokens-per-sec\n",
            "Peak memory: 4.646 GB\n"
          ]
        }
      ],
      "source": [
        "prompt = \"What are the planets of the solar system?\"\n",
        "\n",
        "messages = [{\"role\": \"user\", \"content\": prompt}]\n",
        "prompt = tokenizer.apply_chat_template(\n",
        "    messages, add_generation_prompt=True\n",
        ")\n",
        "\n",
        "text = generate(model, tokenizer, prompt=prompt, verbose=True)"
      ]
    },
    {
      "cell_type": "code",
      "execution_count": null,
      "id": "94c1e6b6",
      "metadata": {
        "id": "94c1e6b6"
      },
      "outputs": [],
      "source": []
    }
  ],
  "metadata": {
    "kernelspec": {
      "display_name": "bgrules",
      "language": "python",
      "name": "python3"
    },
    "language_info": {
      "codemirror_mode": {
        "name": "ipython",
        "version": 3
      },
      "file_extension": ".py",
      "mimetype": "text/x-python",
      "name": "python",
      "nbconvert_exporter": "python",
      "pygments_lexer": "ipython3",
      "version": "3.11.5"
    },
    "colab": {
      "provenance": []
    }
  },
  "nbformat": 4,
  "nbformat_minor": 5
}