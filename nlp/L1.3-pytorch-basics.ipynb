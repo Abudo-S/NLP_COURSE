{
  "cells": [
    {
      "cell_type": "markdown",
      "id": "64418514",
      "metadata": {
        "id": "64418514"
      },
      "source": [
        "##### Master Degree in Computer Science and Data Science for Economics\n",
        "\n",
        "# Quick introduction to neural networks as functions approximators\n",
        "\n",
        "### Alfio Ferrara (materials from Darya Shlyk)"
      ]
    },
    {
      "cell_type": "markdown",
      "metadata": {
        "id": "7ZscIUpkfC3b"
      },
      "source": [
        "<p style=\"align: center;\"><img src=\"http://upload.wikimedia.org/wikipedia/commons/9/96/Pytorch_logo.png\" width=400 height=100></p>"
      ],
      "id": "7ZscIUpkfC3b"
    },
    {
      "cell_type": "markdown",
      "metadata": {
        "id": "YPlQAqeffC3c"
      },
      "source": [
        "## <h3 style=\"text-align: center;\"><b>Installing PyTorch</b>"
      ],
      "id": "YPlQAqeffC3c"
    },
    {
      "cell_type": "markdown",
      "metadata": {
        "id": "we8LjoU_fC3d"
      },
      "source": [
        "Go to [pytorch.org](https://pytorch.org/) and install PyTorch version choosing your system preferences."
      ],
      "id": "we8LjoU_fC3d"
    },
    {
      "cell_type": "code",
      "execution_count": 2,
      "metadata": {
        "id": "QvN9tzVNfC3e"
      },
      "outputs": [],
      "source": [
        "import torch"
      ],
      "id": "QvN9tzVNfC3e"
    },
    {
      "cell_type": "markdown",
      "metadata": {
        "id": "R0KzlYrTfC3f"
      },
      "source": [
        "PyTorch is a deep learning framework, build on 3 main components.\n",
        "\n",
        "$$ PyTorch = NumPy + CUDA +Autograd$$\n",
        "\n",
        "PyTorch works with ``tensor`` data structure, which is similar to NumPy's ``ndarray``, except that:\n",
        " 1. tensors can run on GPUs or other hardware accelerators via [CUDA](http://en.wikipedia.org/wiki/CUDA)\n",
        " 2. tensors are also optimized for automatic differentiation (Autograd)\n",
        "\n",
        "Tensor is a multi-dimensional array:\n",
        "- a scalar is a zero dimensional tensor : `` x = 9 # shape ([])``\n",
        "- a vector, is a 1d tensor : `` y = [9, 5, 10] # shape ([3])``\n",
        "- a matrix is a 2d tensor : `` z = [[9, 5, 10], [12, 6, 3]] # shape ([2, 3])``\n",
        "- a 3d array is a 3d tensor: `` t = [[[9, 5, 10], [12, 6, 3]], [[7, 4, 11], [2, 13, 8]]] # shape ([2, 2, 3])``"
      ],
      "id": "R0KzlYrTfC3f"
    },
    {
      "cell_type": "markdown",
      "metadata": {
        "id": "e2v_zIj7fC3g"
      },
      "source": [
        "## <h3 style=\"text-align: center;\"><b> Creating a tensor</b>"
      ],
      "id": "e2v_zIj7fC3g"
    },
    {
      "cell_type": "markdown",
      "metadata": {
        "id": "OW0TrABkfC3h"
      },
      "source": [
        "There are a few ways to create a tensor, depending on your use case:\n",
        "1. directly from pre-existing data, like Python list or any sequence, NumPy array, etc.\n",
        "2. creating a tensor with a specific shape, filled with random or constant values\n",
        "3. from another tensor, keeping its shape and type"
      ],
      "id": "OW0TrABkfC3h"
    },
    {
      "cell_type": "markdown",
      "metadata": {
        "id": "RtE6AbkHfC3i"
      },
      "source": [
        " To create a tensor with pre-existing data, use ``torch.tensor()``"
      ],
      "id": "RtE6AbkHfC3i"
    },
    {
      "cell_type": "code",
      "execution_count": 2,
      "metadata": {
        "id": "uYA_OQG-fC3j",
        "outputId": "f0ee4f72-db1b-4d50-d267-2297adf4e9f1",
        "colab": {
          "base_uri": "https://localhost:8080/"
        }
      },
      "outputs": [
        {
          "output_type": "stream",
          "name": "stdout",
          "text": [
            "tensor([1., 2., 3.], requires_grad=True)\n"
          ]
        }
      ],
      "source": [
        "data = [1, 2, 3]\n",
        "x = torch.tensor(data, dtype=torch.float32, device=\"cpu\", requires_grad=True) # The data type is automatically inferred.\n",
        "print(x)"
      ],
      "id": "uYA_OQG-fC3j"
    },
    {
      "cell_type": "markdown",
      "metadata": {
        "id": "K7dnItR4fC3l"
      },
      "source": [
        "### From NumPy to PyTorch and viceversa"
      ],
      "id": "K7dnItR4fC3l"
    },
    {
      "cell_type": "code",
      "execution_count": 3,
      "metadata": {
        "id": "GFjdzfXMfC3m",
        "outputId": "a98c191e-835a-4b75-a829-7b890818fc61",
        "colab": {
          "base_uri": "https://localhost:8080/"
        }
      },
      "outputs": [
        {
          "output_type": "execute_result",
          "data": {
            "text/plain": [
              "array([1, 2, 3])"
            ]
          },
          "metadata": {},
          "execution_count": 3
        }
      ],
      "source": [
        "import numpy as np\n",
        "np_array = np.array(data)\n",
        "\n",
        "t = torch.from_numpy(np_array)    # creates a tensor that shares storage with a NumPy array\n",
        "t.numpy()                         # back to numpy"
      ],
      "id": "GFjdzfXMfC3m"
    },
    {
      "cell_type": "markdown",
      "metadata": {
        "id": "tVbq2ti6fC3o"
      },
      "source": [
        "To create a tensor with specific size, filled with random or constant values, use ``torch.* ``,\\\n",
        "passing a sequence of integers defining the desired ``shape`` of a tensor.\\\n",
        "``shape`` can be a variable number of integers OR a collection like a list or tuple.\n"
      ],
      "id": "tVbq2ti6fC3o"
    },
    {
      "cell_type": "code",
      "execution_count": 4,
      "metadata": {
        "id": "v9xFL0MbfC3o"
      },
      "outputs": [],
      "source": [
        "shape = (3, 2, 4)"
      ],
      "id": "v9xFL0MbfC3o"
    },
    {
      "cell_type": "markdown",
      "metadata": {
        "id": "2CiMvNC4fC3p"
      },
      "source": [
        "### Sampling values uniformly from [0, 1)"
      ],
      "id": "2CiMvNC4fC3p"
    },
    {
      "cell_type": "code",
      "execution_count": 5,
      "metadata": {
        "id": "ZKPPitOufC3p",
        "outputId": "b7513189-07aa-45d1-bc26-747297bf0367",
        "colab": {
          "base_uri": "https://localhost:8080/"
        }
      },
      "outputs": [
        {
          "output_type": "stream",
          "name": "stdout",
          "text": [
            "tensor([[[0.4253, 0.5706, 0.9491, 0.8610],\n",
            "         [0.4414, 0.8508, 0.6627, 0.5402]],\n",
            "\n",
            "        [[0.5565, 0.8461, 0.2161, 0.5336],\n",
            "         [0.2107, 0.5279, 0.1862, 0.5331]],\n",
            "\n",
            "        [[0.3307, 0.6890, 0.4772, 0.2839],\n",
            "         [0.6186, 0.0280, 0.8188, 0.7165]]])\n",
            "torch.Size([3, 2, 4])\n"
          ]
        }
      ],
      "source": [
        "random_uniform = torch.rand(shape)                          # FloatTensor from Uniform[0, 1)\n",
        "print(random_uniform)\n",
        "print(random_uniform.size())"
      ],
      "id": "ZKPPitOufC3p"
    },
    {
      "cell_type": "markdown",
      "metadata": {
        "id": "Ft-SBTozfC3q"
      },
      "source": [
        "### Sampling integers uniformly from [low, high)"
      ],
      "id": "Ft-SBTozfC3q"
    },
    {
      "cell_type": "code",
      "execution_count": 6,
      "metadata": {
        "id": "rlGjP-F0fC3s",
        "outputId": "ee5215a4-fc5c-42fb-95a2-f08cb970adc5",
        "colab": {
          "base_uri": "https://localhost:8080/"
        }
      },
      "outputs": [
        {
          "output_type": "stream",
          "name": "stdout",
          "text": [
            "tensor([[[2, 4, 5, 5],\n",
            "         [4, 3, 2, 6]],\n",
            "\n",
            "        [[6, 2, 4, 6],\n",
            "         [3, 4, 4, 3]],\n",
            "\n",
            "        [[2, 3, 3, 2],\n",
            "         [4, 6, 2, 5]]])\n"
          ]
        }
      ],
      "source": [
        "random_uniform = torch.randint(low=2, high=7, size=shape)   # IntTensor from Uniform[2, 7)\n",
        "print(random_uniform)"
      ],
      "id": "rlGjP-F0fC3s"
    },
    {
      "cell_type": "markdown",
      "metadata": {
        "id": "MpZ7ydCxfC3t"
      },
      "source": [
        "### Sampling from normal distribution"
      ],
      "id": "MpZ7ydCxfC3t"
    },
    {
      "cell_type": "code",
      "execution_count": 7,
      "metadata": {
        "id": "DEcx598ufC3t",
        "outputId": "b22d0fee-8246-4058-e801-1c3b0155bcca",
        "colab": {
          "base_uri": "https://localhost:8080/"
        }
      },
      "outputs": [
        {
          "output_type": "stream",
          "name": "stdout",
          "text": [
            "tensor([[-1.8199, -1.4714],\n",
            "        [-0.0946, -0.5807],\n",
            "        [ 0.8947,  0.6079]])\n",
            "tensor([[3.7732, 2.9691],\n",
            "        [6.8482, 5.5718],\n",
            "        [0.7945, 6.2895]])\n"
          ]
        }
      ],
      "source": [
        "shape = (3, 2)\n",
        "random_normal = torch.randn(shape)                          # FloatTensor from Normal(0, 1) where mean = 0, std = 1\n",
        "print(random_normal)\n",
        "random_normal = torch.normal(mean=5, std=2, size=shape)     # FloatTensor from Normal(5, 2) where mean = 5, std = 2\n",
        "print(random_normal)"
      ],
      "id": "DEcx598ufC3t"
    },
    {
      "cell_type": "markdown",
      "metadata": {
        "id": "ewKRsoQnfC3u"
      },
      "source": [
        "### Dummy tensors of zeros and ones"
      ],
      "id": "ewKRsoQnfC3u"
    },
    {
      "cell_type": "code",
      "execution_count": 8,
      "metadata": {
        "id": "aCQw-lpRfC3v",
        "outputId": "288f8e0e-30d5-40de-d517-b866e3dab669",
        "colab": {
          "base_uri": "https://localhost:8080/"
        }
      },
      "outputs": [
        {
          "output_type": "stream",
          "name": "stdout",
          "text": [
            "tensor([[1., 1.],\n",
            "        [1., 1.],\n",
            "        [1., 1.]])\n"
          ]
        }
      ],
      "source": [
        "zero_tensor = torch.zeros(shape)                             # initialize with zeros\n",
        "ones_tensor = torch.ones(shape)                              # initialize with ones\n",
        "print(ones_tensor)"
      ],
      "id": "aCQw-lpRfC3v"
    },
    {
      "cell_type": "markdown",
      "metadata": {
        "id": "d9DOzgepfC3v"
      },
      "source": [
        "### Tensors of a specific data type"
      ],
      "id": "d9DOzgepfC3v"
    },
    {
      "cell_type": "code",
      "execution_count": 9,
      "metadata": {
        "id": "qgRvxJ6zfC3w",
        "outputId": "7820ef36-b048-4611-d18c-ecc76640d9f8",
        "colab": {
          "base_uri": "https://localhost:8080/"
        }
      },
      "outputs": [
        {
          "output_type": "stream",
          "name": "stdout",
          "text": [
            "tensor([[ True, False],\n",
            "        [False, False],\n",
            "        [False, False]])\n"
          ]
        }
      ],
      "source": [
        "# shape MUST be a variable number of integers\n",
        "float_tensor = torch.FloatTensor(3, 2)                    # dtype = float32 == torch.Tensor(shape)\n",
        "int_tensor = torch.IntTensor(3, 2)                        # dtype = int32\n",
        "long_tensor = torch.LongTensor(3, 2)                      # dtype = int64\n",
        "bool_tensor = torch.BoolTensor(3, 2)                      # dtype = bool\n",
        "print(bool_tensor)"
      ],
      "id": "qgRvxJ6zfC3w"
    },
    {
      "cell_type": "markdown",
      "metadata": {
        "id": "cMYZsmDvfC3x"
      },
      "source": [
        "To create a tensor with the same size and type as another tensor, use ``torch.*_like``"
      ],
      "id": "cMYZsmDvfC3x"
    },
    {
      "cell_type": "code",
      "execution_count": 10,
      "metadata": {
        "id": "BCetWaqhfC3x",
        "outputId": "fbd758b2-9f24-45d1-e501-05f44e165b95",
        "colab": {
          "base_uri": "https://localhost:8080/"
        }
      },
      "outputs": [
        {
          "output_type": "stream",
          "name": "stdout",
          "text": [
            "tensor([0, 0, 0], dtype=torch.int32)\n"
          ]
        }
      ],
      "source": [
        "t = torch.tensor(data, dtype=torch.float32)\n",
        "\n",
        "new_tensor = torch.randn_like(t)                          # retains the shape and dtype of t\n",
        "new_tensor = torch.rand_like(t)                           # retains the shape and dtype of t\n",
        "new_tensor = torch.ones_like(t)                           # retains the shape and dtype of t\n",
        "new_tensor = torch.zeros_like(t, dtype=torch.int)         # can override the datatype\n",
        "print(new_tensor)"
      ],
      "id": "BCetWaqhfC3x"
    },
    {
      "cell_type": "markdown",
      "metadata": {
        "id": "wnjq2NkNfC3y"
      },
      "source": [
        "<h4 style=\"text-align: center;\"><b> Changing the content of existing tensor </b>"
      ],
      "id": "wnjq2NkNfC3y"
    },
    {
      "cell_type": "markdown",
      "metadata": {
        "id": "-fYhDv2SfC3y"
      },
      "source": [
        "Any PyTorch method with an underscore ``_`` modifies the object in place"
      ],
      "id": "-fYhDv2SfC3y"
    },
    {
      "cell_type": "code",
      "execution_count": 11,
      "metadata": {
        "id": "ttzVN4a8fC3z",
        "outputId": "2d874a87-9699-48cb-edbb-83c4b48856ea",
        "colab": {
          "base_uri": "https://localhost:8080/"
        }
      },
      "outputs": [
        {
          "output_type": "execute_result",
          "data": {
            "text/plain": [
              "tensor([3., 3., 3.])"
            ]
          },
          "metadata": {},
          "execution_count": 11
        }
      ],
      "source": [
        "#in place modification without returning object\n",
        "t.zero_()                   # zero out tensor's content\n",
        "t.uniform_()                # replace with values from a continuous random Uniform[from, to)\n",
        "t.normal_(mean=3)           # replace with values from a Normal(mean, std)\n",
        "t.fill_(3)                  # fill-in tensor with a constant value"
      ],
      "id": "ttzVN4a8fC3z"
    },
    {
      "cell_type": "markdown",
      "metadata": {
        "id": "Kg9ju83xfC30"
      },
      "source": [
        "## <h3 style=\"text-align: center;\"><b> Attributes of a Tensor </b>"
      ],
      "id": "Kg9ju83xfC30"
    },
    {
      "cell_type": "markdown",
      "metadata": {
        "id": "JaCZGAlRfC30"
      },
      "source": [
        "Tensor attributes describe their shape, datatype, and the device on which they are stored."
      ],
      "id": "JaCZGAlRfC30"
    },
    {
      "cell_type": "code",
      "execution_count": 12,
      "metadata": {
        "id": "w48XrNpGfC30",
        "outputId": "7346eb5b-912b-44a9-82e4-3b395acbc04f",
        "colab": {
          "base_uri": "https://localhost:8080/"
        }
      },
      "outputs": [
        {
          "output_type": "stream",
          "name": "stdout",
          "text": [
            "tensor([3., 3., 3.])\n",
            "Shape: torch.Size([3])\n",
            "Type: torch.FloatTensor\n",
            "Device: cpu\n"
          ]
        }
      ],
      "source": [
        "print(t)\n",
        "print(\"Shape:\",   t.size()) # same as t.shape\n",
        "print(\"Type:\",    t.type())\n",
        "print(\"Device:\",  t.device)"
      ],
      "id": "w48XrNpGfC30"
    },
    {
      "cell_type": "markdown",
      "metadata": {
        "id": "guWMcRU_fC31"
      },
      "source": [
        "<h4 style=\"text-align: center;\"><b> Changing tensor's type </b>"
      ],
      "id": "guWMcRU_fC31"
    },
    {
      "cell_type": "code",
      "execution_count": null,
      "metadata": {
        "id": "T58UeNfsfC32",
        "outputId": "a354f5b2-24a4-42d5-bba6-e6da8d97d7d5"
      },
      "outputs": [
        {
          "name": "stdout",
          "output_type": "stream",
          "text": [
            "tensor([3., 3., 3.])\n",
            "Type: torch.FloatTensor\n"
          ]
        }
      ],
      "source": [
        "t = t.to(torch.float)\n",
        "print(t)\n",
        "print(\"Type:\", t.type())"
      ],
      "id": "T58UeNfsfC32"
    },
    {
      "cell_type": "markdown",
      "metadata": {
        "id": "zwaSTEQ2fC33"
      },
      "source": [
        "Changing tensor's device"
      ],
      "id": "zwaSTEQ2fC33"
    },
    {
      "cell_type": "markdown",
      "metadata": {
        "id": "G1WlO-LmfC33"
      },
      "source": [
        "By default all tensors are allocated on the CPU memory, where all the computation is performed.\\\n",
        "If you have a GPU, you can access its memory via a specialized API called CUDA.\\\n",
        "Move tensors from cpu to cuda and viceversa by using the ``.to(device)`` method."
      ],
      "id": "G1WlO-LmfC33"
    },
    {
      "cell_type": "code",
      "execution_count": 14,
      "metadata": {
        "id": "YobfUk9yfC34",
        "outputId": "a2f06c72-d9c4-4c7d-a120-61783d715add",
        "colab": {
          "base_uri": "https://localhost:8080/"
        }
      },
      "outputs": [
        {
          "output_type": "stream",
          "name": "stdout",
          "text": [
            "CUDA: True\n",
            "MPS: False\n"
          ]
        }
      ],
      "source": [
        "print(f\"CUDA: {torch.cuda.is_available()}\") #nvidia gpu\n",
        "print(f\"MPS: {torch.mps.is_available()}\") #apple gpu"
      ],
      "id": "YobfUk9yfC34"
    },
    {
      "cell_type": "code",
      "execution_count": 18,
      "metadata": {
        "id": "OViULg9-fC34",
        "outputId": "7bc47144-54fc-4668-eb8a-7cb3f697ee8a",
        "colab": {
          "base_uri": "https://localhost:8080/",
          "height": 35
        }
      },
      "outputs": [
        {
          "output_type": "execute_result",
          "data": {
            "text/plain": [
              "'cuda'"
            ],
            "application/vnd.google.colaboratory.intrinsic+json": {
              "type": "string"
            }
          },
          "metadata": {},
          "execution_count": 18
        }
      ],
      "source": [
        "device = \"mps\" if torch.mps.is_available() else \"cpu\"\n",
        "device = \"cuda\" if torch.cuda.is_available() else \"cpu\"\n",
        "device"
      ],
      "id": "OViULg9-fC34"
    },
    {
      "cell_type": "markdown",
      "source": [
        "### TPU"
      ],
      "metadata": {
        "id": "tY9PB_cJPM5e"
      },
      "id": "tY9PB_cJPM5e"
    },
    {
      "cell_type": "code",
      "source": [
        "#!pip install cloud-tpu-client torch==2.0.0 torch_xla[tpu] -f https://storage.googleapis.com/libtpu-releases/index.html\n",
        "import torch_xla.core.xla_model as xm\n",
        "\n",
        "# Detect the TPU device\n",
        "device = xm.xla_device()\n",
        "print(\"PyTorch is configured to use device:\", device)\n",
        "\n",
        "# Create a tensor and send it to the TPU\n",
        "x = torch.randn(5, 5).to(device)\n",
        "print(x.device)\n",
        "\n",
        "# You would similarly move your model to the device\n",
        "# model.to(device)"
      ],
      "metadata": {
        "id": "4I_wkSdIPLaM"
      },
      "id": "4I_wkSdIPLaM",
      "execution_count": null,
      "outputs": []
    },
    {
      "cell_type": "markdown",
      "metadata": {
        "id": "tQtZU7lqfC35"
      },
      "source": [
        "### Move tensor to device"
      ],
      "id": "tQtZU7lqfC35"
    },
    {
      "cell_type": "code",
      "execution_count": 19,
      "metadata": {
        "id": "7O-F-Up4fC36",
        "outputId": "e0ecedf0-2986-40b0-a0cb-43d873e0999f",
        "colab": {
          "base_uri": "https://localhost:8080/"
        }
      },
      "outputs": [
        {
          "output_type": "stream",
          "name": "stdout",
          "text": [
            "Device: cuda:0\n"
          ]
        }
      ],
      "source": [
        "t = t.to(device) # t.cpu() or t.cuda()\n",
        "print(\"Device:\",  t.device)"
      ],
      "id": "7O-F-Up4fC36"
    },
    {
      "cell_type": "markdown",
      "metadata": {
        "id": "WzgjfCukfC37"
      },
      "source": [
        "### Perform computations on GPU and move the results to CPU"
      ],
      "id": "WzgjfCukfC37"
    },
    {
      "cell_type": "code",
      "execution_count": 20,
      "metadata": {
        "id": "MLhI9eOnfC37",
        "outputId": "4f56ab72-885b-43c0-d024-2e571a72d207",
        "colab": {
          "base_uri": "https://localhost:8080/"
        }
      },
      "outputs": [
        {
          "output_type": "stream",
          "name": "stdout",
          "text": [
            "cuda:0\n",
            "tensor([[ 0.9515,  0.8732,  2.6502,  ..., -1.5913, -0.7741, -0.7976],\n",
            "        [ 1.1812, -1.3824,  4.8470,  ...,  0.7571,  1.8553,  0.8880],\n",
            "        [ 4.4420,  0.9840, -0.5159,  ...,  1.4164, -0.0185,  4.3955],\n",
            "        ...,\n",
            "        [-0.9103,  1.0845, -1.4708,  ...,  3.1989, -3.3108, -2.2829],\n",
            "        [ 1.6679,  0.8648,  2.9999,  ...,  0.9003,  2.7886,  2.8322],\n",
            "        [-4.3710,  1.0550, -0.0607,  ..., -2.4141, -2.1148,  2.9130]])\n",
            "cpu\n"
          ]
        }
      ],
      "source": [
        "a = torch.randn(100, 100).to(device)\n",
        "b = torch.clone(a).to(device)\n",
        "c = (a + b)\n",
        "print(c.device)\n",
        "c = c.cpu()\n",
        "n = c.numpy()\n",
        "print(c)\n",
        "print(c.device)"
      ],
      "id": "MLhI9eOnfC37"
    },
    {
      "cell_type": "markdown",
      "metadata": {
        "id": "se86rL-0fC38"
      },
      "source": [
        "### To perform computations all tensors need to be on the same device !"
      ],
      "id": "se86rL-0fC38"
    },
    {
      "cell_type": "code",
      "execution_count": 21,
      "metadata": {
        "id": "kY6yBopkfC39",
        "outputId": "3dbbd094-1c23-4687-ceb0-7ace5e0dd2f4",
        "colab": {
          "base_uri": "https://localhost:8080/",
          "height": 144
        }
      },
      "outputs": [
        {
          "output_type": "error",
          "ename": "RuntimeError",
          "evalue": "Expected all tensors to be on the same device, but found at least two devices, cuda:0 and cpu!",
          "traceback": [
            "\u001b[0;31m---------------------------------------------------------------------------\u001b[0m",
            "\u001b[0;31mRuntimeError\u001b[0m                              Traceback (most recent call last)",
            "\u001b[0;32m/tmp/ipython-input-3032939740.py\u001b[0m in \u001b[0;36m<cell line: 0>\u001b[0;34m()\u001b[0m\n\u001b[0;32m----> 1\u001b[0;31m \u001b[0mc\u001b[0m \u001b[0;34m+\u001b[0m \u001b[0mb\u001b[0m \u001b[0;31m# will raise an error: expected all tensors to be on the same device, but found two devices\u001b[0m\u001b[0;34m\u001b[0m\u001b[0;34m\u001b[0m\u001b[0m\n\u001b[0m",
            "\u001b[0;31mRuntimeError\u001b[0m: Expected all tensors to be on the same device, but found at least two devices, cuda:0 and cpu!"
          ]
        }
      ],
      "source": [
        "c + b # will raise an error: expected all tensors to be on the same device, but found two devices"
      ],
      "id": "kY6yBopkfC39"
    },
    {
      "cell_type": "markdown",
      "metadata": {
        "id": "O9IGBXuLfC39"
      },
      "source": [
        "<h3 style=\"text-align: center;\"><b> Example </b>"
      ],
      "id": "O9IGBXuLfC39"
    },
    {
      "cell_type": "code",
      "execution_count": 22,
      "metadata": {
        "id": "BtzflGymfC3-",
        "outputId": "3563c476-267e-4dfc-83ef-c9734bec0649",
        "colab": {
          "base_uri": "https://localhost:8080/"
        }
      },
      "outputs": [
        {
          "output_type": "stream",
          "name": "stdout",
          "text": [
            "tensor([[1.2865, 1.6029],\n",
            "        [1.3157, 1.4896],\n",
            "        [1.1320, 1.8059],\n",
            "        [1.8414, 1.3596],\n",
            "        [1.6515, 1.2468]])\n"
          ]
        }
      ],
      "source": [
        "if torch.mps.is_available():\n",
        "    device = \"mps\"\n",
        "elif torch.cuda.is_available():\n",
        "    device = \"cuda\"\n",
        "else:\n",
        "    device = \"cpu\"\n",
        "\n",
        "x = torch.FloatTensor(5, 2).uniform_().to(device)\n",
        "y = torch.ones_like(x, device=device)\n",
        "z = x + y\n",
        "z = z.to(\"cpu\", torch.float32)\n",
        "print(z)"
      ],
      "id": "BtzflGymfC3-"
    },
    {
      "cell_type": "markdown",
      "metadata": {
        "id": "dJu4XHr2fC3_"
      },
      "source": [
        "## <h3 style=\"text-align: center;\"><b> Reshaping a tensor </b>"
      ],
      "id": "dJu4XHr2fC3_"
    },
    {
      "cell_type": "code",
      "execution_count": 23,
      "metadata": {
        "id": "KI4oIcDAfC3_",
        "outputId": "defb0db5-eea3-4bc2-92c2-652b83e7451d",
        "colab": {
          "base_uri": "https://localhost:8080/"
        }
      },
      "outputs": [
        {
          "output_type": "execute_result",
          "data": {
            "text/plain": [
              "tensor([0, 1, 2, 3, 4, 5, 6, 7, 8, 9])"
            ]
          },
          "metadata": {},
          "execution_count": 23
        }
      ],
      "source": [
        "t = torch.arange(0, 10, step=1) # [start=0, end=10, step=1)\n",
        "t"
      ],
      "id": "KI4oIcDAfC3_"
    },
    {
      "cell_type": "markdown",
      "metadata": {
        "id": "ak_API7BfC4B"
      },
      "source": [
        "### Reshape from 1d to 2d"
      ],
      "id": "ak_API7BfC4B"
    },
    {
      "cell_type": "markdown",
      "metadata": {
        "id": "u1uWUFMwfC4C"
      },
      "source": [
        "``[10] -> [2, 5]``"
      ],
      "id": "u1uWUFMwfC4C"
    },
    {
      "cell_type": "code",
      "execution_count": 26,
      "metadata": {
        "id": "b0WA5GndfC4E",
        "outputId": "93ab42f2-6ac2-4d09-99dc-628296582dd0",
        "colab": {
          "base_uri": "https://localhost:8080/"
        }
      },
      "outputs": [
        {
          "output_type": "stream",
          "name": "stdout",
          "text": [
            "tensor([[0, 1, 2, 3, 4],\n",
            "        [5, 6, 7, 8, 9]])\n"
          ]
        },
        {
          "output_type": "execute_result",
          "data": {
            "text/plain": [
              "tensor([[0, 1, 2, 3, 4],\n",
              "        [5, 6, 7, 8, 9]])"
            ]
          },
          "metadata": {},
          "execution_count": 26
        }
      ],
      "source": [
        "y = t.view(2, 5) # y shares the storage with the original tensor t\n",
        "print(y)\n",
        "y = t.reshape(2, -1) # y may share the storage with t (y is a view of t) or not ( y is a copy of t)\n",
        "y"
      ],
      "id": "b0WA5GndfC4E"
    },
    {
      "cell_type": "markdown",
      "metadata": {
        "id": "h1ZobXecfC4F"
      },
      "source": [
        "### Add a new dimension of size 1"
      ],
      "id": "h1ZobXecfC4F"
    },
    {
      "cell_type": "markdown",
      "metadata": {
        "id": "-0A9HruWfC4F"
      },
      "source": [
        "``[2, 5] -> [2, 5, 1]``"
      ],
      "id": "-0A9HruWfC4F"
    },
    {
      "cell_type": "code",
      "execution_count": 41,
      "metadata": {
        "id": "WZV5o69UfC4F",
        "outputId": "a96e6d6a-b3e5-4b49-cc85-8074bf4f858e",
        "colab": {
          "base_uri": "https://localhost:8080/"
        }
      },
      "outputs": [
        {
          "output_type": "stream",
          "name": "stdout",
          "text": [
            "Shape: torch.Size([2, 1, 5])\n",
            "tensor([[[0, 1, 2, 3, 4]],\n",
            "\n",
            "        [[5, 6, 7, 8, 9]]])\n"
          ]
        }
      ],
      "source": [
        "#add new dimension *1 in the specified index\n",
        "b = y.unsqueeze(2) # same as y.unsqueeze(-1) where -1 means the last dimension\n",
        "print(\"Shape:\", b.shape)\n",
        "print(b)"
      ],
      "id": "WZV5o69UfC4F"
    },
    {
      "cell_type": "markdown",
      "metadata": {
        "id": "WgbJpBHpfC4G"
      },
      "source": [
        "Expand dimension(s) of size 1 to a larger size"
      ],
      "id": "WgbJpBHpfC4G"
    },
    {
      "cell_type": "markdown",
      "metadata": {
        "id": "AT5qyo3YfC4H"
      },
      "source": [
        "``[2, 5, 1] -> [2, 5, 10]``"
      ],
      "id": "AT5qyo3YfC4H"
    },
    {
      "cell_type": "code",
      "execution_count": 31,
      "metadata": {
        "id": "p0GwEsb8fC4H",
        "outputId": "5090bc41-17ea-40eb-e302-91e15e410d09",
        "colab": {
          "base_uri": "https://localhost:8080/"
        }
      },
      "outputs": [
        {
          "output_type": "execute_result",
          "data": {
            "text/plain": [
              "tensor([[[0, 0, 0, 0, 0, 0, 0, 0, 0, 0],\n",
              "         [1, 1, 1, 1, 1, 1, 1, 1, 1, 1],\n",
              "         [2, 2, 2, 2, 2, 2, 2, 2, 2, 2],\n",
              "         [3, 3, 3, 3, 3, 3, 3, 3, 3, 3],\n",
              "         [4, 4, 4, 4, 4, 4, 4, 4, 4, 4]],\n",
              "\n",
              "        [[5, 5, 5, 5, 5, 5, 5, 5, 5, 5],\n",
              "         [6, 6, 6, 6, 6, 6, 6, 6, 6, 6],\n",
              "         [7, 7, 7, 7, 7, 7, 7, 7, 7, 7],\n",
              "         [8, 8, 8, 8, 8, 8, 8, 8, 8, 8],\n",
              "         [9, 9, 9, 9, 9, 9, 9, 9, 9, 9]]])"
            ]
          },
          "metadata": {},
          "execution_count": 31
        }
      ],
      "source": [
        "b.expand(-1, -1, 10) # -1 means not changing the size of that dimension"
      ],
      "id": "p0GwEsb8fC4H"
    },
    {
      "cell_type": "markdown",
      "metadata": {
        "id": "J2LkOWX_fC4I"
      },
      "source": [
        "Exchange the order of dimensions"
      ],
      "id": "J2LkOWX_fC4I"
    },
    {
      "cell_type": "markdown",
      "metadata": {
        "id": "4y6u3fwTfC4I"
      },
      "source": [
        "``[2, 5, 1] -> [1, 5, 2]``"
      ],
      "id": "4y6u3fwTfC4I"
    },
    {
      "cell_type": "code",
      "execution_count": 32,
      "metadata": {
        "id": "9HZ4GFJufC4J",
        "outputId": "1c556649-6ec0-49e6-a072-0c22dff58b63",
        "colab": {
          "base_uri": "https://localhost:8080/"
        }
      },
      "outputs": [
        {
          "output_type": "stream",
          "name": "stdout",
          "text": [
            "Shape: torch.Size([1, 5, 2])\n",
            "tensor([[[0, 5],\n",
            "         [1, 6],\n",
            "         [2, 7],\n",
            "         [3, 8],\n",
            "         [4, 9]]])\n"
          ]
        }
      ],
      "source": [
        "x = b.transpose(0, 2)    # == y.transpose(2, 0) specify 2 dimensions to swap\n",
        "x = b.permute(2, 1, 0)   # specify the desired ordering for all dimensions\n",
        "print(\"Shape:\", x.shape)\n",
        "print(x)"
      ],
      "id": "9HZ4GFJufC4J"
    },
    {
      "cell_type": "markdown",
      "metadata": {
        "id": "eG7XrRspfC4K"
      },
      "source": [
        "Remove dimension(s) of size 1"
      ],
      "id": "eG7XrRspfC4K"
    },
    {
      "cell_type": "markdown",
      "metadata": {
        "id": "-AuYBWQBfC4L"
      },
      "source": [
        "``[1, 5, 2] -> [2, 5]``"
      ],
      "id": "-AuYBWQBfC4L"
    },
    {
      "cell_type": "code",
      "execution_count": null,
      "metadata": {
        "id": "n1JIn-xkfC4M",
        "outputId": "696a0f35-e43d-456c-d751-825e5f791bf9"
      },
      "outputs": [
        {
          "name": "stdout",
          "output_type": "stream",
          "text": [
            "Shape: torch.Size([5, 2])\n",
            "tensor([[0, 5],\n",
            "        [1, 6],\n",
            "        [2, 7],\n",
            "        [3, 8],\n",
            "        [4, 9]])\n"
          ]
        }
      ],
      "source": [
        "y = x.squeeze(0)\n",
        "print(\"Shape:\", y.shape)\n",
        "print(y)"
      ],
      "id": "n1JIn-xkfC4M"
    },
    {
      "cell_type": "markdown",
      "metadata": {
        "id": "-63O9qYyfC4M"
      },
      "source": [
        "Flatten"
      ],
      "id": "-63O9qYyfC4M"
    },
    {
      "cell_type": "markdown",
      "metadata": {
        "id": "aBVfrPDMfC4M"
      },
      "source": [
        "``[2, 5] -> [10]``"
      ],
      "id": "aBVfrPDMfC4M"
    },
    {
      "cell_type": "code",
      "execution_count": null,
      "metadata": {
        "id": "1HcQ27d0fC4N",
        "outputId": "02086b21-17b6-4500-98c0-11fba164c1dd"
      },
      "outputs": [
        {
          "data": {
            "text/plain": [
              "tensor([0, 5, 1, 6, 2, 7, 3, 8, 4, 9])"
            ]
          },
          "execution_count": 39,
          "metadata": {},
          "output_type": "execute_result"
        }
      ],
      "source": [
        "# flatten\n",
        "t = y.reshape(-1)\n",
        "t"
      ],
      "id": "1HcQ27d0fC4N"
    },
    {
      "cell_type": "markdown",
      "metadata": {
        "id": "CCNKsnZGfC4N"
      },
      "source": [
        "## <h3 style=\"text-align: center;\"><b> Arithmetic operations on tensors </b>"
      ],
      "id": "CCNKsnZGfC4N"
    },
    {
      "cell_type": "markdown",
      "metadata": {
        "id": "77AnAkfMfC4N"
      },
      "source": [
        "| Python operator | PyTorch method |\n",
        "|:-:|:-:|\n",
        "|+| torch.add() |\n",
        "|-| torch.sub() |\n",
        "|*| torch.mul() |\n",
        "|/| torch.div() |"
      ],
      "id": "77AnAkfMfC4N"
    },
    {
      "cell_type": "markdown",
      "metadata": {
        "id": "N2ARBay1fC4O"
      },
      "source": [
        "### Element-wise operations on tensors"
      ],
      "id": "N2ARBay1fC4O"
    },
    {
      "cell_type": "code",
      "execution_count": null,
      "metadata": {
        "id": "2iV_YH-CfC4O",
        "outputId": "0cac7b6a-6b8e-426a-fb27-3bf2b1b79f40"
      },
      "outputs": [
        {
          "data": {
            "text/plain": [
              "tensor([nan, 1., 1., 1., 1., 1., 1., 1., 1., 1.])"
            ]
          },
          "execution_count": 40,
          "metadata": {},
          "output_type": "execute_result"
        }
      ],
      "source": [
        "t + t\n",
        "t - t\n",
        "t * t\n",
        "t / t"
      ],
      "id": "2iV_YH-CfC4O"
    },
    {
      "cell_type": "code",
      "execution_count": null,
      "metadata": {
        "id": "3K6ObzVKfC4O",
        "outputId": "de37f9e2-b6ce-4b0d-9895-3b9efce14d7c"
      },
      "outputs": [
        {
          "data": {
            "text/plain": [
              "tensor([  -inf, 1.6094, 0.0000, 1.7918, 0.6931, 1.9459, 1.0986, 2.0794, 1.3863,\n",
              "        2.1972])"
            ]
          },
          "execution_count": 41,
          "metadata": {},
          "output_type": "execute_result"
        }
      ],
      "source": [
        "t.log()"
      ],
      "id": "3K6ObzVKfC4O"
    },
    {
      "cell_type": "code",
      "execution_count": null,
      "metadata": {
        "id": "xVP5wlK3fC4P",
        "outputId": "926aaf4b-1edd-4ccc-eb9c-4a0ff9484026"
      },
      "outputs": [
        {
          "data": {
            "text/plain": [
              "tensor([1.0000e+00, 1.4841e+02, 2.7183e+00, 4.0343e+02, 7.3891e+00, 1.0966e+03,\n",
              "        2.0086e+01, 2.9810e+03, 5.4598e+01, 8.1031e+03])"
            ]
          },
          "execution_count": 42,
          "metadata": {},
          "output_type": "execute_result"
        }
      ],
      "source": [
        "t.exp()"
      ],
      "id": "xVP5wlK3fC4P"
    },
    {
      "cell_type": "code",
      "execution_count": null,
      "metadata": {
        "id": "7iM5ZcKofC4P",
        "outputId": "95cc206c-2667-4663-a9ab-93d301b7fe0f"
      },
      "outputs": [
        {
          "data": {
            "text/plain": [
              "tensor([0.0000, 2.2361, 1.0000, 2.4495, 1.4142, 2.6458, 1.7321, 2.8284, 2.0000,\n",
              "        3.0000])"
            ]
          },
          "execution_count": 43,
          "metadata": {},
          "output_type": "execute_result"
        }
      ],
      "source": [
        "t.sqrt()"
      ],
      "id": "7iM5ZcKofC4P"
    },
    {
      "cell_type": "code",
      "execution_count": null,
      "metadata": {
        "id": "mmrcJ1ylfC4Q",
        "outputId": "85661a3c-218c-4b54-a6bf-20bb508e6d2e"
      },
      "outputs": [
        {
          "data": {
            "text/plain": [
              "tensor([ 0, 25,  1, 36,  4, 49,  9, 64, 16, 81])"
            ]
          },
          "execution_count": 44,
          "metadata": {},
          "output_type": "execute_result"
        }
      ],
      "source": [
        "t.pow(2)"
      ],
      "id": "mmrcJ1ylfC4Q"
    },
    {
      "cell_type": "code",
      "execution_count": null,
      "metadata": {
        "id": "215RPa1PfC4Q"
      },
      "outputs": [],
      "source": [],
      "id": "215RPa1PfC4Q"
    },
    {
      "cell_type": "markdown",
      "metadata": {
        "id": "hZo9VovjfC4R"
      },
      "source": [
        "## <h3 style=\"text-align: center;\"><b>[Dot product vs Matrix Multiplication](https://mkang32.github.io/python/2020/08/30/numpy-matmul.html) </b>\n",
        "\n",
        "### Dot product\n",
        "$$\n",
        "\\begin{bmatrix}\n",
        "a_1 & a_2\n",
        "\\end{bmatrix}\n",
        "\\begin{bmatrix}\n",
        "b_1 \\\\ b_2\n",
        "\\end{bmatrix}\n",
        "=\n",
        "a_1 b_1 + a_2 b_2\n",
        "$$\n",
        "\n",
        "### Matrix multiplication\n",
        "$$\n",
        "\\begin{bmatrix}\n",
        "a_{11} & a_{12} \\\\\n",
        "a_{21} & a_{22} \\\\\n",
        "\\end{bmatrix}\n",
        "\\begin{bmatrix}\n",
        "b_{11} & b_{12} \\\\\n",
        "b_{21} & b_{22} \\\\\n",
        "\\end{bmatrix}\n",
        "=\n",
        "\\begin{bmatrix}\n",
        "a_{11}b_{11} + a_{12}b_{21} & a_{11}b_{12} + a_{12}b_{22} \\\\\n",
        "a_{21}b_{11} + a_{22}b_{21} & a_{21}b_{12} + a_{22}b_{22} \\\\\n",
        "\\end{bmatrix}\n",
        "\n",
        "$$"
      ],
      "id": "hZo9VovjfC4R"
    },
    {
      "cell_type": "markdown",
      "metadata": {
        "id": "EZJZbHRMfC4R"
      },
      "source": [
        "Dot product"
      ],
      "id": "EZJZbHRMfC4R"
    },
    {
      "cell_type": "markdown",
      "metadata": {
        "id": "pBlsW-K2fC4R"
      },
      "source": [
        " Computes the inner product of 1D tensors.\\\n",
        " ``(10) @ (10) -> (1) ``"
      ],
      "id": "pBlsW-K2fC4R"
    },
    {
      "cell_type": "code",
      "execution_count": null,
      "metadata": {
        "id": "K8kkptVdfC4R",
        "outputId": "43dc8079-e821-493f-f00c-4ffec7afb5ce"
      },
      "outputs": [
        {
          "name": "stdout",
          "output_type": "stream",
          "text": [
            "torch.Size([3])\n",
            "tensor(56.) torch.Size([])\n"
          ]
        }
      ],
      "source": [
        "t = torch.Tensor([2, 4, 6])\n",
        "\n",
        "print(t.size())\n",
        "print(t.dot(t), t.dot(t).size())                                           # same as (t * t).sum()"
      ],
      "id": "K8kkptVdfC4R"
    },
    {
      "cell_type": "markdown",
      "metadata": {
        "id": "C7v4Jq8vfC4S"
      },
      "source": [
        "### Matrix multiplication"
      ],
      "id": "C7v4Jq8vfC4S"
    },
    {
      "cell_type": "markdown",
      "metadata": {
        "id": "SBW1MqgvfC4S"
      },
      "source": [
        " Performs a matrix multiplication of 2D tensors.\\\n",
        " **Number of columns in the first tensor should match up with the number of rows in the second tensor!** \\\n",
        " ``(2, 5) @ (5, 2) -> (2, 2) ``"
      ],
      "id": "SBW1MqgvfC4S"
    },
    {
      "cell_type": "code",
      "execution_count": null,
      "metadata": {
        "id": "oLVPewuifC4T",
        "outputId": "09c31699-321f-4792-acf3-7d3091816ee7"
      },
      "outputs": [
        {
          "data": {
            "text/plain": [
              "tensor([[ 30,  80],\n",
              "        [ 80, 255]])"
            ]
          },
          "execution_count": 46,
          "metadata": {},
          "output_type": "execute_result"
        }
      ],
      "source": [
        "torch.mm(y.transpose(0, 1), y)                      # same as y.T @ y"
      ],
      "id": "oLVPewuifC4T"
    },
    {
      "cell_type": "code",
      "execution_count": null,
      "id": "a83a3e24",
      "metadata": {
        "id": "a83a3e24",
        "outputId": "72d2246a-3449-41ab-d66f-2de714bd96f9"
      },
      "outputs": [
        {
          "data": {
            "text/plain": [
              "tensor([[ 30,  80],\n",
              "        [ 80, 255]])"
            ]
          },
          "execution_count": 47,
          "metadata": {},
          "output_type": "execute_result"
        }
      ],
      "source": [
        "y.T @ y"
      ]
    },
    {
      "cell_type": "markdown",
      "metadata": {
        "id": "6eqR2dqxfC4U"
      },
      "source": [
        "Batch multiplication"
      ],
      "id": "6eqR2dqxfC4U"
    },
    {
      "cell_type": "markdown",
      "metadata": {
        "id": "viO1HAHTfC4V"
      },
      "source": [
        "Performs a batch matrix-matrix product of 3D tensors. \\\n",
        "``(2, 5, 1) @ (2, 1, 5) -> (2, 5, 5)``"
      ],
      "id": "viO1HAHTfC4V"
    },
    {
      "cell_type": "code",
      "execution_count": null,
      "metadata": {
        "id": "0PXZrKsvfC4V",
        "outputId": "5f5c81a1-a050-448d-c45a-3099575858e2"
      },
      "outputs": [
        {
          "data": {
            "text/plain": [
              "tensor([[[ 0,  0,  0,  0,  0],\n",
              "         [ 0,  1,  2,  3,  4],\n",
              "         [ 0,  2,  4,  6,  8],\n",
              "         [ 0,  3,  6,  9, 12],\n",
              "         [ 0,  4,  8, 12, 16]],\n",
              "\n",
              "        [[25, 30, 35, 40, 45],\n",
              "         [30, 36, 42, 48, 54],\n",
              "         [35, 42, 49, 56, 63],\n",
              "         [40, 48, 56, 64, 72],\n",
              "         [45, 54, 63, 72, 81]]])"
            ]
          },
          "execution_count": 48,
          "metadata": {},
          "output_type": "execute_result"
        }
      ],
      "source": [
        "batch_product = torch.bmm(b , b.transpose(1, 2))    # same as b @ b.transpose(1, 2)\n",
        "batch_product"
      ],
      "id": "0PXZrKsvfC4V"
    },
    {
      "cell_type": "markdown",
      "metadata": {
        "id": "rqPJCLXGfC4V"
      },
      "source": [
        "### Universal solution for matrix multiplication **matmul()**:"
      ],
      "id": "rqPJCLXGfC4V"
    },
    {
      "cell_type": "markdown",
      "metadata": {
        "id": "OvemTz8wfC4W"
      },
      "source": [
        "``torch.matmul(tensor1, tensor2)`` a PyTorch equivalent of Python operator ``@``"
      ],
      "id": "OvemTz8wfC4W"
    },
    {
      "cell_type": "code",
      "execution_count": null,
      "metadata": {
        "id": "KmFFy22ofC4W",
        "outputId": "beaee9e1-c0a9-4ad2-b115-b1cf4eb9ef7f"
      },
      "outputs": [
        {
          "data": {
            "text/plain": [
              "tensor([[[ 0,  0,  0,  0,  0],\n",
              "         [ 0,  1,  2,  3,  4],\n",
              "         [ 0,  2,  4,  6,  8],\n",
              "         [ 0,  3,  6,  9, 12],\n",
              "         [ 0,  4,  8, 12, 16]],\n",
              "\n",
              "        [[25, 30, 35, 40, 45],\n",
              "         [30, 36, 42, 48, 54],\n",
              "         [35, 42, 49, 56, 63],\n",
              "         [40, 48, 56, 64, 72],\n",
              "         [45, 54, 63, 72, 81]]])"
            ]
          },
          "execution_count": 49,
          "metadata": {},
          "output_type": "execute_result"
        }
      ],
      "source": [
        "torch.matmul(t, t)                                  # same as torch.dot(t, t)\n",
        "torch.matmul(y.T, y)                                # same as torch.mm(y.T, y)\n",
        "torch.matmul(b, b.transpose(1, 2))                  # same as torch.bmm(b, b.transpose(1, 2))"
      ],
      "id": "KmFFy22ofC4W"
    },
    {
      "cell_type": "markdown",
      "metadata": {
        "id": "5EtLNt1-fC4X"
      },
      "source": [
        "## <h3 style=\"text-align: center;\"><b> Aggregating operations on tensors </b>"
      ],
      "id": "5EtLNt1-fC4X"
    },
    {
      "cell_type": "markdown",
      "metadata": {
        "id": "dKEhS9w7fC4X"
      },
      "source": [
        "<h4 style=\"text-align: center;\"><b> sum (dim) / mean (dim) </b>"
      ],
      "id": "dKEhS9w7fC4X"
    },
    {
      "cell_type": "code",
      "execution_count": null,
      "metadata": {
        "id": "J-7dhr39fC4X",
        "outputId": "e46971ec-d63d-4d3d-f30a-590a0642ce8a"
      },
      "outputs": [
        {
          "data": {
            "text/plain": [
              "tensor([[  0,  10,  20,  30,  40],\n",
              "        [175, 210, 245, 280, 315]])"
            ]
          },
          "execution_count": 50,
          "metadata": {},
          "output_type": "execute_result"
        }
      ],
      "source": [
        "batch_product.sum(dim=-1)            # collapsing columns"
      ],
      "id": "J-7dhr39fC4X"
    },
    {
      "cell_type": "code",
      "execution_count": null,
      "metadata": {
        "id": "EcTtXcA-fC4Y",
        "outputId": "dd53d06f-df5e-48d4-c786-f764fb6bb64d"
      },
      "outputs": [
        {
          "data": {
            "text/plain": [
              "tensor([[  0,  10,  20,  30,  40],\n",
              "        [175, 210, 245, 280, 315]])"
            ]
          },
          "execution_count": 51,
          "metadata": {},
          "output_type": "execute_result"
        }
      ],
      "source": [
        "batch_product.sum(dim=-2)            # collapsing rows"
      ],
      "id": "EcTtXcA-fC4Y"
    },
    {
      "cell_type": "markdown",
      "metadata": {
        "id": "SlcstJavfC4Y"
      },
      "source": [
        "After aggregating, you may end up with a one-element tensor,\\\n",
        "you can convert it to a Python numerical value using ``item()``."
      ],
      "id": "SlcstJavfC4Y"
    },
    {
      "cell_type": "code",
      "execution_count": null,
      "metadata": {
        "id": "lE69dO-YfC4Z",
        "outputId": "1b0fa3cc-7cf9-4eba-dbc7-f5b5726ba2e6"
      },
      "outputs": [
        {
          "data": {
            "text/plain": [
              "1325"
            ]
          },
          "execution_count": 54,
          "metadata": {},
          "output_type": "execute_result"
        }
      ],
      "source": [
        "batch_product.sum().item()"
      ],
      "id": "lE69dO-YfC4Z"
    },
    {
      "cell_type": "markdown",
      "metadata": {
        "id": "c-cGsTN6fC4Z"
      },
      "source": [
        "<h4 style=\"text-align: center;\"><b> max (dim) / min (dim)</b>"
      ],
      "id": "c-cGsTN6fC4Z"
    },
    {
      "cell_type": "markdown",
      "metadata": {
        "id": "v5DZTa76fC4a"
      },
      "source": [
        "Returns a **namedtuple (values, indices)** \\\n",
        "where ``values`` is the maximum/minimum value of each row of the tensor in a given dimension.\\\n",
        "And ``indices`` is the index of each maximum/minimum value found (``argmin``)."
      ],
      "id": "v5DZTa76fC4a"
    },
    {
      "cell_type": "code",
      "execution_count": null,
      "metadata": {
        "id": "-lzXwy7WfC4a",
        "outputId": "5c2cbaf7-f485-4ac9-d221-4c9c788f7d11"
      },
      "outputs": [
        {
          "name": "stdout",
          "output_type": "stream",
          "text": [
            "tensor([[ 0,  4,  8, 12, 16],\n",
            "        [45, 54, 63, 72, 81]])\n",
            "tensor([[0, 4, 4, 4, 4],\n",
            "        [4, 4, 4, 4, 4]])\n"
          ]
        }
      ],
      "source": [
        "values, indices = batch_product.max(dim=1)\n",
        "print(values)\n",
        "print(indices)"
      ],
      "id": "-lzXwy7WfC4a"
    },
    {
      "cell_type": "code",
      "execution_count": null,
      "metadata": {
        "id": "sYbIxtsPfC4c",
        "outputId": "1e10cc64-40a1-4149-8238-806ecdf397ec"
      },
      "outputs": [
        {
          "data": {
            "text/plain": [
              "tensor(81)"
            ]
          },
          "execution_count": 56,
          "metadata": {},
          "output_type": "execute_result"
        }
      ],
      "source": [
        "batch_product.max()"
      ],
      "id": "sYbIxtsPfC4c"
    },
    {
      "cell_type": "markdown",
      "metadata": {
        "id": "SovkC_QLfC4d"
      },
      "source": [
        "<h4 style=\"text-align: center;\"><b> argmax (dim) / argmin (dim)</b>"
      ],
      "id": "SovkC_QLfC4d"
    },
    {
      "cell_type": "markdown",
      "metadata": {
        "id": "4nOs8_fJfC4d"
      },
      "source": [
        "Returns the **indices** of the maximum/minimum values of a tensor across a dimension."
      ],
      "id": "4nOs8_fJfC4d"
    },
    {
      "cell_type": "code",
      "execution_count": null,
      "metadata": {
        "id": "yvxzXnLnfC4e",
        "outputId": "fc4d95f9-3a4e-41e1-abd6-0e892446cc01"
      },
      "outputs": [
        {
          "data": {
            "text/plain": [
              "tensor([[0, 4, 4, 4, 4],\n",
              "        [4, 4, 4, 4, 4]])"
            ]
          },
          "execution_count": 57,
          "metadata": {},
          "output_type": "execute_result"
        }
      ],
      "source": [
        "batch_product.argmax(dim=1)"
      ],
      "id": "yvxzXnLnfC4e"
    },
    {
      "cell_type": "code",
      "execution_count": null,
      "id": "d54db35a",
      "metadata": {
        "id": "d54db35a",
        "outputId": "04f252e8-c9cf-4bf9-c3c8-937c86c164ab"
      },
      "outputs": [
        {
          "data": {
            "text/plain": [
              "tensor([[[ 0,  0,  0,  0,  0],\n",
              "         [ 0,  1,  2,  3,  4],\n",
              "         [ 0,  2,  4,  6,  8],\n",
              "         [ 0,  3,  6,  9, 12],\n",
              "         [ 0,  4,  8, 12, 16]],\n",
              "\n",
              "        [[25, 30, 35, 40, 45],\n",
              "         [30, 36, 42, 48, 54],\n",
              "         [35, 42, 49, 56, 63],\n",
              "         [40, 48, 56, 64, 72],\n",
              "         [45, 54, 63, 72, 81]]])"
            ]
          },
          "execution_count": 59,
          "metadata": {},
          "output_type": "execute_result"
        }
      ],
      "source": [
        "batch_product"
      ]
    },
    {
      "cell_type": "markdown",
      "metadata": {
        "id": "LOlifqeBfC4f"
      },
      "source": [
        "<h4 style=\"text-align: center;\"><b>topk ( k, dim, largest )</b>"
      ],
      "id": "LOlifqeBfC4f"
    },
    {
      "cell_type": "markdown",
      "metadata": {
        "id": "8o7gw98xfC4g"
      },
      "source": [
        "Returns a **namedtuple of (values, indices)** \\\n",
        "with values and indices of ``k`` largest/smallest elements of a tensor along ``dim``."
      ],
      "id": "8o7gw98xfC4g"
    },
    {
      "cell_type": "code",
      "execution_count": null,
      "metadata": {
        "id": "c1aDEi2PfC4g",
        "outputId": "5d92b852-7763-44b6-c749-dd1f31edced8"
      },
      "outputs": [
        {
          "name": "stdout",
          "output_type": "stream",
          "text": [
            "Values: tensor([[[ 0,  0,  0,  0,  0]],\n",
            "\n",
            "        [[25, 30, 35, 40, 45]]])\n",
            "Indices: tensor([[[0, 0, 0, 0, 0]],\n",
            "\n",
            "        [[0, 0, 0, 0, 0]]])\n"
          ]
        }
      ],
      "source": [
        "values, indices = batch_product.topk(k=1, dim=1, largest=False)\n",
        "print(\"Values:\", values)\n",
        "print(\"Indices:\", indices)"
      ],
      "id": "c1aDEi2PfC4g"
    },
    {
      "cell_type": "markdown",
      "metadata": {
        "id": "I0OzLNpvfC4h"
      },
      "source": [
        "<h3 style=\"text-align: center;\"><b> Standard NumPy indexing and slicing </b>"
      ],
      "id": "I0OzLNpvfC4h"
    },
    {
      "cell_type": "code",
      "execution_count": null,
      "metadata": {
        "id": "H1a7Tp2IfC4h",
        "outputId": "22b3c587-96dc-4cc9-9944-cefdf610d3b0"
      },
      "outputs": [
        {
          "name": "stdout",
          "output_type": "stream",
          "text": [
            "First row: tensor([0, 1, 2])\n",
            "First column: tensor([ 0,  3,  6,  9, 12])\n",
            "Last column: tensor([ 2,  5,  8, 11, 14])\n",
            "tensor([[ 0,  0,  2],\n",
            "        [ 3,  0,  5],\n",
            "        [ 6,  0,  8],\n",
            "        [ 9,  0, 11],\n",
            "        [12,  0, 14]])\n"
          ]
        }
      ],
      "source": [
        "tensor = torch.arange(15).view(5, 3)\n",
        "\n",
        "print(f\"First row: {tensor[0]}\")\n",
        "print(f\"First column: {tensor[:, 0]}\")\n",
        "print(f\"Last column: {tensor[..., -1]}\")\n",
        "\n",
        "tensor[:,1] = 0 # zero-out second column\n",
        "print(tensor)"
      ],
      "id": "H1a7Tp2IfC4h"
    },
    {
      "cell_type": "markdown",
      "metadata": {
        "id": "XpfmrVsRfC4h"
      },
      "source": [
        "<h3 style=\"text-align: center;\"><b> Masked indexing</b>"
      ],
      "id": "XpfmrVsRfC4h"
    },
    {
      "cell_type": "code",
      "execution_count": 3,
      "metadata": {
        "id": "OXemNoWufC4h",
        "outputId": "52cd06ea-353a-4857-ed68-f622e84f5ea7",
        "colab": {
          "base_uri": "https://localhost:8080/"
        }
      },
      "outputs": [
        {
          "output_type": "stream",
          "name": "stdout",
          "text": [
            "tensor([0, 1, 2, 3, 4, 5, 6, 7, 8])\n",
            "tensor([[0, 1, 2],\n",
            "        [3, 4, 5],\n",
            "        [6, 7, 8]])\n",
            "tensor([[ 0,  1,  2],\n",
            "        [-3, -4,  5],\n",
            "        [-6,  7,  8]])\n"
          ]
        }
      ],
      "source": [
        "a = torch.arange(9)\n",
        "print(a)\n",
        "b = torch.clone(a)      # creates a copy of tensor a\n",
        "\n",
        "# generating random indices and performing assignment\n",
        "negative_indices = torch.randint(low=0, high=9, size=(4,))\n",
        "b[negative_indices] = b[negative_indices] * (-1)\n",
        "\n",
        "# reshaping from 1d to 2d\n",
        "a = a.view(3, 3)\n",
        "b = b.view(3, 3)\n",
        "\n",
        "print(a)\n",
        "print(b)"
      ],
      "id": "OXemNoWufC4h"
    },
    {
      "cell_type": "markdown",
      "metadata": {
        "id": "qeDWVtVpfC4i"
      },
      "source": [
        "### Computes element-wise equality"
      ],
      "id": "qeDWVtVpfC4i"
    },
    {
      "cell_type": "code",
      "execution_count": null,
      "metadata": {
        "id": "tA_N6TRmfC4i",
        "outputId": "6c7eb995-73f3-423c-a7a8-2dba0430e5c1"
      },
      "outputs": [
        {
          "data": {
            "text/plain": [
              "tensor([[ True, False,  True],\n",
              "        [False,  True, False],\n",
              "        [ True,  True,  True]])"
            ]
          },
          "execution_count": 63,
          "metadata": {},
          "output_type": "execute_result"
        }
      ],
      "source": [
        "a.eq(b)                   # same as a == b"
      ],
      "id": "tA_N6TRmfC4i"
    },
    {
      "cell_type": "markdown",
      "metadata": {
        "id": "epeUO7V_fC4i"
      },
      "source": [
        "Computes element-wise disequality"
      ],
      "id": "epeUO7V_fC4i"
    },
    {
      "cell_type": "code",
      "execution_count": null,
      "metadata": {
        "id": "KbfwcqZ9fC4j",
        "outputId": "1b435e41-c2ac-4785-c3a8-2663e4eb1dce"
      },
      "outputs": [
        {
          "data": {
            "text/plain": [
              "tensor([[False,  True, False],\n",
              "        [ True, False,  True],\n",
              "        [False, False, False]])"
            ]
          },
          "execution_count": 64,
          "metadata": {},
          "output_type": "execute_result"
        }
      ],
      "source": [
        "a.ne(b)                    # same as a != b"
      ],
      "id": "KbfwcqZ9fC4j"
    },
    {
      "cell_type": "markdown",
      "metadata": {
        "id": "CzsBENomfC4j"
      },
      "source": [
        "Selecting elements via boolean mask"
      ],
      "id": "CzsBENomfC4j"
    },
    {
      "cell_type": "code",
      "execution_count": null,
      "metadata": {
        "id": "ZX7dv27yfC4k",
        "outputId": "9ad2f7f2-db13-431c-ba8d-83966b9f5df7"
      },
      "outputs": [
        {
          "data": {
            "text/plain": [
              "tensor([-1, -3, -5])"
            ]
          },
          "execution_count": 65,
          "metadata": {},
          "output_type": "execute_result"
        }
      ],
      "source": [
        "b[a > b]"
      ],
      "id": "ZX7dv27yfC4k"
    },
    {
      "cell_type": "markdown",
      "metadata": {
        "id": "Z-tL9VVufC4l"
      },
      "source": [
        "## <h3 style=\"text-align: center;\"><b> Joining multiple tensors </b>"
      ],
      "id": "Z-tL9VVufC4l"
    },
    {
      "cell_type": "code",
      "execution_count": null,
      "metadata": {
        "id": "lfzc6zJwfC4l",
        "outputId": "2edcd451-fd27-4ff2-fdb1-3727402b2c0b"
      },
      "outputs": [
        {
          "data": {
            "text/plain": [
              "(tensor([[0, 1, 2],\n",
              "         [3, 4, 5]]),\n",
              " tensor([[0, 1, 2],\n",
              "         [3, 4, 5]]))"
            ]
          },
          "execution_count": 66,
          "metadata": {},
          "output_type": "execute_result"
        }
      ],
      "source": [
        "# create 2 tensors\n",
        "t1 = torch.arange(6).view(2, 3)\n",
        "t2 = torch.arange(6).view(2, 3)\n",
        "t1, t2"
      ],
      "id": "lfzc6zJwfC4l"
    },
    {
      "cell_type": "markdown",
      "metadata": {
        "id": "iqt2Usx0fC4l"
      },
      "source": [
        "<h4 style=\"text-align: center;\"><b>torch.cat ( (tensors), dim=0 )</b>"
      ],
      "id": "iqt2Usx0fC4l"
    },
    {
      "cell_type": "code",
      "execution_count": null,
      "metadata": {
        "id": "hNnfm8oDfC4m",
        "outputId": "68d37026-a168-4ec5-c54a-5b3c7ea4b0da"
      },
      "outputs": [
        {
          "name": "stdout",
          "output_type": "stream",
          "text": [
            "Concat tensors one on top of the other (default):\n",
            "tensor([[0, 1, 2],\n",
            "        [3, 4, 5],\n",
            "        [0, 1, 2],\n",
            "        [3, 4, 5]])\n"
          ]
        }
      ],
      "source": [
        "print(\"Concat tensors one on top of the other (default):\")\n",
        "print(torch.cat((t1, t2), dim=0)) #like numpy.vstack()"
      ],
      "id": "hNnfm8oDfC4m"
    },
    {
      "cell_type": "code",
      "execution_count": null,
      "metadata": {
        "id": "WjFVjgtQfC4m",
        "outputId": "c30c9103-6d83-4628-a1e9-76d05a94ceb6"
      },
      "outputs": [
        {
          "name": "stdout",
          "output_type": "stream",
          "text": [
            "Concat tensors side by side:\n",
            "tensor([[0, 1, 2, 0, 1, 2],\n",
            "        [3, 4, 5, 3, 4, 5]])\n"
          ]
        }
      ],
      "source": [
        "print(\"Concat tensors side by side:\")\n",
        "print(torch.cat((t1, t2), dim=1)) #like numpy.hstack()"
      ],
      "id": "WjFVjgtQfC4m"
    },
    {
      "cell_type": "markdown",
      "metadata": {
        "id": "_P7rNTTdfC4m"
      },
      "source": [
        "<h4 style=\"text-align: center;\"><b>torch.stack ( (tensors), dim=0 )</b>"
      ],
      "id": "_P7rNTTdfC4m"
    },
    {
      "cell_type": "markdown",
      "metadata": {
        "id": "7nt86b-qfC4n"
      },
      "source": [
        "``dim`` is a new dimension to insert"
      ],
      "id": "7nt86b-qfC4n"
    },
    {
      "cell_type": "code",
      "execution_count": null,
      "metadata": {
        "id": "rUeo7q_2fC4n",
        "outputId": "5b5dcc5c-558c-4014-eb0c-486508e528e7"
      },
      "outputs": [
        {
          "data": {
            "text/plain": [
              "tensor([[[0, 1, 2],\n",
              "         [3, 4, 5]],\n",
              "\n",
              "        [[0, 1, 2],\n",
              "         [3, 4, 5]]])"
            ]
          },
          "execution_count": 69,
          "metadata": {},
          "output_type": "execute_result"
        }
      ],
      "source": [
        "torch.stack((t1, t2), dim=0)"
      ],
      "id": "rUeo7q_2fC4n"
    },
    {
      "cell_type": "markdown",
      "metadata": {
        "id": "J-T3fhewfC4o"
      },
      "source": [
        "**Difference between ``torch.stack`` and ``torch.cat``** :\\\n",
        "``torch.stack`` creates a new dimension to stack tensors, while ``torch.cat`` not."
      ],
      "id": "J-T3fhewfC4o"
    },
    {
      "cell_type": "markdown",
      "metadata": {
        "id": "0lQS1S-PfC4p"
      },
      "source": [
        "## <h3 style=\"text-align: center;\"><b> Practice </b>"
      ],
      "id": "0lQS1S-PfC4p"
    },
    {
      "cell_type": "markdown",
      "metadata": {
        "id": "is7omVJIfC4p"
      },
      "source": [
        "1. Create a 2D tensor and add a batch dimension of size 1\n",
        "2. Create a random tensor of shape 5x3 in the interval [3, 7)\n",
        "3. Create a tensor with values from a normal with mean=0, std=3\n",
        "4. Perform a batch product between 3D tensors\n",
        "5. Return a batch matrix product between a 3D tensor and a 2D tensor"
      ],
      "id": "is7omVJIfC4p"
    },
    {
      "cell_type": "markdown",
      "id": "6d15c26e",
      "metadata": {
        "id": "6d15c26e"
      },
      "source": []
    }
  ],
  "metadata": {
    "kernelspec": {
      "display_name": "Python 3",
      "name": "python3"
    },
    "language_info": {
      "codemirror_mode": {
        "name": "ipython",
        "version": 3
      },
      "file_extension": ".py",
      "mimetype": "text/x-python",
      "name": "python",
      "nbconvert_exporter": "python",
      "pygments_lexer": "ipython3",
      "version": "3.10.4"
    },
    "colab": {
      "provenance": [],
      "gpuType": "T4"
    },
    "accelerator": "GPU"
  },
  "nbformat": 4,
  "nbformat_minor": 5
}