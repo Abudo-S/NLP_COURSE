{
  "cells": [
    {
      "cell_type": "code",
      "execution_count": 6,
      "metadata": {
        "id": "vz9L-sUg2PJI"
      },
      "outputs": [],
      "source": [
        "import numpy as np\n",
        "import torch\n",
        "import torch.nn as nn\n",
        "import torch.nn.functional as F\n",
        "import math\n",
        "import seaborn as sns\n",
        "import matplotlib.pyplot as plt"
      ]
    },
    {
      "cell_type": "markdown",
      "metadata": {
        "id": "yGD0UR672PJL"
      },
      "source": [
        "# Transformers"
      ]
    },
    {
      "cell_type": "markdown",
      "metadata": {
        "id": "znN_sSVk2PJN"
      },
      "source": [
        "## Introduction"
      ]
    },
    {
      "cell_type": "markdown",
      "metadata": {
        "id": "V7A0rC9u2PJO"
      },
      "source": [
        "Sequence to sequence models up to 2017:\n",
        "- Recurrent Neural Network\n",
        "- Long Short Term Memory\n",
        "- Gated Recurrent Unit"
      ]
    },
    {
      "cell_type": "markdown",
      "metadata": {
        "id": "0ayxHdpa2PJP"
      },
      "source": [
        "<center><img src = \"https://stanford.edu/~shervine/teaching/cs-230/illustrations/architecture-rnn-ltr.png?9ea4417fc145b9346a3e288801dbdfdc\" width = \"60%\"/></center>"
      ]
    },
    {
      "cell_type": "markdown",
      "metadata": {
        "id": "7Uv6bKMp2PJQ"
      },
      "source": [
        "Two main problems:\n",
        "1. sequential input flow $\\rightarrow$ slow training and prediction\n",
        "2. many multiplications $\\rightarrow$ exploding/vanishing gradients $\\rightarrow$ loss of information + reduced window capacity"
      ]
    },
    {
      "cell_type": "markdown",
      "metadata": {
        "id": "FSi_3t_R2PJQ"
      },
      "source": [
        "Transformers (Vaswani et al., 2017) are sequence2sequence encoder-decoder models mapping an input $x \\in \\mathbb{R}^x$ to an output $y \\in \\mathbb{R}^y$.\\\n",
        "They implement a mechanism called attention, which allows both parallelization ($\\rightarrow$ faster training and prediction) and an infinitely large context window ($\\rightarrow$ no more loss of information)."
      ]
    },
    {
      "cell_type": "markdown",
      "metadata": {
        "id": "NuA6zS4R2PJS"
      },
      "source": [
        "<center><img src=\"https://pytorch.org/tutorials/_images/transformer_architecture.jpg\" width=\"30%\"/></center>"
      ]
    },
    {
      "cell_type": "markdown",
      "metadata": {
        "id": "md-KVXKW2PJV"
      },
      "source": [
        "## Transformers from scratch"
      ]
    },
    {
      "cell_type": "markdown",
      "metadata": {
        "id": "6C0ERWQm2PJW"
      },
      "source": [
        "The majority of the code is taken from https://github.com/ajhalthor/Transformer-Neural-Network .\n"
      ]
    },
    {
      "cell_type": "code",
      "execution_count": 1,
      "metadata": {
        "id": "v2fnZGL32PJX"
      },
      "outputs": [],
      "source": [
        "max_sequence_len = 60 #number of tokens in each sentence\n",
        "d_model = 6 #dimension of embeddings"
      ]
    },
    {
      "cell_type": "markdown",
      "metadata": {
        "id": "gBuQICVG2PJY"
      },
      "source": [
        "### Input"
      ]
    },
    {
      "cell_type": "markdown",
      "metadata": {
        "id": "lsKytUNf2PJZ"
      },
      "source": [
        "<center><img src=\"https://github.com/Abudo-S/NLP_COURSE/blob/main/transformers/img/word_embedding_0.svg?raw=1\" /></center>"
      ]
    },
    {
      "cell_type": "markdown",
      "metadata": {
        "id": "rel0HD8d2PJZ"
      },
      "source": [
        "#### Vocabularies lookup tables and Embeddings"
      ]
    },
    {
      "cell_type": "code",
      "execution_count": 3,
      "metadata": {
        "colab": {
          "base_uri": "https://localhost:8080/"
        },
        "id": "EmpFyot-2PJZ",
        "outputId": "5be27039-be18-4d8c-9c98-e75c3a68f962"
      },
      "outputs": [
        {
          "output_type": "stream",
          "name": "stdout",
          "text": [
            "Collecting en-core-web-lg==3.8.0\n",
            "  Downloading https://github.com/explosion/spacy-models/releases/download/en_core_web_lg-3.8.0/en_core_web_lg-3.8.0-py3-none-any.whl (400.7 MB)\n",
            "\u001b[2K     \u001b[90m━━━━━━━━━━━━━━━━━━━━━━━━━━━━━━━━━━━━━━━\u001b[0m \u001b[32m400.7/400.7 MB\u001b[0m \u001b[31m4.4 MB/s\u001b[0m eta \u001b[36m0:00:00\u001b[0m\n",
            "\u001b[?25hInstalling collected packages: en-core-web-lg\n",
            "Successfully installed en-core-web-lg-3.8.0\n",
            "\u001b[38;5;2m✔ Download and installation successful\u001b[0m\n",
            "You can now load the package via spacy.load('en_core_web_lg')\n",
            "\u001b[38;5;3m⚠ Restart to reload dependencies\u001b[0m\n",
            "If you are in a Jupyter or Colab notebook, you may need to restart Python in\n",
            "order to load all the package's dependencies. You can do this by selecting the\n",
            "'Restart kernel' or 'Restart runtime' option.\n",
            "Collecting it-core-news-lg==3.8.0\n",
            "  Downloading https://github.com/explosion/spacy-models/releases/download/it_core_news_lg-3.8.0/it_core_news_lg-3.8.0-py3-none-any.whl (567.9 MB)\n",
            "\u001b[2K     \u001b[90m━━━━━━━━━━━━━━━━━━━━━━━━━━━━━━━━━━━━━━━\u001b[0m \u001b[32m567.9/567.9 MB\u001b[0m \u001b[31m2.5 MB/s\u001b[0m eta \u001b[36m0:00:00\u001b[0m\n",
            "\u001b[?25hInstalling collected packages: it-core-news-lg\n",
            "Successfully installed it-core-news-lg-3.8.0\n",
            "\u001b[38;5;2m✔ Download and installation successful\u001b[0m\n",
            "You can now load the package via spacy.load('it_core_news_lg')\n",
            "\u001b[38;5;3m⚠ Restart to reload dependencies\u001b[0m\n",
            "If you are in a Jupyter or Colab notebook, you may need to restart Python in\n",
            "order to load all the package's dependencies. You can do this by selecting the\n",
            "'Restart kernel' or 'Restart runtime' option.\n"
          ]
        }
      ],
      "source": [
        "START_TOKEN = '<START>'\n",
        "PADDING_TOKEN = '<PADDING>'\n",
        "END_TOKEN = '<END>'\n",
        "\n",
        "#loading vocabulary through spacy\n",
        "import spacy\n",
        "!python -m spacy download en_core_web_lg\n",
        "!python -m spacy download it_core_news_lg\n",
        "nlp_en = spacy.load('en_core_web_lg')\n",
        "nlp_it = spacy.load('it_core_news_lg')\n",
        "italian_vocab = [START_TOKEN, PADDING_TOKEN] + list(nlp_it.vocab.strings) + [END_TOKEN]\n",
        "english_vocab = [START_TOKEN, PADDING_TOKEN] + list(nlp_en.vocab.strings) + [END_TOKEN]\n",
        "\n",
        "#lookup tables\n",
        "index_to_italian = {k:v for k,v in enumerate(italian_vocab)}\n",
        "italian_to_index = {v:k for k,v in enumerate(italian_vocab)}\n",
        "index_to_english = {k:v for k,v in enumerate(english_vocab)}\n",
        "english_to_index = {v:k for k,v in enumerate(english_vocab)}"
      ]
    },
    {
      "cell_type": "code",
      "execution_count": 4,
      "metadata": {
        "colab": {
          "base_uri": "https://localhost:8080/"
        },
        "id": "LcMy6ddO2PJa",
        "outputId": "162b0065-252a-4424-8be0-fec08ee41dab"
      },
      "outputs": [
        {
          "output_type": "execute_result",
          "data": {
            "text/plain": [
              "(559470, 618894)"
            ]
          },
          "metadata": {},
          "execution_count": 4
        }
      ],
      "source": [
        "italian_to_index['procioni'], english_to_index['racoons']"
      ]
    },
    {
      "cell_type": "markdown",
      "metadata": {
        "id": "BHCS-ayv2PJa"
      },
      "source": [
        "From these vocabularies we can build $\\texttt{nn.Embedding}$ layers, which behave as lookup tables. Indeed, they take as input an index and they retrieve the corresponging vector.\\\n",
        "The vector representation indicated the weighted matrix is initialized as random values and will be updated by backpropagation.\\\n",
        "We also specify the dimension for each embedding. In the original paper, $d_{model} = 512$; for simplicity, here is set to 6."
      ]
    },
    {
      "cell_type": "code",
      "execution_count": 7,
      "metadata": {
        "colab": {
          "base_uri": "https://localhost:8080/"
        },
        "id": "GEElBqbb2PJb",
        "outputId": "d2cdc619-3ac4-4985-9691-d8e23bc6d9ed"
      },
      "outputs": [
        {
          "output_type": "stream",
          "name": "stdout",
          "text": [
            "Embedding for the word subterranean: tensor([ 1.5526,  0.8724, -0.5266,  0.7325,  0.1742, -1.5248],\n",
            "       grad_fn=<EmbeddingBackward0>)\n",
            "Embedding for the word proclamasse: tensor([-1.1645,  0.6210,  0.6342, -0.5375, -0.2623, -0.8731],\n",
            "       grad_fn=<EmbeddingBackward0>)\n"
          ]
        }
      ],
      "source": [
        "english_embedding = nn.Embedding(len(english_vocab), d_model)\n",
        "italian_embedding = nn.Embedding(len(italian_vocab), d_model)\n",
        "\n",
        "en_w, it_w = 660403, 559485\n",
        "print(f\"Embedding for the word {index_to_english[en_w]}: {english_embedding(torch.tensor(en_w))}\")\n",
        "print(f\"Embedding for the word {index_to_italian[it_w]}: {italian_embedding(torch.tensor(it_w))}\")\n"
      ]
    },
    {
      "cell_type": "markdown",
      "metadata": {
        "id": "cx6K81JZ2PJb"
      },
      "source": [
        "#### Data Preprocessing and Batching"
      ]
    },
    {
      "cell_type": "markdown",
      "metadata": {
        "id": "rW7Qs-PE2PJb"
      },
      "source": [
        "dataset: https://www.statmt.org/europarl/"
      ]
    },
    {
      "cell_type": "markdown",
      "metadata": {
        "id": "KtG8ZgE-2PJc"
      },
      "source": [
        "Next steps:\n",
        "1. Preprocess each sentence by removing '\\n', applying $\\texttt{lower()}$\n",
        "2. Filter those sentences which are too long and/or have unknown words\n",
        "3. Take 10000 of those filtered sentences"
      ]
    },
    {
      "cell_type": "code",
      "execution_count": 8,
      "metadata": {
        "id": "TwBtsN5L2PJc"
      },
      "outputs": [],
      "source": [
        "#utility functions for checking sentence validity\n",
        "def is_valid_tokens(sentence_tokenized, vocab):\n",
        "    for token in sentence_tokenized:\n",
        "        if isinstance(token, str):\n",
        "            w = token\n",
        "        else:\n",
        "            w = token.text\n",
        "        if w not in vocab:\n",
        "            return False\n",
        "    return True\n",
        "\n",
        "def is_valid_length(sentence_tokenized, max_sequence_length):\n",
        "    return len(sentence_tokenized) < (max_sequence_length)\n",
        "\n",
        "def filter_and_preprocess(sent, tokenizer, vocab, max_s_len):\n",
        "    tokenized = tokenizer(sent)\n",
        "    if is_valid_length(tokenized, max_s_len) and is_valid_tokens(tokenized, vocab):\n",
        "        return str(sent)\n",
        "    return False"
      ]
    },
    {
      "cell_type": "code",
      "execution_count": 9,
      "metadata": {
        "id": "TOMWO9w42PJc"
      },
      "outputs": [],
      "source": [
        "#taking only the first 10000 sentences meeting the requirements\n",
        "MAX_SENTENCES = 10000"
      ]
    },
    {
      "cell_type": "code",
      "execution_count": 10,
      "metadata": {
        "id": "8t11CufP2PJc"
      },
      "outputs": [],
      "source": [
        "#use nltk word_tokenizer to speed up the process\n",
        "from nltk.tokenize import word_tokenize"
      ]
    },
    {
      "cell_type": "code",
      "execution_count": 15,
      "metadata": {
        "colab": {
          "base_uri": "https://localhost:8080/"
        },
        "id": "4EYnrMmP2PJd",
        "outputId": "666f2784-06e1-4f4b-dcda-98f60bd1658c"
      },
      "outputs": [
        {
          "output_type": "stream",
          "name": "stdout",
          "text": [
            "/content\n",
            ".:\n",
            "NLP_COURSE  sample_data\n",
            "\n",
            "./NLP_COURSE:\n",
            "BERT  data  imgs  lectures  nlp  projects  README.md  references  transformers\n",
            "\n",
            "./NLP_COURSE/BERT:\n",
            "bert-explained.ipynb  MLM.ipynb  transformers_multi_label_classification.ipynb\n",
            "img\t\t      NSP.ipynb\n",
            "\n",
            "./NLP_COURSE/BERT/img:\n",
            " bert.drawio\t\t   bert_models.png\t  bert.svg\n",
            " bert_finetune.drawio\t   bert.png\t\t  bert_variants.png\n",
            " bert_finetune_mnli.svg    bert_pretrain_1.svg\t 'encoder bw.png'\n",
            " bert_finetune_snli.svg    bert_pretrain_2.svg\t  encoder.png\n",
            " bert_finetune_squad.svg   bert_pretrain.drawio   gpt.png\n",
            "\n",
            "./NLP_COURSE/data:\n",
            "biased-cv-doc.xlsx\t political-bias.ipynb\n",
            "biased-cv-tab.xlsx\t README.md\n",
            "europarl-v7.it-en.en\t recipes_w_search_terms.csv\n",
            "europarl-v7.it-en.it.it  roman_number-classification.csv\n",
            "food_recipes.csv\t roman_number-classification-test.csv\n",
            "get-movie-data.ipynb\t roman_number-prediction.csv\n",
            "get-recipes.ipynb\t roman_number-prediction-test.csv\n",
            "moviedata.py\t\t weather.json\n",
            "\n",
            "./NLP_COURSE/imgs:\n",
            "clip.png\t image-acquisition.png\t raccoon.jpg\n",
            "convolution.gif  image-generation.png\t stablediffusion.png\n",
            "cv-tasks.png\t lenet.jpeg\t\t stride.png\n",
            "depth.png\t mllm.png\t\t vit.gif\n",
            "diffusion.png\t perceptron-example.jpg  vit.png\n",
            "ffn-example.jpg  perceptron.jpg\t\t zero-padding.png\n",
            "ffn.jpg\t\t pooling.png\n",
            "\n",
            "./NLP_COURSE/lectures:\n",
            " CRFs.pdf\t\t       P1-3-evaluation.pdf\n",
            " HMMs.pdf\t\t       P1-4-relevance_feedback.pdf\n",
            " L00-course-introduction.pdf   P1-5-topic_modeling.pdf\n",
            "'Language Modeling.pdf'        P1-6-unsupervised_classification.pdf\n",
            "'Lectures plan.pdf'\t       P1-7-supervised_classification.pdf\n",
            " NLP-Introduction.pdf\t       P1-8-language-models.pdf\n",
            " P1-10-sequence-learning.pdf   P1-9-nlm-word2vec.pdf\n",
            " P1-1-introduction.pdf\t      'Sequence Modeling.pdf'\n",
            " P1-2-vector_space_model.pdf\n",
            "\n",
            "./NLP_COURSE/nlp:\n",
            "L0.0-introduction-to-text-data.ipynb\t L5.1-gpt.ipynb\n",
            "L0.1-wordpiece-example.ipynb\t\t L6.0-image-processing.ipynb\n",
            "L0.2-search.ipynb\t\t\t L7.0-prompt-engineering.ipynb\n",
            "L1.0-classification.ipynb\t\t L8.0-explainability.ipynb\n",
            "L1.1-introduction-neural-networks.ipynb  L8.1-biases.ipynb\n",
            "L1.2-linear-classifiers-and-nn.ipynb\t L8.2-bias-bert-classifier.ipynb\n",
            "L1.3-pytorch-basics.ipynb\t\t L8.3-shap_example.ipynb\n",
            "L1.4-deep-learning-pytorch.ipynb\t L8.4-saliency-clip.ipynb\n",
            "L2.0-statistical-language-models.ipynb\t L8.5-concept-activation-vectors.ipynb\n",
            "L3.0-w2w-basics.ipynb\t\t\t L8.6-bias-masking-task.ipynb\n",
            "L3.1-pre-trained-w2v.ipynb\t\t L8.7-bias-completion-task.ipynb\n",
            "L4.0-sequence-learning-example.ipynb\t L9.0-llama-cpp-example.ipynb\n",
            "L4.1-sequence-classification.ipynb\t L9.1-vllm-example.ipynb\n",
            "L4.2-sequence-generation.ipynb\t\t L9.2-mlx-example.ipynb\n",
            "L4.3-seq2seq-attention.ipynb\t\t nlp\n",
            "\n",
            "./NLP_COURSE/nlp/nlp:\n",
            "bert_classifier.py    neurnets.py      sequencelearning.py  wordbags.py\n",
            "gpt-requirements.txt  __pycache__      utils.py\t\t    wordpiece.py\n",
            "langmodel.py\t      sequencedata.py  w2w_readers.py\t    wordvec.py\n",
            "\n",
            "./NLP_COURSE/nlp/nlp/__pycache__:\n",
            "wordpiece.cpython-311.pyc\n",
            "\n",
            "./NLP_COURSE/projects:\n",
            "nlp-projects-2024-25.md\n",
            "\n",
            "./NLP_COURSE/references:\n",
            "language-models.pdf  nlm-word2vec.pdf  references.md  sequence-learning.pdf\n",
            "\n",
            "./NLP_COURSE/transformers:\n",
            "img  transformers-explained.ipynb\n",
            "\n",
            "./NLP_COURSE/transformers/img:\n",
            "attention.drawio       query-key-value.drawio  word_embedding.png\n",
            "attention.svg\t       query-key-value.svg     word_embedding.svg\n",
            "multihead-attn.drawio  word_embedding_0.svg\n",
            "multihead-attn.svg     word_embedding.drawio\n",
            "\n",
            "./sample_data:\n",
            "anscombe.json\t\t      mnist_test.csv\n",
            "california_housing_test.csv   mnist_train_small.csv\n",
            "california_housing_train.csv  README.md\n",
            "Directory NLP_COURSE does not exist, proceeding with clone.\n",
            "Cloning into 'NLP_COURSE'...\n",
            "remote: Enumerating objects: 239, done.\u001b[K\n",
            "remote: Counting objects: 100% (133/133), done.\u001b[K\n",
            "remote: Compressing objects: 100% (107/107), done.\u001b[K\n",
            "remote: Total 239 (delta 66), reused 62 (delta 26), pack-reused 106 (from 1)\u001b[K\n",
            "Receiving objects: 100% (239/239), 73.83 MiB | 17.50 MiB/s, done.\n",
            "Resolving deltas: 100% (68/68), done.\n",
            "Filtering content: 100% (16/16), 1.36 GiB | 20.91 MiB/s, done.\n",
            "/content/NLP_COURSE\n"
          ]
        }
      ],
      "source": [
        "it_tokenizer = lambda text: word_tokenize(text, language='italian')\n",
        "en_tokenizer = lambda text: word_tokenize(text, language='english')\n",
        "\n",
        "import os\n",
        "\n",
        "%cd /content/\n",
        "!ls -R\n",
        "repo_name = \"NLP_COURSE\"\n",
        "#!rm -rf {repo_name}\n",
        "if not os.path.exists(repo_name):\n",
        "    print(f\"Directory {repo_name} does not exist, proceeding with clone.\")\n",
        "    !git clone https://github.com/Abudo-S/NLP_COURSE.git\n",
        "\n",
        "%cd NLP_COURSE"
      ]
    },
    {
      "cell_type": "markdown",
      "metadata": {
        "id": "16I11yMP2PJd"
      },
      "source": [
        "## Dataset\n",
        "\n",
        "The **European Parliament Proceedings Parallel Corpus 1996-2011** can be downloaded [here](https://www.statmt.org/europarl/)"
      ]
    },
    {
      "cell_type": "code",
      "execution_count": 16,
      "metadata": {
        "colab": {
          "base_uri": "https://localhost:8080/",
          "height": 756
        },
        "id": "kpxXgt142PJd",
        "outputId": "45a797c5-dace-402d-910f-a0dd7b9354ee"
      },
      "outputs": [
        {
          "output_type": "stream",
          "name": "stdout",
          "text": [
            "Reading english sentences...\n",
            "Reading italian sentences...\n"
          ]
        },
        {
          "output_type": "error",
          "ename": "LookupError",
          "evalue": "\n**********************************************************************\n  Resource \u001b[93mpunkt_tab\u001b[0m not found.\n  Please use the NLTK Downloader to obtain the resource:\n\n  \u001b[31m>>> import nltk\n  >>> nltk.download('punkt_tab')\n  \u001b[0m\n  For more information see: https://www.nltk.org/data.html\n\n  Attempted to load \u001b[93mtokenizers/punkt_tab/english/\u001b[0m\n\n  Searched in:\n    - '/root/nltk_data'\n    - '/usr/nltk_data'\n    - '/usr/share/nltk_data'\n    - '/usr/lib/nltk_data'\n    - '/usr/share/nltk_data'\n    - '/usr/local/share/nltk_data'\n    - '/usr/lib/nltk_data'\n    - '/usr/local/lib/nltk_data'\n**********************************************************************\n",
          "traceback": [
            "\u001b[0;31m---------------------------------------------------------------------------\u001b[0m",
            "\u001b[0;31mLookupError\u001b[0m                               Traceback (most recent call last)",
            "\u001b[0;32m/tmp/ipython-input-1829828615.py\u001b[0m in \u001b[0;36m<cell line: 0>\u001b[0;34m()\u001b[0m\n\u001b[1;32m     20\u001b[0m \u001b[0;32mfor\u001b[0m \u001b[0;34m(\u001b[0m\u001b[0msentence_en\u001b[0m\u001b[0;34m,\u001b[0m \u001b[0msentence_it\u001b[0m\u001b[0;34m)\u001b[0m \u001b[0;32min\u001b[0m \u001b[0mzip\u001b[0m\u001b[0;34m(\u001b[0m\u001b[0menglish_lines\u001b[0m\u001b[0;34m,\u001b[0m \u001b[0mitalian_lines\u001b[0m\u001b[0;34m)\u001b[0m\u001b[0;34m:\u001b[0m\u001b[0;34m\u001b[0m\u001b[0;34m\u001b[0m\u001b[0m\n\u001b[1;32m     21\u001b[0m     \u001b[0;32mif\u001b[0m \u001b[0mcount\u001b[0m \u001b[0;34m<\u001b[0m \u001b[0mMAX_SENTENCES\u001b[0m\u001b[0;34m:\u001b[0m\u001b[0;34m\u001b[0m\u001b[0;34m\u001b[0m\u001b[0m\n\u001b[0;32m---> 22\u001b[0;31m         preprocessed_sent_en = filter_and_preprocess(sentence_en.lower()[:-1], \n\u001b[0m\u001b[1;32m     23\u001b[0m                                                     \u001b[0men_tokenizer\u001b[0m\u001b[0;34m,\u001b[0m\u001b[0;34m\u001b[0m\u001b[0;34m\u001b[0m\u001b[0m\n\u001b[1;32m     24\u001b[0m                                                     \u001b[0men_vocab\u001b[0m\u001b[0;34m,\u001b[0m\u001b[0;34m\u001b[0m\u001b[0;34m\u001b[0m\u001b[0m\n",
            "\u001b[0;32m/tmp/ipython-input-510639902.py\u001b[0m in \u001b[0;36mfilter_and_preprocess\u001b[0;34m(sent, tokenizer, vocab, max_s_len)\u001b[0m\n\u001b[1;32m     14\u001b[0m \u001b[0;34m\u001b[0m\u001b[0m\n\u001b[1;32m     15\u001b[0m \u001b[0;32mdef\u001b[0m \u001b[0mfilter_and_preprocess\u001b[0m\u001b[0;34m(\u001b[0m\u001b[0msent\u001b[0m\u001b[0;34m,\u001b[0m \u001b[0mtokenizer\u001b[0m\u001b[0;34m,\u001b[0m \u001b[0mvocab\u001b[0m\u001b[0;34m,\u001b[0m \u001b[0mmax_s_len\u001b[0m\u001b[0;34m)\u001b[0m\u001b[0;34m:\u001b[0m\u001b[0;34m\u001b[0m\u001b[0;34m\u001b[0m\u001b[0m\n\u001b[0;32m---> 16\u001b[0;31m     \u001b[0mtokenized\u001b[0m \u001b[0;34m=\u001b[0m \u001b[0mtokenizer\u001b[0m\u001b[0;34m(\u001b[0m\u001b[0msent\u001b[0m\u001b[0;34m)\u001b[0m\u001b[0;34m\u001b[0m\u001b[0;34m\u001b[0m\u001b[0m\n\u001b[0m\u001b[1;32m     17\u001b[0m     \u001b[0;32mif\u001b[0m \u001b[0mis_valid_length\u001b[0m\u001b[0;34m(\u001b[0m\u001b[0mtokenized\u001b[0m\u001b[0;34m,\u001b[0m \u001b[0mmax_s_len\u001b[0m\u001b[0;34m)\u001b[0m \u001b[0;32mand\u001b[0m \u001b[0mis_valid_tokens\u001b[0m\u001b[0;34m(\u001b[0m\u001b[0mtokenized\u001b[0m\u001b[0;34m,\u001b[0m \u001b[0mvocab\u001b[0m\u001b[0;34m)\u001b[0m\u001b[0;34m:\u001b[0m\u001b[0;34m\u001b[0m\u001b[0;34m\u001b[0m\u001b[0m\n\u001b[1;32m     18\u001b[0m         \u001b[0;32mreturn\u001b[0m \u001b[0mstr\u001b[0m\u001b[0;34m(\u001b[0m\u001b[0msent\u001b[0m\u001b[0;34m)\u001b[0m\u001b[0;34m\u001b[0m\u001b[0;34m\u001b[0m\u001b[0m\n",
            "\u001b[0;32m/tmp/ipython-input-2396448688.py\u001b[0m in \u001b[0;36m<lambda>\u001b[0;34m(text)\u001b[0m\n\u001b[1;32m      1\u001b[0m \u001b[0mit_tokenizer\u001b[0m \u001b[0;34m=\u001b[0m \u001b[0;32mlambda\u001b[0m \u001b[0mtext\u001b[0m\u001b[0;34m:\u001b[0m \u001b[0mword_tokenize\u001b[0m\u001b[0;34m(\u001b[0m\u001b[0mtext\u001b[0m\u001b[0;34m,\u001b[0m \u001b[0mlanguage\u001b[0m\u001b[0;34m=\u001b[0m\u001b[0;34m'italian'\u001b[0m\u001b[0;34m)\u001b[0m\u001b[0;34m\u001b[0m\u001b[0;34m\u001b[0m\u001b[0m\n\u001b[0;32m----> 2\u001b[0;31m \u001b[0men_tokenizer\u001b[0m \u001b[0;34m=\u001b[0m \u001b[0;32mlambda\u001b[0m \u001b[0mtext\u001b[0m\u001b[0;34m:\u001b[0m \u001b[0mword_tokenize\u001b[0m\u001b[0;34m(\u001b[0m\u001b[0mtext\u001b[0m\u001b[0;34m,\u001b[0m \u001b[0mlanguage\u001b[0m\u001b[0;34m=\u001b[0m\u001b[0;34m'english'\u001b[0m\u001b[0;34m)\u001b[0m\u001b[0;34m\u001b[0m\u001b[0;34m\u001b[0m\u001b[0m\n\u001b[0m\u001b[1;32m      3\u001b[0m \u001b[0;34m\u001b[0m\u001b[0m\n\u001b[1;32m      4\u001b[0m \u001b[0;32mimport\u001b[0m \u001b[0mos\u001b[0m\u001b[0;34m\u001b[0m\u001b[0;34m\u001b[0m\u001b[0m\n\u001b[1;32m      5\u001b[0m \u001b[0;34m\u001b[0m\u001b[0m\n",
            "\u001b[0;32m/usr/local/lib/python3.11/dist-packages/nltk/tokenize/__init__.py\u001b[0m in \u001b[0;36mword_tokenize\u001b[0;34m(text, language, preserve_line)\u001b[0m\n\u001b[1;32m    140\u001b[0m     \u001b[0;34m:\u001b[0m\u001b[0mtype\u001b[0m \u001b[0mpreserve_line\u001b[0m\u001b[0;34m:\u001b[0m \u001b[0mbool\u001b[0m\u001b[0;34m\u001b[0m\u001b[0;34m\u001b[0m\u001b[0m\n\u001b[1;32m    141\u001b[0m     \"\"\"\n\u001b[0;32m--> 142\u001b[0;31m     \u001b[0msentences\u001b[0m \u001b[0;34m=\u001b[0m \u001b[0;34m[\u001b[0m\u001b[0mtext\u001b[0m\u001b[0;34m]\u001b[0m \u001b[0;32mif\u001b[0m \u001b[0mpreserve_line\u001b[0m \u001b[0;32melse\u001b[0m \u001b[0msent_tokenize\u001b[0m\u001b[0;34m(\u001b[0m\u001b[0mtext\u001b[0m\u001b[0;34m,\u001b[0m \u001b[0mlanguage\u001b[0m\u001b[0;34m)\u001b[0m\u001b[0;34m\u001b[0m\u001b[0;34m\u001b[0m\u001b[0m\n\u001b[0m\u001b[1;32m    143\u001b[0m     return [\n\u001b[1;32m    144\u001b[0m         \u001b[0mtoken\u001b[0m \u001b[0;32mfor\u001b[0m \u001b[0msent\u001b[0m \u001b[0;32min\u001b[0m \u001b[0msentences\u001b[0m \u001b[0;32mfor\u001b[0m \u001b[0mtoken\u001b[0m \u001b[0;32min\u001b[0m \u001b[0m_treebank_word_tokenizer\u001b[0m\u001b[0;34m.\u001b[0m\u001b[0mtokenize\u001b[0m\u001b[0;34m(\u001b[0m\u001b[0msent\u001b[0m\u001b[0;34m)\u001b[0m\u001b[0;34m\u001b[0m\u001b[0;34m\u001b[0m\u001b[0m\n",
            "\u001b[0;32m/usr/local/lib/python3.11/dist-packages/nltk/tokenize/__init__.py\u001b[0m in \u001b[0;36msent_tokenize\u001b[0;34m(text, language)\u001b[0m\n\u001b[1;32m    117\u001b[0m     \u001b[0;34m:\u001b[0m\u001b[0mparam\u001b[0m \u001b[0mlanguage\u001b[0m\u001b[0;34m:\u001b[0m \u001b[0mthe\u001b[0m \u001b[0mmodel\u001b[0m \u001b[0mname\u001b[0m \u001b[0;32min\u001b[0m \u001b[0mthe\u001b[0m \u001b[0mPunkt\u001b[0m \u001b[0mcorpus\u001b[0m\u001b[0;34m\u001b[0m\u001b[0;34m\u001b[0m\u001b[0m\n\u001b[1;32m    118\u001b[0m     \"\"\"\n\u001b[0;32m--> 119\u001b[0;31m     \u001b[0mtokenizer\u001b[0m \u001b[0;34m=\u001b[0m \u001b[0m_get_punkt_tokenizer\u001b[0m\u001b[0;34m(\u001b[0m\u001b[0mlanguage\u001b[0m\u001b[0;34m)\u001b[0m\u001b[0;34m\u001b[0m\u001b[0;34m\u001b[0m\u001b[0m\n\u001b[0m\u001b[1;32m    120\u001b[0m     \u001b[0;32mreturn\u001b[0m \u001b[0mtokenizer\u001b[0m\u001b[0;34m.\u001b[0m\u001b[0mtokenize\u001b[0m\u001b[0;34m(\u001b[0m\u001b[0mtext\u001b[0m\u001b[0;34m)\u001b[0m\u001b[0;34m\u001b[0m\u001b[0;34m\u001b[0m\u001b[0m\n\u001b[1;32m    121\u001b[0m \u001b[0;34m\u001b[0m\u001b[0m\n",
            "\u001b[0;32m/usr/local/lib/python3.11/dist-packages/nltk/tokenize/__init__.py\u001b[0m in \u001b[0;36m_get_punkt_tokenizer\u001b[0;34m(language)\u001b[0m\n\u001b[1;32m    103\u001b[0m     \u001b[0;34m:\u001b[0m\u001b[0mtype\u001b[0m \u001b[0mlanguage\u001b[0m\u001b[0;34m:\u001b[0m \u001b[0mstr\u001b[0m\u001b[0;34m\u001b[0m\u001b[0;34m\u001b[0m\u001b[0m\n\u001b[1;32m    104\u001b[0m     \"\"\"\n\u001b[0;32m--> 105\u001b[0;31m     \u001b[0;32mreturn\u001b[0m \u001b[0mPunktTokenizer\u001b[0m\u001b[0;34m(\u001b[0m\u001b[0mlanguage\u001b[0m\u001b[0;34m)\u001b[0m\u001b[0;34m\u001b[0m\u001b[0;34m\u001b[0m\u001b[0m\n\u001b[0m\u001b[1;32m    106\u001b[0m \u001b[0;34m\u001b[0m\u001b[0m\n\u001b[1;32m    107\u001b[0m \u001b[0;34m\u001b[0m\u001b[0m\n",
            "\u001b[0;32m/usr/local/lib/python3.11/dist-packages/nltk/tokenize/punkt.py\u001b[0m in \u001b[0;36m__init__\u001b[0;34m(self, lang)\u001b[0m\n\u001b[1;32m   1742\u001b[0m     \u001b[0;32mdef\u001b[0m \u001b[0m__init__\u001b[0m\u001b[0;34m(\u001b[0m\u001b[0mself\u001b[0m\u001b[0;34m,\u001b[0m \u001b[0mlang\u001b[0m\u001b[0;34m=\u001b[0m\u001b[0;34m\"english\"\u001b[0m\u001b[0;34m)\u001b[0m\u001b[0;34m:\u001b[0m\u001b[0;34m\u001b[0m\u001b[0;34m\u001b[0m\u001b[0m\n\u001b[1;32m   1743\u001b[0m         \u001b[0mPunktSentenceTokenizer\u001b[0m\u001b[0;34m.\u001b[0m\u001b[0m__init__\u001b[0m\u001b[0;34m(\u001b[0m\u001b[0mself\u001b[0m\u001b[0;34m)\u001b[0m\u001b[0;34m\u001b[0m\u001b[0;34m\u001b[0m\u001b[0m\n\u001b[0;32m-> 1744\u001b[0;31m         \u001b[0mself\u001b[0m\u001b[0;34m.\u001b[0m\u001b[0mload_lang\u001b[0m\u001b[0;34m(\u001b[0m\u001b[0mlang\u001b[0m\u001b[0;34m)\u001b[0m\u001b[0;34m\u001b[0m\u001b[0;34m\u001b[0m\u001b[0m\n\u001b[0m\u001b[1;32m   1745\u001b[0m \u001b[0;34m\u001b[0m\u001b[0m\n\u001b[1;32m   1746\u001b[0m     \u001b[0;32mdef\u001b[0m \u001b[0mload_lang\u001b[0m\u001b[0;34m(\u001b[0m\u001b[0mself\u001b[0m\u001b[0;34m,\u001b[0m \u001b[0mlang\u001b[0m\u001b[0;34m=\u001b[0m\u001b[0;34m\"english\"\u001b[0m\u001b[0;34m)\u001b[0m\u001b[0;34m:\u001b[0m\u001b[0;34m\u001b[0m\u001b[0;34m\u001b[0m\u001b[0m\n",
            "\u001b[0;32m/usr/local/lib/python3.11/dist-packages/nltk/tokenize/punkt.py\u001b[0m in \u001b[0;36mload_lang\u001b[0;34m(self, lang)\u001b[0m\n\u001b[1;32m   1747\u001b[0m         \u001b[0;32mfrom\u001b[0m \u001b[0mnltk\u001b[0m\u001b[0;34m.\u001b[0m\u001b[0mdata\u001b[0m \u001b[0;32mimport\u001b[0m \u001b[0mfind\u001b[0m\u001b[0;34m\u001b[0m\u001b[0;34m\u001b[0m\u001b[0m\n\u001b[1;32m   1748\u001b[0m \u001b[0;34m\u001b[0m\u001b[0m\n\u001b[0;32m-> 1749\u001b[0;31m         \u001b[0mlang_dir\u001b[0m \u001b[0;34m=\u001b[0m \u001b[0mfind\u001b[0m\u001b[0;34m(\u001b[0m\u001b[0;34mf\"tokenizers/punkt_tab/{lang}/\"\u001b[0m\u001b[0;34m)\u001b[0m\u001b[0;34m\u001b[0m\u001b[0;34m\u001b[0m\u001b[0m\n\u001b[0m\u001b[1;32m   1750\u001b[0m         \u001b[0mself\u001b[0m\u001b[0;34m.\u001b[0m\u001b[0m_params\u001b[0m \u001b[0;34m=\u001b[0m \u001b[0mload_punkt_params\u001b[0m\u001b[0;34m(\u001b[0m\u001b[0mlang_dir\u001b[0m\u001b[0;34m)\u001b[0m\u001b[0;34m\u001b[0m\u001b[0;34m\u001b[0m\u001b[0m\n\u001b[1;32m   1751\u001b[0m         \u001b[0mself\u001b[0m\u001b[0;34m.\u001b[0m\u001b[0m_lang\u001b[0m \u001b[0;34m=\u001b[0m \u001b[0mlang\u001b[0m\u001b[0;34m\u001b[0m\u001b[0;34m\u001b[0m\u001b[0m\n",
            "\u001b[0;32m/usr/local/lib/python3.11/dist-packages/nltk/data.py\u001b[0m in \u001b[0;36mfind\u001b[0;34m(resource_name, paths)\u001b[0m\n\u001b[1;32m    577\u001b[0m     \u001b[0msep\u001b[0m \u001b[0;34m=\u001b[0m \u001b[0;34m\"*\"\u001b[0m \u001b[0;34m*\u001b[0m \u001b[0;36m70\u001b[0m\u001b[0;34m\u001b[0m\u001b[0;34m\u001b[0m\u001b[0m\n\u001b[1;32m    578\u001b[0m     \u001b[0mresource_not_found\u001b[0m \u001b[0;34m=\u001b[0m \u001b[0;34mf\"\\n{sep}\\n{msg}\\n{sep}\\n\"\u001b[0m\u001b[0;34m\u001b[0m\u001b[0;34m\u001b[0m\u001b[0m\n\u001b[0;32m--> 579\u001b[0;31m     \u001b[0;32mraise\u001b[0m \u001b[0mLookupError\u001b[0m\u001b[0;34m(\u001b[0m\u001b[0mresource_not_found\u001b[0m\u001b[0;34m)\u001b[0m\u001b[0;34m\u001b[0m\u001b[0;34m\u001b[0m\u001b[0m\n\u001b[0m\u001b[1;32m    580\u001b[0m \u001b[0;34m\u001b[0m\u001b[0m\n\u001b[1;32m    581\u001b[0m \u001b[0;34m\u001b[0m\u001b[0m\n",
            "\u001b[0;31mLookupError\u001b[0m: \n**********************************************************************\n  Resource \u001b[93mpunkt_tab\u001b[0m not found.\n  Please use the NLTK Downloader to obtain the resource:\n\n  \u001b[31m>>> import nltk\n  >>> nltk.download('punkt_tab')\n  \u001b[0m\n  For more information see: https://www.nltk.org/data.html\n\n  Attempted to load \u001b[93mtokenizers/punkt_tab/english/\u001b[0m\n\n  Searched in:\n    - '/root/nltk_data'\n    - '/usr/nltk_data'\n    - '/usr/share/nltk_data'\n    - '/usr/lib/nltk_data'\n    - '/usr/share/nltk_data'\n    - '/usr/local/share/nltk_data'\n    - '/usr/lib/nltk_data'\n    - '/usr/local/lib/nltk_data'\n**********************************************************************\n"
          ]
        }
      ],
      "source": [
        "english_file = \"/content/NLP_COURSE/data/europarl-v7.it-en.en\"\n",
        "italian_file = \"/content/NLP_COURSE/data/europarl-v7.it-en.it\"\n",
        "\n",
        "en_vocab = set(english_vocab)\n",
        "it_vocab = set(italian_vocab)\n",
        "\n",
        "#loading corpus for training\n",
        "count = 0\n",
        "english_lines, italian_lines = [], []\n",
        "english_sentences, italian_sentences = [], []\n",
        "\n",
        "print('Reading english sentences...')\n",
        "with open(english_file,'rt') as f:\n",
        "    english_lines = f.readlines()\n",
        "\n",
        "print('Reading italian sentences...')\n",
        "with open(italian_file,'rt') as f:\n",
        "    italian_lines = f.readlines()\n",
        "\n",
        "for (sentence_en, sentence_it) in zip(english_lines, italian_lines):\n",
        "    if count < MAX_SENTENCES:\n",
        "        preprocessed_sent_en = filter_and_preprocess(sentence_en.lower()[:-1],\n",
        "                                                    en_tokenizer,\n",
        "                                                    en_vocab,\n",
        "                                                    max_sequence_len)\n",
        "        if preprocessed_sent_en:\n",
        "            preprocessed_sent_it = filter_and_preprocess(sentence_it.lower()[:-1],\n",
        "                                                it_tokenizer,\n",
        "                                                it_vocab,\n",
        "                                                max_sequence_len)\n",
        "            if preprocessed_sent_it:\n",
        "                english_sentences.append(preprocessed_sent_en)\n",
        "                italian_sentences.append(preprocessed_sent_it)\n",
        "                count += 1\n",
        "                print(count, end='\\r')\n",
        "    else: break"
      ]
    },
    {
      "cell_type": "code",
      "execution_count": null,
      "metadata": {
        "id": "1HpIGtz42PJe",
        "outputId": "c03b0894-9184-4707-e4b8-f2e436262b6b"
      },
      "outputs": [
        {
          "data": {
            "text/plain": [
              "['resumption of the session',\n",
              " 'i declare resumed the session of the european parliament adjourned on friday 17 december 1999, and i would like once again to wish you a happy new year in the hope that you enjoyed a pleasant festive period.']"
            ]
          },
          "execution_count": 11,
          "metadata": {},
          "output_type": "execute_result"
        }
      ],
      "source": [
        "english_sentences[:2]"
      ]
    },
    {
      "cell_type": "code",
      "execution_count": null,
      "metadata": {
        "id": "VQ2_MBm-2PJe",
        "outputId": "57b5fe05-dc76-4332-a464-4f2c55f54cf8"
      },
      "outputs": [
        {
          "data": {
            "text/plain": [
              "['ripresa della sessione',\n",
              " 'dichiaro ripresa la sessione del parlamento europeo, interrotta venerdì 17 dicembre e rinnovo a tutti i miei migliori auguri nella speranza che abbiate trascorso delle buone vacanze.']"
            ]
          },
          "execution_count": 12,
          "metadata": {},
          "output_type": "execute_result"
        }
      ],
      "source": [
        "italian_sentences[:2]"
      ]
    },
    {
      "cell_type": "markdown",
      "metadata": {
        "id": "leSGDucj2PJf"
      },
      "source": [
        "Next, we build a custom $\\texttt{Dataset}$ class to store our input pairs and to obtain a nice interface for doing batching."
      ]
    },
    {
      "cell_type": "code",
      "execution_count": null,
      "metadata": {
        "id": "7rZWB4MB2PJf"
      },
      "outputs": [],
      "source": [
        "#we build a dataset class for our specific MT task\n",
        "from torch.utils.data import Dataset, DataLoader\n",
        "\n",
        "class TextDataset(Dataset):\n",
        "\n",
        "    def __init__(self, english_sentences, italian_sentences):\n",
        "        self.english_sentences = english_sentences\n",
        "        self.italian_sentences = italian_sentences\n",
        "\n",
        "    def __len__(self):\n",
        "        return len(self.english_sentences)\n",
        "\n",
        "    def __getitem__(self, idx):\n",
        "        return self.english_sentences[idx], self.italian_sentences[idx]"
      ]
    },
    {
      "cell_type": "code",
      "execution_count": null,
      "metadata": {
        "id": "sZPRbDLy2PJg"
      },
      "outputs": [],
      "source": [
        "#here is our dataset instance, which will work flawlessly with other pytorch modules\n",
        "dataset = TextDataset(english_sentences, italian_sentences)\n",
        "\n",
        "#saving the dataset\n",
        "torch.save(dataset, '/content/NLP_COURSE/data/it-en_dataset.pt')"
      ]
    },
    {
      "cell_type": "code",
      "execution_count": null,
      "metadata": {
        "id": "hLCjAzyX2PJh",
        "outputId": "87af1869-623f-40a9-f284-9d55cfaf958d"
      },
      "outputs": [
        {
          "data": {
            "text/plain": [
              "('agenda', 'ordine dei lavori')"
            ]
          },
          "execution_count": 15,
          "metadata": {},
          "output_type": "execute_result"
        }
      ],
      "source": [
        "dataset[34]"
      ]
    },
    {
      "cell_type": "code",
      "execution_count": null,
      "metadata": {
        "id": "kXN0tkOb2PJh"
      },
      "outputs": [],
      "source": [
        "#loading dataset\n",
        "dataset = torch.load('/content/NLP_COURSE/data/it-en_dataset.pt', weights_only=False)"
      ]
    },
    {
      "cell_type": "markdown",
      "metadata": {
        "id": "-ztbGN7E2PJi"
      },
      "source": [
        "Let's see how to batch our data: we simply create a $\\texttt{DataLoader}$ instance to iterate through the dataset in batches of size 3."
      ]
    },
    {
      "cell_type": "code",
      "execution_count": null,
      "metadata": {
        "id": "5TI3TfC12PJi"
      },
      "outputs": [],
      "source": [
        "#we can also batch our data to make training faster\n",
        "batch_size = 3\n",
        "train_loader = DataLoader(dataset, batch_size)\n",
        "iterator = iter(train_loader)\n",
        "batch = next(iterator)"
      ]
    },
    {
      "cell_type": "code",
      "execution_count": null,
      "metadata": {
        "id": "KEnmkbLV2PJi",
        "outputId": "bd361aaa-1acc-4175-f600-ba4f4bfbf436"
      },
      "outputs": [
        {
          "name": "stdout",
          "output_type": "stream",
          "text": [
            "English: resumption of the session\n",
            "Italian: ripresa della sessione\n",
            "\n",
            "\n",
            "English: i declare resumed the session of the european parliament adjourned on friday 17 december 1999, and i would like once again to wish you a happy new year in the hope that you enjoyed a pleasant festive period.\n",
            "Italian: dichiaro ripresa la sessione del parlamento europeo, interrotta venerdì 17 dicembre e rinnovo a tutti i miei migliori auguri nella speranza che abbiate trascorso delle buone vacanze.\n",
            "\n",
            "\n",
            "English: please rise, then, for this minute' s silence.\n",
            "Italian: vi invito pertanto ad alzarvi in piedi per osservare appunto un minuto di silenzio.\n",
            "\n",
            "\n"
          ]
        }
      ],
      "source": [
        "for i in range(batch_size):\n",
        "    print(f\"English: {batch[0][i]}\")\n",
        "    print(f\"Italian: {batch[1][i]}\\n\\n\")"
      ]
    },
    {
      "cell_type": "markdown",
      "metadata": {
        "id": "YHoAV7LA2PJi"
      },
      "source": [
        "#### Tokenization"
      ]
    },
    {
      "cell_type": "markdown",
      "metadata": {
        "id": "Qw_p_95K2PJj"
      },
      "source": [
        "For this step, we replace each word with its corresponding index in the vocabulary lookup tables.\\\n",
        "Then, we add \\<START\\>, \\<END\\> and \\<PADDING\\> tokens accordingly."
      ]
    },
    {
      "cell_type": "code",
      "execution_count": null,
      "metadata": {
        "id": "i1OneduH2PJj"
      },
      "outputs": [],
      "source": [
        "#now we build our tokenizer, using the previously-made lookup tables\n",
        "def tokenize(sentence, language_to_index, lang_tokenizer, start_token=True, end_token=True):\n",
        "    sentence_word_ids = [language_to_index[token.text] for token in lang_tokenizer(sentence)]\n",
        "    if start_token:\n",
        "        sentence_word_ids.insert(0, language_to_index[START_TOKEN])\n",
        "    if end_token:\n",
        "        sentence_word_ids.append(language_to_index[END_TOKEN])\n",
        "    for _ in range(len(sentence_word_ids), max_sequence_len):\n",
        "        sentence_word_ids.append(language_to_index[PADDING_TOKEN])\n",
        "    return torch.tensor(sentence_word_ids)"
      ]
    },
    {
      "cell_type": "code",
      "execution_count": null,
      "metadata": {
        "id": "d7xYdZkN2PJj",
        "outputId": "9b94738e-79a5-4a2d-ec11-5019ffa22b0d"
      },
      "outputs": [
        {
          "data": {
            "text/plain": [
              "tensor([577301, 495208, 413600, 537346, 669662, 618747,   2090, 709120,      1,\n",
              "             1,      1,      1,      1,      1,      1,      1,      1,      1,\n",
              "             1,      1,      1,      1,      1,      1,      1,      1,      1,\n",
              "             1,      1,      1,      1,      1,      1,      1,      1,      1,\n",
              "             1,      1,      1,      1,      1,      1,      1,      1,      1,\n",
              "             1,      1,      1,      1,      1,      1,      1,      1,      1,\n",
              "             1,      1,      1,      1,      1,      1])"
            ]
          },
          "execution_count": 20,
          "metadata": {},
          "output_type": "execute_result"
        }
      ],
      "source": [
        "tokenize('my favourite animal is the raccoon.', english_to_index, nlp_en.tokenizer, start_token=False, end_token=True)"
      ]
    },
    {
      "cell_type": "code",
      "execution_count": null,
      "metadata": {
        "id": "dqOZYKxY2PJj",
        "outputId": "26a574b0-4b5d-4753-81c3-b7d8f0c6e63e"
      },
      "outputs": [
        {
          "data": {
            "text/plain": [
              "tensor([     0, 452133, 508312, 307921, 556341, 677465, 452133, 559469,   3016,\n",
              "        681818,      1,      1,      1,      1,      1,      1,      1,      1,\n",
              "             1,      1,      1,      1,      1,      1,      1,      1,      1,\n",
              "             1,      1,      1,      1,      1,      1,      1,      1,      1,\n",
              "             1,      1,      1,      1,      1,      1,      1,      1,      1,\n",
              "             1,      1,      1,      1,      1,      1,      1,      1,      1,\n",
              "             1,      1,      1,      1,      1,      1])"
            ]
          },
          "execution_count": 21,
          "metadata": {},
          "output_type": "execute_result"
        }
      ],
      "source": [
        "tokenize('il mio animale preferito è il procione.', italian_to_index, nlp_it.tokenizer, start_token=True, end_token=True)"
      ]
    },
    {
      "cell_type": "code",
      "execution_count": null,
      "metadata": {
        "id": "GFEIYe3Q2PJk"
      },
      "outputs": [],
      "source": [
        "eng_tokenized, it_tokenized = [], []\n",
        "for sentence_num in range(batch_size):\n",
        "    eng_sentence, it_sentence = batch[0][sentence_num], batch[1][sentence_num]\n",
        "    eng_tokenized.append(tokenize(eng_sentence, english_to_index, nlp_en.tokenizer, start_token=False, end_token=True))\n",
        "    #start and end tokens are required for beginning and ending in the generation phase\n",
        "    it_tokenized.append(tokenize(it_sentence, italian_to_index, nlp_it.tokenizer, start_token=True, end_token=True))\n",
        "\n",
        "#concatenate array/tensor in a new dimension\n",
        "eng_tokenized = torch.stack(eng_tokenized)\n",
        "it_tokenized = torch.stack(it_tokenized)"
      ]
    },
    {
      "cell_type": "code",
      "execution_count": null,
      "metadata": {
        "id": "b7bdKlUQ2PJk",
        "outputId": "fc7147cb-5a3d-4d8f-c3d8-40d0ee6c850d"
      },
      "outputs": [
        {
          "data": {
            "text/plain": [
              "tensor([[     0, 582908, 386186, 605987, 681818,      1,      1,      1,      1,\n",
              "              1,      1,      1,      1,      1,      1,      1,      1,      1,\n",
              "              1,      1,      1,      1,      1,      1,      1,      1,      1,\n",
              "              1,      1,      1,      1,      1,      1,      1,      1,      1,\n",
              "              1,      1,      1,      1,      1,      1,      1,      1,      1,\n",
              "              1,      1,      1,      1,      1,      1,      1,      1,      1,\n",
              "              1,      1,      1,      1,      1,      1],\n",
              "        [     0, 390262, 582908, 479187, 605987, 385659, 538651, 412678,   1125,\n",
              "         464560, 659102,  13442, 390158, 400625, 581836, 290096, 650346, 449621,\n",
              "         506527, 506741, 320901, 520285, 620412, 356581, 291149, 645781, 386272,\n",
              "         342072, 655725,   3016, 681818,      1,      1,      1,      1,      1,\n",
              "              1,      1,      1,      1,      1,      1,      1,      1,      1,\n",
              "              1,      1,      1,      1,      1,      1,      1,      1,      1,\n",
              "              1,      1,      1,      1,      1,      1],\n",
              "        [     0, 661056, 466372, 544677, 294986, 304337, 455756, 547155, 542854,\n",
              "         532883, 312484, 652739, 508282, 389689, 610259,   3016, 681818,      1,\n",
              "              1,      1,      1,      1,      1,      1,      1,      1,      1,\n",
              "              1,      1,      1,      1,      1,      1,      1,      1,      1,\n",
              "              1,      1,      1,      1,      1,      1,      1,      1,      1,\n",
              "              1,      1,      1,      1,      1,      1,      1,      1,      1,\n",
              "              1,      1,      1,      1,      1,      1]])"
            ]
          },
          "execution_count": 23,
          "metadata": {},
          "output_type": "execute_result"
        }
      ],
      "source": [
        "it_tokenized"
      ]
    },
    {
      "cell_type": "markdown",
      "metadata": {
        "id": "6qxOb10y2PJl"
      },
      "source": [
        "#### Putting all together: fancy class for Sentence Embeddings"
      ]
    },
    {
      "cell_type": "code",
      "execution_count": null,
      "metadata": {
        "id": "BTDikmdK2PJl"
      },
      "outputs": [],
      "source": [
        "def get_device():\n",
        "    return torch.device('cuda') if torch.cuda.is_available() else torch.device('cpu')\n",
        "\n",
        "class SentenceEmbedding(nn.Module):\n",
        "    \"For a given sentence, create an embedding\"\n",
        "    def __init__(self, max_sequence_length, d_model, language_to_index, lang_tokenizer, START_TOKEN, END_TOKEN, PADDING_TOKEN):\n",
        "        super().__init__()\n",
        "        self.vocab_size = len(language_to_index)\n",
        "        self.max_sequence_length = max_sequence_length\n",
        "        self.embedding = nn.Embedding(self.vocab_size, d_model)\n",
        "        self.language_to_index = language_to_index\n",
        "        self.language_tokenizer = lang_tokenizer\n",
        "        self.dropout = nn.Dropout(p=0.1)\n",
        "        self.START_TOKEN = START_TOKEN\n",
        "        self.END_TOKEN = END_TOKEN\n",
        "        self.PADDING_TOKEN = PADDING_TOKEN\n",
        "\n",
        "    def batch_tokenize(self, batch, start_token=True, end_token=True):\n",
        "\n",
        "        def tokenize(sentence, start_token=True, end_token=True):\n",
        "            sentence_word_ids = [self.language_to_index[token.text] for token in self.language_tokenizer(sentence)]\n",
        "            if start_token:\n",
        "                sentence_word_ids.insert(0, self.language_to_index[self.START_TOKEN])\n",
        "            if end_token:\n",
        "                sentence_word_ids.append(self.language_to_index[self.END_TOKEN])\n",
        "            for _ in range(len(sentence_word_ids), self.max_sequence_length):\n",
        "                sentence_word_ids.append(self.language_to_index[self.PADDING_TOKEN])\n",
        "            return torch.tensor(sentence_word_ids)\n",
        "\n",
        "        tokenized = []\n",
        "        for sentence_num in range(len(batch)):\n",
        "            tokenized.append(tokenize(batch[sentence_num], start_token, end_token))\n",
        "        tokenized = torch.stack(tokenized)\n",
        "        return tokenized.to(get_device()) #set tensor to cuda \"if available\"\n",
        "\n",
        "    def forward(self, x, start_token = True, end_token=True): # sentence\n",
        "        x = self.batch_tokenize(x, start_token, end_token)\n",
        "        x = self.embedding(x) #map the tokenized sentences to the correspondent vector\n",
        "        return x\n"
      ]
    },
    {
      "cell_type": "code",
      "execution_count": null,
      "metadata": {
        "id": "D_GNy_5P2PJl",
        "outputId": "07a7a50c-0a2c-46e9-e07b-25217c943b2c"
      },
      "outputs": [
        {
          "name": "stdout",
          "output_type": "stream",
          "text": [
            "Input batch: (\"(the house rose and observed a minute' s silence)\", \"would it be appropriate for you, madam president, to write a letter to the sri lankan president expressing parliament's regret at his and the other violent deaths in sri lanka and urging her to do everything she possibly can to seek a peaceful reconciliation to a very difficult situation?\", 'yes, mr evans, i feel an initiative of the type you have just suggested would be entirely appropriate.')\n",
            "Output embeddings shapes:[torch.Size([60, 6]), torch.Size([60, 6]), torch.Size([60, 6])]\n",
            "Ouput embeddings: tensor([[[-0.9587, -0.2663,  0.5240, -0.1451, -0.3856, -0.0566],\n",
            "         [-1.3863, -0.1410, -0.6619,  0.5680, -0.5858, -1.7058],\n",
            "         [ 1.1944,  0.3781,  0.1385, -0.4526, -0.9460,  0.0125],\n",
            "         ...,\n",
            "         [-1.8414,  0.1742,  0.0160,  0.6833,  0.8817, -1.4737],\n",
            "         [-1.8414,  0.1742,  0.0160,  0.6833,  0.8817, -1.4737],\n",
            "         [-1.8414,  0.1742,  0.0160,  0.6833,  0.8817, -1.4737]],\n",
            "\n",
            "        [[-0.9587, -0.2663,  0.5240, -0.1451, -0.3856, -0.0566],\n",
            "         [-0.2631,  1.6909,  1.3489, -0.4885,  0.2128,  1.5264],\n",
            "         [-1.5057,  0.3047,  0.0807, -0.7330,  1.0493,  0.5580],\n",
            "         ...,\n",
            "         [-1.8414,  0.1742,  0.0160,  0.6833,  0.8817, -1.4737],\n",
            "         [-1.8414,  0.1742,  0.0160,  0.6833,  0.8817, -1.4737],\n",
            "         [-1.8414,  0.1742,  0.0160,  0.6833,  0.8817, -1.4737]],\n",
            "\n",
            "        [[-0.9587, -0.2663,  0.5240, -0.1451, -0.3856, -0.0566],\n",
            "         [ 0.3959, -0.1684, -0.7474,  0.6398, -2.2018,  0.5655],\n",
            "         [-0.6856, -0.7772,  0.5612,  0.7749, -0.2903, -0.9080],\n",
            "         ...,\n",
            "         [-1.8414,  0.1742,  0.0160,  0.6833,  0.8817, -1.4737],\n",
            "         [-1.8414,  0.1742,  0.0160,  0.6833,  0.8817, -1.4737],\n",
            "         [-1.8414,  0.1742,  0.0160,  0.6833,  0.8817, -1.4737]]],\n",
            "       grad_fn=<EmbeddingBackward0>)\n"
          ]
        }
      ],
      "source": [
        "sentence_embedding = SentenceEmbedding(max_sequence_len, d_model, english_to_index,\n",
        "                                    nlp_en.tokenizer, START_TOKEN, END_TOKEN, PADDING_TOKEN)\n",
        "english_batch = next(iterator)[0]\n",
        "print(f\"Input batch: {english_batch}\\nOutput embeddings shapes:{[embedding.size() for embedding in sentence_embedding(english_batch, start_token = False, end_token = True)]}\\nOuput embeddings: {sentence_embedding(english_batch)}\")"
      ]
    },
    {
      "cell_type": "code",
      "execution_count": null,
      "metadata": {
        "id": "DYSng4302PJl",
        "outputId": "5f7cd4f6-53f2-41ea-c80c-ff77879005cb"
      },
      "outputs": [
        {
          "data": {
            "text/plain": [
              "('if the house agrees, i shall do as mr evans has suggested.',\n",
              " 'madam president, on a point of order.',\n",
              " 'that is precisely the time when you may, if you wish, raise this question, i.e. on thursday prior to the start of the presentation of the report.')"
            ]
          },
          "execution_count": 26,
          "metadata": {},
          "output_type": "execute_result"
        }
      ],
      "source": [
        "next(iterator)[0]"
      ]
    },
    {
      "cell_type": "markdown",
      "metadata": {
        "id": "Q0tYoRVa2PJm"
      },
      "source": [
        "### Positional Encoding\n",
        "\n",
        "The reason for using both sine and cosine functions is related to their complementary nature. Sine and cosine are fundamentally related through a phase shift. For any value x, we know that sin(x)=cos(x−π/2). This property is crucial for the model's ability to easily compute relative positions.\n",
        "\n",
        "> Let's consider two positions, pos and pos + k. The model needs to be able to figure out that the distance between them is k, regardless of their absolute positions. The use of sine and cosine allows for this. By using simple trigonometric identities, the positional encoding for pos + k can be expressed as a linear function of the positional encoding for pos. This makes it easy for the self-attention mechanism to learn and model relative distances.\n",
        "\n",
        "\n",
        "\n",
        "\n"
      ]
    },
    {
      "cell_type": "code",
      "execution_count": null,
      "metadata": {
        "id": "FKq0WRGk2PJm"
      },
      "outputs": [],
      "source": [
        "#only for displaying purposes, we will lower\n",
        "#max_sequence_len to 10\n",
        "max_sequence_len = 10"
      ]
    },
    {
      "cell_type": "markdown",
      "metadata": {
        "id": "wHceDLvs2PJm"
      },
      "source": [
        "$$\n",
        "PE(\\text{position}, 2i) = \\sin\\bigg( \\frac{ \\text{position} }{10000^\\frac{2i}{d_{model}}} \\bigg)\n",
        "$$\n",
        "\n",
        "$$\n",
        "PE(\\text{position}, 2i+1) = \\cos\\bigg( \\frac{ \\text{position} }{10000^\\frac{2i}{d_{model}}} \\bigg)\n",
        "$$\n",
        "where $i$ is the embedding dimension index, $position$ is the position of the word in the sentence, $d_{model}$ is the size of the embedding.\n",
        "- sin and cos allow for constrained values\n",
        "- sin and cos are periodic -> easier to attend to relative and distant positions\n"
      ]
    },
    {
      "cell_type": "code",
      "execution_count": null,
      "metadata": {
        "id": "PTUFEq002PJm",
        "outputId": "8b73da21-076e-48d4-9ecf-ed91b047259d"
      },
      "outputs": [
        {
          "data": {
            "text/plain": [
              "tensor([0., 0., 2., 2., 4., 4.])"
            ]
          },
          "execution_count": 41,
          "metadata": {},
          "output_type": "execute_result"
        }
      ],
      "source": [
        "torch.arange(0,d_model,2, dtype=torch.float).repeat_interleave(2)[:d_model]"
      ]
    },
    {
      "cell_type": "markdown",
      "metadata": {
        "id": "MdzG8kG72PJn"
      },
      "source": [
        "Note that, whenever position is an odd number $2i+1$, its respective cosine function still considers $2i$ in its denominator formula, which corresponds to $(2i+1)-1 = 2i$. For this reason, we use $\\texttt{repeat\\_interleave()}$ function to repeat even elements of the $i$ tensor."
      ]
    },
    {
      "cell_type": "code",
      "execution_count": null,
      "metadata": {
        "id": "ZBxb6B-V2PJn",
        "outputId": "094982b1-003e-4925-d54c-bbaa894f98e6"
      },
      "outputs": [
        {
          "data": {
            "text/plain": [
              "tensor([0., 0., 2., 2., 4., 4.])"
            ]
          },
          "execution_count": 42,
          "metadata": {},
          "output_type": "execute_result"
        }
      ],
      "source": [
        "i = torch.arange(0,d_model,2, dtype=torch.float).repeat_interleave(2)[:d_model]\n",
        "i"
      ]
    },
    {
      "cell_type": "markdown",
      "metadata": {
        "id": "BF_f7hzr2PJn"
      },
      "source": [
        "The next code computes $10000^\\frac{2i}{d_{model}}$."
      ]
    },
    {
      "cell_type": "code",
      "execution_count": null,
      "metadata": {
        "id": "dJN2qU2D2PJn",
        "outputId": "9abca179-374d-4aa8-c0ff-778476e70485"
      },
      "outputs": [
        {
          "data": {
            "text/plain": [
              "tensor([1.0000e+00, 1.0000e+00, 4.6416e+02, 4.6416e+02, 2.1544e+05, 2.1544e+05])"
            ]
          },
          "execution_count": 43,
          "metadata": {},
          "output_type": "execute_result"
        }
      ],
      "source": [
        "denominator = torch.pow(10000, 2*i/d_model)\n",
        "denominator"
      ]
    },
    {
      "cell_type": "markdown",
      "metadata": {
        "id": "LEk64DkC2PJn"
      },
      "source": [
        "This code computes $\\text{position}$.\n"
      ]
    },
    {
      "cell_type": "code",
      "execution_count": null,
      "metadata": {
        "id": "hdUvJq0k2PJn",
        "outputId": "8aaa227e-d639-4d3b-c43c-246d56e4e465"
      },
      "outputs": [
        {
          "data": {
            "text/plain": [
              "tensor([[0.],\n",
              "        [1.],\n",
              "        [2.],\n",
              "        [3.],\n",
              "        [4.],\n",
              "        [5.],\n",
              "        [6.],\n",
              "        [7.],\n",
              "        [8.],\n",
              "        [9.]])"
            ]
          },
          "execution_count": 32,
          "metadata": {},
          "output_type": "execute_result"
        }
      ],
      "source": [
        "torch.arange(max_sequence_len, dtype=torch.float).reshape(max_sequence_len, 1)"
      ]
    },
    {
      "cell_type": "code",
      "execution_count": null,
      "metadata": {
        "id": "6RvIAaj32PJo",
        "outputId": "ee7efc7e-c7ed-459e-8bcb-247c865681ed"
      },
      "outputs": [
        {
          "data": {
            "text/plain": [
              "tensor([[0.],\n",
              "        [1.],\n",
              "        [2.],\n",
              "        [3.],\n",
              "        [4.],\n",
              "        [5.],\n",
              "        [6.],\n",
              "        [7.],\n",
              "        [8.],\n",
              "        [9.]])"
            ]
          },
          "execution_count": 33,
          "metadata": {},
          "output_type": "execute_result"
        }
      ],
      "source": [
        "position = torch.arange(max_sequence_len, dtype=torch.float).reshape(max_sequence_len, 1)\n",
        "position"
      ]
    },
    {
      "cell_type": "markdown",
      "metadata": {
        "id": "Bk_6J2P22PJo"
      },
      "source": [
        "And this code computes $\\frac{ \\text{position} }{10000^\\frac{2i}{d_{model}}}$."
      ]
    },
    {
      "cell_type": "code",
      "execution_count": null,
      "metadata": {
        "id": "GWA7PxCS2PJo",
        "outputId": "011f547f-cf6b-4c63-e431-8840578f7084"
      },
      "outputs": [
        {
          "data": {
            "text/plain": [
              "tensor([[0.0000e+00, 0.0000e+00, 0.0000e+00, 0.0000e+00, 0.0000e+00, 0.0000e+00],\n",
              "        [1.0000e+00, 1.0000e+00, 2.1544e-03, 2.1544e-03, 4.6416e-06, 4.6416e-06],\n",
              "        [2.0000e+00, 2.0000e+00, 4.3089e-03, 4.3089e-03, 9.2832e-06, 9.2832e-06],\n",
              "        [3.0000e+00, 3.0000e+00, 6.4633e-03, 6.4633e-03, 1.3925e-05, 1.3925e-05],\n",
              "        [4.0000e+00, 4.0000e+00, 8.6177e-03, 8.6177e-03, 1.8566e-05, 1.8566e-05],\n",
              "        [5.0000e+00, 5.0000e+00, 1.0772e-02, 1.0772e-02, 2.3208e-05, 2.3208e-05],\n",
              "        [6.0000e+00, 6.0000e+00, 1.2927e-02, 1.2927e-02, 2.7850e-05, 2.7850e-05],\n",
              "        [7.0000e+00, 7.0000e+00, 1.5081e-02, 1.5081e-02, 3.2491e-05, 3.2491e-05],\n",
              "        [8.0000e+00, 8.0000e+00, 1.7235e-02, 1.7235e-02, 3.7133e-05, 3.7133e-05],\n",
              "        [9.0000e+00, 9.0000e+00, 1.9390e-02, 1.9390e-02, 4.1774e-05, 4.1774e-05]])"
            ]
          },
          "execution_count": 34,
          "metadata": {},
          "output_type": "execute_result"
        }
      ],
      "source": [
        "sin_cos_argument = position/denominator\n",
        "sin_cos_argument"
      ]
    },
    {
      "cell_type": "markdown",
      "metadata": {
        "id": "JiZ25ZjG2PJo"
      },
      "source": [
        "Now we are ready to apply the $\\sin$ function to even vector positions ($\\texttt{[:, 0::2]}$) and the $\\cos$ function to odd vector positions ($\\texttt{[:, 1::2]}$).\\\n",
        "This computation gives us the final positional encoding ($\\texttt{PE}$)."
      ]
    },
    {
      "cell_type": "code",
      "execution_count": null,
      "metadata": {
        "id": "zlCHbkhE2PJo",
        "outputId": "0a18713c-cf23-43ab-82e2-9b02bbe46650"
      },
      "outputs": [
        {
          "data": {
            "text/plain": [
              "tensor([[ 0.0000e+00,  1.0000e+00,  0.0000e+00,  1.0000e+00,  0.0000e+00,\n",
              "          1.0000e+00],\n",
              "        [ 8.4147e-01,  5.4030e-01,  2.1544e-03,  1.0000e+00,  4.6416e-06,\n",
              "          1.0000e+00],\n",
              "        [ 9.0930e-01, -4.1615e-01,  4.3089e-03,  9.9999e-01,  9.2832e-06,\n",
              "          1.0000e+00],\n",
              "        [ 1.4112e-01, -9.8999e-01,  6.4633e-03,  9.9998e-01,  1.3925e-05,\n",
              "          1.0000e+00],\n",
              "        [-7.5680e-01, -6.5364e-01,  8.6176e-03,  9.9996e-01,  1.8566e-05,\n",
              "          1.0000e+00],\n",
              "        [-9.5892e-01,  2.8366e-01,  1.0772e-02,  9.9994e-01,  2.3208e-05,\n",
              "          1.0000e+00],\n",
              "        [-2.7942e-01,  9.6017e-01,  1.2926e-02,  9.9992e-01,  2.7850e-05,\n",
              "          1.0000e+00],\n",
              "        [ 6.5699e-01,  7.5390e-01,  1.5080e-02,  9.9989e-01,  3.2491e-05,\n",
              "          1.0000e+00],\n",
              "        [ 9.8936e-01, -1.4550e-01,  1.7235e-02,  9.9985e-01,  3.7133e-05,\n",
              "          1.0000e+00],\n",
              "        [ 4.1212e-01, -9.1113e-01,  1.9389e-02,  9.9981e-01,  4.1774e-05,\n",
              "          1.0000e+00]])"
            ]
          },
          "execution_count": 35,
          "metadata": {},
          "output_type": "execute_result"
        }
      ],
      "source": [
        "PE = torch.zeros(size = sin_cos_argument.shape)\n",
        "#even positions\n",
        "PE[:, 0::2] = torch.sin(sin_cos_argument[:, 0::2]) #starting from the 0 column with 2 column step\n",
        "#odd positions\n",
        "PE[:, 1::2] = torch.cos(sin_cos_argument[:, 1::2]) #starting from the 1 column with 2 column step\n",
        "PE"
      ]
    },
    {
      "cell_type": "code",
      "execution_count": null,
      "metadata": {
        "id": "TVP_a4_p2PJp",
        "outputId": "c2184937-e21f-482b-df4d-47f104de3a7a"
      },
      "outputs": [
        {
          "data": {
            "text/plain": [
              "tensor([ 1.4112e-01, -9.8999e-01,  6.4633e-03,  9.9998e-01,  1.3925e-05,\n",
              "         1.0000e+00])"
            ]
          },
          "execution_count": 36,
          "metadata": {},
          "output_type": "execute_result"
        }
      ],
      "source": [
        "PE[3]"
      ]
    },
    {
      "cell_type": "code",
      "execution_count": null,
      "metadata": {
        "id": "KRGtbYhG2PJp",
        "outputId": "57b8e7d8-ab79-4ed1-c5eb-118a6151aeb0"
      },
      "outputs": [
        {
          "data": {
            "image/png": "[encoded data removed]",
            "text/plain": [
              "<Figure size 1200x400 with 2 Axes>"
            ]
          },
          "metadata": {},
          "output_type": "display_data"
        }
      ],
      "source": [
        "fig, ax = plt.subplots(ncols=2, figsize=(12, 4))\n",
        "ax[0].imshow(PE, aspect='auto', cmap='Greens')\n",
        "for i in range(0, PE.shape[1], 2):\n",
        "    ax[1].plot(PE[:, i], label=f\"dim {i}\")\n",
        "for i in range(1, PE.shape[1], 2):\n",
        "    ax[1].plot(PE[:, i], label=f\"dim {i}\")\n",
        "ax[1].legend()\n",
        "plt.tight_layout()\n",
        "plt.show()"
      ]
    },
    {
      "cell_type": "markdown",
      "metadata": {
        "id": "cys5Lsc-2PJp"
      },
      "source": [
        "#### Fancy class for Positional Encoding"
      ]
    },
    {
      "cell_type": "code",
      "execution_count": null,
      "metadata": {
        "id": "2HGHuu2S2PJp"
      },
      "outputs": [],
      "source": [
        "class PositionalEncoding(nn.Module):\n",
        "    def __init__(self, d_model, max_sequence_length):\n",
        "        super().__init__()\n",
        "        self.max_sequence_length = max_sequence_length\n",
        "        self.d_model = d_model\n",
        "\n",
        "    def forward(self):\n",
        "        i = torch.arange(0,self.d_model,2, dtype=torch.float).repeat_interleave(2)[:self.d_model]\n",
        "        denominator = torch.pow(10000, 2*i/self.d_model)\n",
        "        position = torch.arange(self.max_sequence_length).reshape(self.max_sequence_length, 1)\n",
        "        sin_cos_argument = position/denominator\n",
        "        PE = torch.zeros(size = sin_cos_argument.shape)\n",
        "        PE[:, 0::2] = torch.sin(sin_cos_argument[:, 0::2]) #even positions\n",
        "        PE[:, 1::2] = torch.cos(sin_cos_argument[:, 1::2]) #odd positions\n",
        "        return PE"
      ]
    },
    {
      "cell_type": "markdown",
      "metadata": {
        "id": "vo_A9xdt2PJq"
      },
      "source": [
        "### Input Embeddings + Positional Encoding"
      ]
    },
    {
      "cell_type": "markdown",
      "metadata": {
        "id": "BiRH2qfC2PJq"
      },
      "source": [
        "Now we will update the $\\texttt{SentenceEmbedding}$ class to output embeddings with encoded position."
      ]
    },
    {
      "cell_type": "code",
      "execution_count": null,
      "metadata": {
        "id": "CSw0Yxl02PJq"
      },
      "outputs": [],
      "source": [
        "#resetting max_sequence_len\n",
        "max_sequence_len = 60"
      ]
    },
    {
      "cell_type": "code",
      "execution_count": null,
      "metadata": {
        "id": "9Yqh1v3w2PJr",
        "outputId": "83fb5ad2-b9a6-43d2-9489-913be35a1f2b"
      },
      "outputs": [
        {
          "name": "stdout",
          "output_type": "stream",
          "text": [
            "Input batch: ('this is all in accordance with the principles that we have always upheld.', 'thank you, mr segni, i shall do so gladly.', 'indeed, it is quite in keeping with the positions this house has always adopted.')\n",
            "Output embeddings shapes:[torch.Size([60, 6]), torch.Size([60, 6]), torch.Size([60, 6])]\n",
            "Ouput embeddings: tensor([[[ 1.6509e+00,  2.0301e+00,  1.1240e+00,  1.0266e+00, -2.6553e+00,\n",
            "           2.6204e-01],\n",
            "         [ 1.9073e-01,  2.9417e+00,  1.3478e+00,  2.7260e+00,  5.7923e-01,\n",
            "          -4.4876e-01],\n",
            "         [ 2.8694e-01, -4.0435e-01, -1.2232e-01,  5.3399e-01, -6.4842e-01,\n",
            "           0.0000e+00],\n",
            "         ...,\n",
            "         [ 3.2555e+00,  3.6284e+00,  3.1519e-01,  8.0926e-01,  6.4345e-01,\n",
            "           7.1938e-02],\n",
            "         [ 3.8741e+00,  2.7609e+00,  3.1757e-01,  8.0897e-01,  6.4346e-01,\n",
            "           7.1938e-02],\n",
            "         [ 0.0000e+00,  0.0000e+00,  3.1994e-01,  8.0867e-01,  0.0000e+00,\n",
            "           7.1938e-02]],\n",
            "\n",
            "        [[ 1.6509e+00,  2.0301e+00,  1.1240e+00,  1.0266e+00, -2.6553e+00,\n",
            "           2.6204e-01],\n",
            "         [ 2.0981e+00, -1.4289e-03, -8.4507e-02,  3.0289e+00, -3.2884e-01,\n",
            "           2.7237e+00],\n",
            "         [ 1.5650e+00, -1.0164e-01,  0.0000e+00,  6.5790e-01,  0.0000e+00,\n",
            "           1.6839e+00],\n",
            "         ...,\n",
            "         [ 3.2555e+00,  3.6284e+00,  3.1519e-01,  8.0926e-01,  6.4345e-01,\n",
            "           7.1938e-02],\n",
            "         [ 3.8741e+00,  2.7609e+00,  3.1757e-01,  0.0000e+00,  6.4346e-01,\n",
            "           7.1938e-02],\n",
            "         [ 3.4784e+00,  1.7718e+00,  3.1994e-01,  8.0867e-01,  6.4346e-01,\n",
            "           7.1938e-02]],\n",
            "\n",
            "        [[ 1.6509e+00,  2.0301e+00,  1.1240e+00,  1.0266e+00, -2.6553e+00,\n",
            "           2.6204e-01],\n",
            "         [ 1.1295e+00,  2.2280e-01, -2.4629e-01,  1.1621e-01,  1.1773e+00,\n",
            "           2.9834e+00],\n",
            "         [-9.5536e-01, -9.3905e-02,  1.8183e+00, -1.4136e-01,  4.3093e-01,\n",
            "           5.1453e-02],\n",
            "         ...,\n",
            "         [ 3.2555e+00,  3.6284e+00,  3.1519e-01,  8.0926e-01,  6.4345e-01,\n",
            "           7.1938e-02],\n",
            "         [ 3.8741e+00,  2.7609e+00,  3.1757e-01,  8.0897e-01,  6.4346e-01,\n",
            "           7.1938e-02],\n",
            "         [ 3.4784e+00,  1.7718e+00,  0.0000e+00,  8.0867e-01,  6.4346e-01,\n",
            "           7.1938e-02]]], grad_fn=<MulBackward0>)\n"
          ]
        }
      ],
      "source": [
        "sentence_embedding = SentenceEmbedding(max_sequence_len, d_model, english_to_index, nlp_en.tokenizer, START_TOKEN, END_TOKEN, PADDING_TOKEN)\n",
        "english_batch = next(iterator)[0]\n",
        "print(f\"Input batch: {english_batch}\\nOutput embeddings shapes:{[embedding.size() for embedding in sentence_embedding(english_batch, start_token = False, end_token = True)]}\\nOuput embeddings: {sentence_embedding(english_batch)}\")"
      ]
    },
    {
      "cell_type": "code",
      "execution_count": null,
      "metadata": {
        "id": "ge0VGdHP2PJq"
      },
      "outputs": [],
      "source": [
        "class SentenceEmbedding(nn.Module):\n",
        "    \"For a given sentence, create an embedding\"\n",
        "    def __init__(self, max_sequence_length, d_model, language_to_index, lang_tokenizer, START_TOKEN, END_TOKEN, PADDING_TOKEN):\n",
        "        super().__init__()\n",
        "        self.vocab_size = len(language_to_index)\n",
        "        self.max_sequence_length = max_sequence_length\n",
        "        self.embedding = nn.Embedding(self.vocab_size, d_model)\n",
        "        self.language_to_index = language_to_index\n",
        "        self.language_tokenizer = lang_tokenizer\n",
        "        self.position_encoder = PositionalEncoding(d_model, max_sequence_length)\n",
        "        self.dropout = nn.Dropout(p=0.1)\n",
        "        self.START_TOKEN = START_TOKEN\n",
        "        self.END_TOKEN = END_TOKEN\n",
        "        self.PADDING_TOKEN = PADDING_TOKEN\n",
        "\n",
        "    def batch_tokenize(self, batch, start_token=True, end_token=True):\n",
        "\n",
        "        def tokenize(sentence, start_token=True, end_token=True):\n",
        "            sentence_word_ids = [self.language_to_index[token.text] for token in self.language_tokenizer(sentence)]\n",
        "            if start_token:\n",
        "                sentence_word_ids.insert(0, self.language_to_index[self.START_TOKEN])\n",
        "            if end_token:\n",
        "                sentence_word_ids.append(self.language_to_index[self.END_TOKEN])\n",
        "            for _ in range(len(sentence_word_ids), self.max_sequence_length):\n",
        "                sentence_word_ids.append(self.language_to_index[self.PADDING_TOKEN])\n",
        "            return torch.tensor(sentence_word_ids)\n",
        "\n",
        "        tokenized = []\n",
        "        for sentence_num in range(len(batch)):\n",
        "            tokenized.append(tokenize(batch[sentence_num], start_token, end_token))\n",
        "        tokenized = torch.stack(tokenized)\n",
        "        return tokenized.to(get_device())\n",
        "\n",
        "    def forward(self, x, start_token = True, end_token=True): # sentence\n",
        "        x = self.batch_tokenize(x, start_token, end_token)\n",
        "        x = self.embedding(x)\n",
        "        pos = self.position_encoder().to(get_device())\n",
        "        #applying dropout to the combined word and positional embeddings helps to make the embedding representations\n",
        "        #more robust and less prone to overfitting on the training dataset.\n",
        "        x = self.dropout(x + pos)\n",
        "        return x\n"
      ]
    },
    {
      "cell_type": "code",
      "execution_count": null,
      "metadata": {
        "id": "I5aT_NTW2PJr"
      },
      "outputs": [],
      "source": [
        "en_sentence_embedding = SentenceEmbedding(max_sequence_len, d_model, english_to_index, nlp_en.tokenizer, START_TOKEN, END_TOKEN, PADDING_TOKEN)\n",
        "it_sentence_embedding = SentenceEmbedding(max_sequence_len, d_model, italian_to_index, nlp_it.tokenizer, START_TOKEN, END_TOKEN, PADDING_TOKEN)"
      ]
    },
    {
      "cell_type": "code",
      "execution_count": null,
      "metadata": {
        "id": "40Cb2pWa2PJs"
      },
      "outputs": [],
      "source": [
        "english_batch, italian_batch = next(iterator)"
      ]
    },
    {
      "cell_type": "markdown",
      "metadata": {
        "id": "LACP7uEb2PJs"
      },
      "source": [
        "### Attention"
      ]
    },
    {
      "cell_type": "markdown",
      "metadata": {
        "id": "GE8Ews7j2PJs"
      },
      "source": [
        "#### Simple Attention"
      ]
    },
    {
      "cell_type": "markdown",
      "metadata": {
        "id": "OaGLbWo82PJs"
      },
      "source": [
        "<center><img src=\"https://cdn.analyticsvidhya.com/wp-content/uploads/2019/11/image2.png\" width = \"50%\"/></center>"
      ]
    },
    {
      "cell_type": "markdown",
      "metadata": {
        "id": "iGPccjs32PJs"
      },
      "source": [
        "<center><img src=\"https://github.com/Abudo-S/NLP_COURSE/blob/main/transformers/img/attention.svg?raw=1\"/></center>"
      ]
    },
    {
      "cell_type": "markdown",
      "metadata": {
        "id": "rqQNAQRW2PJt"
      },
      "source": [
        "Properties:\n",
        "1. No access to \"future\" information $\\rightarrow$ autoregressive generation\n",
        "> The attention score matrix is a square matrix that shows the relationship between every token and every other token in the sequence.\n",
        "Before applying the softmax function, a mask is applied. This mask is an upper triangular matrix with values of negative infinity (or a very large negative number) in the positions corresponding to future tokens.\n",
        "When the softmax function is applied, these negative infinity values become zero, effectively setting the attention weights for future tokens to zero.\n",
        "\n",
        "2. Each computation (Q, K, V per word) is independent $\\rightarrow$ parallelization\n",
        "> Transformers process all words in a sequence simultaneously rather than one at a time. The computations for each word's representation are done in parallel within the self-attention mechanism and the feed-forward network.\n",
        "\n",
        "Steps:\n",
        "1. Comparison (similarity)\n",
        "$$\n",
        "\\text{score}(\\mathbf{x_i}, \\mathbf{x_j}) = \\mathbf{x_i} \\cdot \\mathbf{x_j}, \\quad \\forall j \\leq i\n",
        "$$\n",
        "2. Normalization\n",
        "$$\n",
        "\\alpha_{ij} = \\text{softmax}(\\text{score}(\\mathbf{x}_i, \\mathbf{x}_j)) = \\frac{exp(\\text{score}(\\mathbf{x}_i, \\mathbf{x}_j))}{\\sum_{k=1}^{i}exp(\\text{score}(\\mathbf{x}_i, \\mathbf{x}_k))}, \\quad \\forall j \\leq i\n",
        "$$\n",
        "3. Weighted sum\n",
        "$$\n",
        "\\mathbf{y}_i = \\sum_{j\\leq i}\\alpha_{ij}\\mathbf{x}_j\n",
        "$$"
      ]
    },
    {
      "cell_type": "code",
      "execution_count": null,
      "metadata": {
        "id": "T5tFjYps2PJt",
        "outputId": "3a659c45-bdb6-42fb-ec02-650811ea92b3"
      },
      "outputs": [
        {
          "name": "stdout",
          "output_type": "stream",
          "text": [
            "tensor([[3., 4., 3.],\n",
            "        [5., 5., 1.],\n",
            "        [2., 2., 3.],\n",
            "        [3., 3., 4.]], dtype=torch.float64) \n",
            "\n",
            "tensor([[47., 50., 32.],\n",
            "        [50., 54., 35.],\n",
            "        [32., 35., 35.]], dtype=torch.float64) \n",
            "\n",
            "[[0.04742587 0.01798621 0.0242889 ]\n",
            " [0.95257411 0.98201378 0.48785555]\n",
            " [0.00000001 0.00000001 0.48785555]] \n",
            "\n",
            "[[ 0.28708915  0.35134931  0.20369086  0.29339184]\n",
            " [ 8.24934413 10.16079504  5.33274245  7.7551859 ]\n",
            " [ 1.46356672  0.48785565  1.46356669  1.95142226]]\n"
          ]
        }
      ],
      "source": [
        "np.set_printoptions(suppress=True) #set numpy printing in a fixed-point notation (ex. 1.23e-05 => 0.0000123)\n",
        "x = torch.tensor(np.random.randint(1, 6, size=(4, 3)), dtype=float)\n",
        "print(x, \"\\n\")\n",
        "print(x.T @ x, \"\\n\")\n",
        "print(torch.nn.functional.softmax(x.T @ x, dim=0).detach().numpy(), \"\\n\")\n",
        "print((torch.nn.functional.softmax(x.T @ x, dim=0) @ x.T).detach().numpy())"
      ]
    },
    {
      "cell_type": "markdown",
      "metadata": {
        "id": "wYgi5BK62PJt"
      },
      "source": [
        "#### Attention in transformers"
      ]
    },
    {
      "cell_type": "markdown",
      "metadata": {
        "id": "ETjiRyIh2PJt"
      },
      "source": [
        "Three different roles in attention process:\n",
        "1. current focus of attention $\\rightarrow$ **query**\n",
        "2. input being compared $\\rightarrow$ **key**\n",
        "3. output for current focus $\\rightarrow$ **value**\n",
        "<center><img src=\"https://github.com/Abudo-S/NLP_COURSE/blob/main/transformers/img/query-key-value.svg?raw=1\"/></center>"
      ]
    },
    {
      "cell_type": "markdown",
      "metadata": {
        "id": "nhOEsGye2PJt"
      },
      "source": [
        "where\n",
        "$$\n",
        "\\mathbf{Q} = \\mathbf{XW}^Q, \\quad \\mathbf{K} = \\mathbf{XW}^K, \\quad \\mathbf{V} = \\mathbf{XW}^V; \\quad \\mathbf{Q}, \\mathbf{K} \\in \\mathbb{R}^{N \\times d_k}, \\mathbf{V} \\in \\mathbb{R}^{N \\times d_v}\n",
        "$$\n",
        "with $N$ being the number of input tokens and $d_k = d_v = d_{model}$ the dimensionality of input embeddings."
      ]
    },
    {
      "cell_type": "markdown",
      "metadata": {
        "id": "7VB-27Ks2PJt"
      },
      "source": [
        "The three steps are the same, but with matrices (parallel computation):\n",
        "1. Comparison\n",
        "$$\n",
        "\\text{score}(\\mathbf{Q}, \\mathbf{K}) = \\mathbf{Q}\\mathbf{K}^\\top\n",
        "$$\n",
        "2. Normalization (& scaling for stabilization)\n",
        "$$\n",
        "\\text{Attention}(\\mathbf{Q},\\mathbf{K}) =\\text{softmax}\\left(\\frac{\\mathbf{QK^\\top}}{\\sqrt{d_k}}\\right)\n",
        "$$\n",
        "3. Weighted sum\n",
        "$$\n",
        "\\text{Output}= \\text{softmax}\\left(\\frac{\\mathbf{QK^\\top}}{\\sqrt{d_k}}\\right)\\mathbf{V}\n",
        "$$"
      ]
    },
    {
      "cell_type": "code",
      "execution_count": null,
      "metadata": {
        "id": "eRPQ44BL2PJu",
        "outputId": "63fa4630-f5dd-48c2-b7c9-a8db828b6c2a"
      },
      "outputs": [
        {
          "name": "stdout",
          "output_type": "stream",
          "text": [
            "Query weight matrix shape:\ttorch.Size([6, 6])\n",
            "Key weight matrix shape:\ttorch.Size([6, 6])\n",
            "Value weight matrix shape:\ttorch.Size([6, 6])\n",
            "Input matrix shape:\t\ttorch.Size([60, 6])\n",
            "Query matrix shape:\t\ttorch.Size([60, 6])\n",
            "Key matrix shape:\t\ttorch.Size([60, 6])\n",
            "Value matrix shape:\t\ttorch.Size([60, 6])\n"
          ]
        }
      ],
      "source": [
        "d_k, d_v =  d_model, d_model\n",
        "w_q = torch.randn(d_k, d_k)\n",
        "w_k = torch.randn(d_k, d_k)\n",
        "w_v = torch.randn(d_v, d_v)\n",
        "input = en_sentence_embedding(english_batch, start_token = False, end_token = True)[0] #embeddings\n",
        "tokenized_sentence = en_sentence_embedding.batch_tokenize(english_batch, start_token = False, end_token = True)[0] #textual representation of sentence, tokenized\n",
        "tokenized_sentence_pad = [index_to_english[t.item()] for t in tokenized_sentence]\n",
        "tokenized_sentence_nopad = [index_to_english[t.item()] for t in tokenized_sentence if t != english_to_index[PADDING_TOKEN]]\n",
        "print(f\"Query weight matrix shape:\\t{w_q.size()}\")\n",
        "print(f\"Key weight matrix shape:\\t{w_k.size()}\")\n",
        "print(f\"Value weight matrix shape:\\t{w_v.size()}\")\n",
        "print(f\"Input matrix shape:\\t\\t{input.size()}\")\n",
        "\n",
        "#computing Q, K and V\n",
        "q = torch.matmul(input, w_q)\n",
        "k = torch.matmul(input, w_k)\n",
        "v = torch.matmul(input, w_v)\n",
        "print(f\"Query matrix shape:\\t\\t{q.size()}\")\n",
        "print(f\"Key matrix shape:\\t\\t{k.size()}\")\n",
        "print(f\"Value matrix shape:\\t\\t{v.size()}\")"
      ]
    },
    {
      "cell_type": "code",
      "execution_count": null,
      "metadata": {
        "id": "PtKmQ5A42PJu"
      },
      "outputs": [],
      "source": [
        "input_img, q_img, k_img, v_img = input[:len(tokenized_sentence_nopad),:] ,q[:len(tokenized_sentence_nopad),:], k[:len(tokenized_sentence_nopad),:], v[:len(tokenized_sentence_nopad),:]"
      ]
    },
    {
      "cell_type": "code",
      "execution_count": null,
      "metadata": {
        "id": "HomXETYA2PJu"
      },
      "outputs": [],
      "source": [
        "def softmax(x):\n",
        "  return (torch.exp(x).T / torch.sum(torch.exp(x), axis=-1)).T\n",
        "\n",
        "def scaled_dot_product_attention(q, k, v):\n",
        "  d_k = q.shape[-1]\n",
        "  scaled = torch.matmul(q, k.T) / math.sqrt(d_k)\n",
        "  attention = softmax(scaled)\n",
        "  output = torch.matmul(attention, v)\n",
        "  return output, attention"
      ]
    },
    {
      "cell_type": "code",
      "execution_count": null,
      "metadata": {
        "id": "VXQTsxvS2PJu",
        "outputId": "6eb9779e-a4d4-447e-84bc-61c17b2cea2f"
      },
      "outputs": [
        {
          "name": "stdout",
          "output_type": "stream",
          "text": [
            "Output shape:\t\ttorch.Size([60, 6])\n",
            "Attention shape:\ttorch.Size([60, 60])\n"
          ]
        }
      ],
      "source": [
        "o, att = scaled_dot_product_attention(q, k, v)\n",
        "print(f\"Output shape:\\t\\t{o.size()}\")\n",
        "print(f\"Attention shape:\\t{att.size()}\")"
      ]
    },
    {
      "cell_type": "code",
      "execution_count": null,
      "metadata": {
        "id": "_Vvbfdps2PJv",
        "outputId": "e0aa0691-0ced-4b14-d4f2-8ee6a5a0bb31"
      },
      "outputs": [
        {
          "data": {
            "image/png": "[encoded data removed]",
            "text/plain": [
              "<Figure size 600x400 with 2 Axes>"
            ]
          },
          "metadata": {},
          "output_type": "display_data"
        }
      ],
      "source": [
        "o, att = scaled_dot_product_attention(input_img, input_img, v_img)\n",
        "fig, ax = plt.subplots(figsize=(6, 4))\n",
        "sns.heatmap(att.detach().numpy(), xticklabels=tokenized_sentence_nopad, yticklabels=tokenized_sentence_nopad, ax=ax)\n",
        "plt.tight_layout()\n",
        "plt.show()"
      ]
    },
    {
      "cell_type": "code",
      "execution_count": 2,
      "metadata": {
        "colab": {
          "base_uri": "https://localhost:8080/",
          "height": 1000
        },
        "id": "c9_cb-og2PJv",
        "outputId": "697f8217-f1e2-4f5f-c5f9-eab5df7c9ae0"
      },
      "outputs": [
        {
          "output_type": "stream",
          "name": "stdout",
          "text": [
            "Collecting bertviz\n",
            "  Downloading bertviz-1.4.1-py3-none-any.whl.metadata (19 kB)\n",
            "Requirement already satisfied: transformers>=2.0 in /usr/local/lib/python3.12/dist-packages (from bertviz) (4.55.2)\n",
            "Requirement already satisfied: torch>=1.0 in /usr/local/lib/python3.12/dist-packages (from bertviz) (2.8.0+cu126)\n",
            "Requirement already satisfied: tqdm in /usr/local/lib/python3.12/dist-packages (from bertviz) (4.67.1)\n",
            "Collecting boto3 (from bertviz)\n",
            "  Downloading boto3-1.40.13-py3-none-any.whl.metadata (6.7 kB)\n",
            "Requirement already satisfied: requests in /usr/local/lib/python3.12/dist-packages (from bertviz) (2.32.3)\n",
            "Requirement already satisfied: regex in /usr/local/lib/python3.12/dist-packages (from bertviz) (2024.11.6)\n",
            "Requirement already satisfied: sentencepiece in /usr/local/lib/python3.12/dist-packages (from bertviz) (0.2.1)\n",
            "Requirement already satisfied: IPython>=7.14 in /usr/local/lib/python3.12/dist-packages (from bertviz) (7.34.0)\n",
            "Requirement already satisfied: setuptools>=18.5 in /usr/local/lib/python3.12/dist-packages (from IPython>=7.14->bertviz) (75.2.0)\n",
            "Collecting jedi>=0.16 (from IPython>=7.14->bertviz)\n",
            "  Downloading jedi-0.19.2-py2.py3-none-any.whl.metadata (22 kB)\n",
            "Requirement already satisfied: decorator in /usr/local/lib/python3.12/dist-packages (from IPython>=7.14->bertviz) (4.4.2)\n",
            "Requirement already satisfied: pickleshare in /usr/local/lib/python3.12/dist-packages (from IPython>=7.14->bertviz) (0.7.5)\n",
            "Requirement already satisfied: traitlets>=4.2 in /usr/local/lib/python3.12/dist-packages (from IPython>=7.14->bertviz) (5.7.1)\n",
            "Requirement already satisfied: prompt-toolkit!=3.0.0,!=3.0.1,<3.1.0,>=2.0.0 in /usr/local/lib/python3.12/dist-packages (from IPython>=7.14->bertviz) (3.0.51)\n",
            "Requirement already satisfied: pygments in /usr/local/lib/python3.12/dist-packages (from IPython>=7.14->bertviz) (2.19.2)\n",
            "Requirement already satisfied: backcall in /usr/local/lib/python3.12/dist-packages (from IPython>=7.14->bertviz) (0.2.0)\n",
            "Requirement already satisfied: matplotlib-inline in /usr/local/lib/python3.12/dist-packages (from IPython>=7.14->bertviz) (0.1.7)\n",
            "Requirement already satisfied: pexpect>4.3 in /usr/local/lib/python3.12/dist-packages (from IPython>=7.14->bertviz) (4.9.0)\n",
            "Requirement already satisfied: filelock in /usr/local/lib/python3.12/dist-packages (from torch>=1.0->bertviz) (3.19.1)\n",
            "Requirement already satisfied: typing-extensions>=4.10.0 in /usr/local/lib/python3.12/dist-packages (from torch>=1.0->bertviz) (4.14.1)\n",
            "Requirement already satisfied: sympy>=1.13.3 in /usr/local/lib/python3.12/dist-packages (from torch>=1.0->bertviz) (1.13.3)\n",
            "Requirement already satisfied: networkx in /usr/local/lib/python3.12/dist-packages (from torch>=1.0->bertviz) (3.5)\n",
            "Requirement already satisfied: jinja2 in /usr/local/lib/python3.12/dist-packages (from torch>=1.0->bertviz) (3.1.6)\n",
            "Requirement already satisfied: fsspec in /usr/local/lib/python3.12/dist-packages (from torch>=1.0->bertviz) (2025.3.0)\n",
            "Requirement already satisfied: nvidia-cuda-nvrtc-cu12==12.6.77 in /usr/local/lib/python3.12/dist-packages (from torch>=1.0->bertviz) (12.6.77)\n",
            "Requirement already satisfied: nvidia-cuda-runtime-cu12==12.6.77 in /usr/local/lib/python3.12/dist-packages (from torch>=1.0->bertviz) (12.6.77)\n",
            "Requirement already satisfied: nvidia-cuda-cupti-cu12==12.6.80 in /usr/local/lib/python3.12/dist-packages (from torch>=1.0->bertviz) (12.6.80)\n",
            "Requirement already satisfied: nvidia-cudnn-cu12==9.10.2.21 in /usr/local/lib/python3.12/dist-packages (from torch>=1.0->bertviz) (9.10.2.21)\n",
            "Requirement already satisfied: nvidia-cublas-cu12==12.6.4.1 in /usr/local/lib/python3.12/dist-packages (from torch>=1.0->bertviz) (12.6.4.1)\n",
            "Requirement already satisfied: nvidia-cufft-cu12==11.3.0.4 in /usr/local/lib/python3.12/dist-packages (from torch>=1.0->bertviz) (11.3.0.4)\n",
            "Requirement already satisfied: nvidia-curand-cu12==10.3.7.77 in /usr/local/lib/python3.12/dist-packages (from torch>=1.0->bertviz) (10.3.7.77)\n",
            "Requirement already satisfied: nvidia-cusolver-cu12==11.7.1.2 in /usr/local/lib/python3.12/dist-packages (from torch>=1.0->bertviz) (11.7.1.2)\n",
            "Requirement already satisfied: nvidia-cusparse-cu12==12.5.4.2 in /usr/local/lib/python3.12/dist-packages (from torch>=1.0->bertviz) (12.5.4.2)\n",
            "Requirement already satisfied: nvidia-cusparselt-cu12==0.7.1 in /usr/local/lib/python3.12/dist-packages (from torch>=1.0->bertviz) (0.7.1)\n",
            "Requirement already satisfied: nvidia-nccl-cu12==2.27.3 in /usr/local/lib/python3.12/dist-packages (from torch>=1.0->bertviz) (2.27.3)\n",
            "Requirement already satisfied: nvidia-nvtx-cu12==12.6.77 in /usr/local/lib/python3.12/dist-packages (from torch>=1.0->bertviz) (12.6.77)\n",
            "Requirement already satisfied: nvidia-nvjitlink-cu12==12.6.85 in /usr/local/lib/python3.12/dist-packages (from torch>=1.0->bertviz) (12.6.85)\n",
            "Requirement already satisfied: nvidia-cufile-cu12==1.11.1.6 in /usr/local/lib/python3.12/dist-packages (from torch>=1.0->bertviz) (1.11.1.6)\n",
            "Requirement already satisfied: triton==3.4.0 in /usr/local/lib/python3.12/dist-packages (from torch>=1.0->bertviz) (3.4.0)\n",
            "Requirement already satisfied: huggingface-hub<1.0,>=0.34.0 in /usr/local/lib/python3.12/dist-packages (from transformers>=2.0->bertviz) (0.34.4)\n",
            "Requirement already satisfied: numpy>=1.17 in /usr/local/lib/python3.12/dist-packages (from transformers>=2.0->bertviz) (2.0.2)\n",
            "Requirement already satisfied: packaging>=20.0 in /usr/local/lib/python3.12/dist-packages (from transformers>=2.0->bertviz) (25.0)\n",
            "Requirement already satisfied: pyyaml>=5.1 in /usr/local/lib/python3.12/dist-packages (from transformers>=2.0->bertviz) (6.0.2)\n",
            "Requirement already satisfied: tokenizers<0.22,>=0.21 in /usr/local/lib/python3.12/dist-packages (from transformers>=2.0->bertviz) (0.21.4)\n",
            "Requirement already satisfied: safetensors>=0.4.3 in /usr/local/lib/python3.12/dist-packages (from transformers>=2.0->bertviz) (0.6.2)\n",
            "Collecting botocore<1.41.0,>=1.40.13 (from boto3->bertviz)\n",
            "  Downloading botocore-1.40.13-py3-none-any.whl.metadata (5.7 kB)\n",
            "Collecting jmespath<2.0.0,>=0.7.1 (from boto3->bertviz)\n",
            "  Downloading jmespath-1.0.1-py3-none-any.whl.metadata (7.6 kB)\n",
            "Collecting s3transfer<0.14.0,>=0.13.0 (from boto3->bertviz)\n",
            "  Downloading s3transfer-0.13.1-py3-none-any.whl.metadata (1.7 kB)\n",
            "Requirement already satisfied: charset-normalizer<4,>=2 in /usr/local/lib/python3.12/dist-packages (from requests->bertviz) (3.4.3)\n",
            "Requirement already satisfied: idna<4,>=2.5 in /usr/local/lib/python3.12/dist-packages (from requests->bertviz) (3.10)\n",
            "Requirement already satisfied: urllib3<3,>=1.21.1 in /usr/local/lib/python3.12/dist-packages (from requests->bertviz) (2.5.0)\n",
            "Requirement already satisfied: certifi>=2017.4.17 in /usr/local/lib/python3.12/dist-packages (from requests->bertviz) (2025.8.3)\n",
            "Requirement already satisfied: python-dateutil<3.0.0,>=2.1 in /usr/local/lib/python3.12/dist-packages (from botocore<1.41.0,>=1.40.13->boto3->bertviz) (2.9.0.post0)\n",
            "Requirement already satisfied: hf-xet<2.0.0,>=1.1.3 in /usr/local/lib/python3.12/dist-packages (from huggingface-hub<1.0,>=0.34.0->transformers>=2.0->bertviz) (1.1.7)\n",
            "Requirement already satisfied: parso<0.9.0,>=0.8.4 in /usr/local/lib/python3.12/dist-packages (from jedi>=0.16->IPython>=7.14->bertviz) (0.8.4)\n",
            "Requirement already satisfied: ptyprocess>=0.5 in /usr/local/lib/python3.12/dist-packages (from pexpect>4.3->IPython>=7.14->bertviz) (0.7.0)\n",
            "Requirement already satisfied: wcwidth in /usr/local/lib/python3.12/dist-packages (from prompt-toolkit!=3.0.0,!=3.0.1,<3.1.0,>=2.0.0->IPython>=7.14->bertviz) (0.2.13)\n",
            "Requirement already satisfied: mpmath<1.4,>=1.1.0 in /usr/local/lib/python3.12/dist-packages (from sympy>=1.13.3->torch>=1.0->bertviz) (1.3.0)\n",
            "Requirement already satisfied: MarkupSafe>=2.0 in /usr/local/lib/python3.12/dist-packages (from jinja2->torch>=1.0->bertviz) (3.0.2)\n",
            "Requirement already satisfied: six>=1.5 in /usr/local/lib/python3.12/dist-packages (from python-dateutil<3.0.0,>=2.1->botocore<1.41.0,>=1.40.13->boto3->bertviz) (1.17.0)\n",
            "Downloading bertviz-1.4.1-py3-none-any.whl (157 kB)\n",
            "\u001b[2K   \u001b[90m━━━━━━━━━━━━━━━━━━━━━━━━━━━━━━━━━━━━━━━━\u001b[0m \u001b[32m157.5/157.5 kB\u001b[0m \u001b[31m5.4 MB/s\u001b[0m eta \u001b[36m0:00:00\u001b[0m\n",
            "\u001b[?25hDownloading boto3-1.40.13-py3-none-any.whl (140 kB)\n",
            "\u001b[2K   \u001b[90m━━━━━━━━━━━━━━━━━━━━━━━━━━━━━━━━━━━━━━━━\u001b[0m \u001b[32m140.1/140.1 kB\u001b[0m \u001b[31m9.9 MB/s\u001b[0m eta \u001b[36m0:00:00\u001b[0m\n",
            "\u001b[?25hDownloading botocore-1.40.13-py3-none-any.whl (14.0 MB)\n",
            "\u001b[2K   \u001b[90m━━━━━━━━━━━━━━━━━━━━━━━━━━━━━━━━━━━━━━━━\u001b[0m \u001b[32m14.0/14.0 MB\u001b[0m \u001b[31m99.4 MB/s\u001b[0m eta \u001b[36m0:00:00\u001b[0m\n",
            "\u001b[?25hDownloading jedi-0.19.2-py2.py3-none-any.whl (1.6 MB)\n",
            "\u001b[2K   \u001b[90m━━━━━━━━━━━━━━━━━━━━━━━━━━━━━━━━━━━━━━━━\u001b[0m \u001b[32m1.6/1.6 MB\u001b[0m \u001b[31m64.7 MB/s\u001b[0m eta \u001b[36m0:00:00\u001b[0m\n",
            "\u001b[?25hDownloading jmespath-1.0.1-py3-none-any.whl (20 kB)\n",
            "Downloading s3transfer-0.13.1-py3-none-any.whl (85 kB)\n",
            "\u001b[2K   \u001b[90m━━━━━━━━━━━━━━━━━━━━━━━━━━━━━━━━━━━━━━━━\u001b[0m \u001b[32m85.3/85.3 kB\u001b[0m \u001b[31m6.4 MB/s\u001b[0m eta \u001b[36m0:00:00\u001b[0m\n",
            "\u001b[?25hInstalling collected packages: jmespath, jedi, botocore, s3transfer, boto3, bertviz\n",
            "Successfully installed bertviz-1.4.1 boto3-1.40.13 botocore-1.40.13 jedi-0.19.2 jmespath-1.0.1 s3transfer-0.13.1\n"
          ]
        },
        {
          "output_type": "stream",
          "name": "stderr",
          "text": [
            "100%|██████████| 433/433 [00:00<00:00, 1099354.50B/s]\n",
            " 59%|█████▉    | 259598336/440473133 [00:05<00:04, 43937951.30B/s]"
          ]
        },
        {
          "output_type": "error",
          "ename": "KeyboardInterrupt",
          "evalue": "",
          "traceback": [
            "\u001b[0;31m---------------------------------------------------------------------------\u001b[0m",
            "\u001b[0;31mKeyboardInterrupt\u001b[0m                         Traceback (most recent call last)",
            "\u001b[0;32m/tmp/ipython-input-3449264920.py\u001b[0m in \u001b[0;36m<cell line: 0>\u001b[0;34m()\u001b[0m\n\u001b[1;32m      8\u001b[0m \u001b[0mmodel_type\u001b[0m \u001b[0;34m=\u001b[0m \u001b[0;34m'bert'\u001b[0m\u001b[0;34m\u001b[0m\u001b[0;34m\u001b[0m\u001b[0m\n\u001b[1;32m      9\u001b[0m \u001b[0mmodel_version\u001b[0m \u001b[0;34m=\u001b[0m \u001b[0;34m'bert-base-uncased'\u001b[0m\u001b[0;34m\u001b[0m\u001b[0;34m\u001b[0m\u001b[0m\n\u001b[0;32m---> 10\u001b[0;31m \u001b[0mmodel\u001b[0m \u001b[0;34m=\u001b[0m \u001b[0mBertModel\u001b[0m\u001b[0;34m.\u001b[0m\u001b[0mfrom_pretrained\u001b[0m\u001b[0;34m(\u001b[0m\u001b[0mmodel_version\u001b[0m\u001b[0;34m,\u001b[0m \u001b[0moutput_attentions\u001b[0m\u001b[0;34m=\u001b[0m\u001b[0;32mTrue\u001b[0m\u001b[0;34m)\u001b[0m\u001b[0;34m\u001b[0m\u001b[0;34m\u001b[0m\u001b[0m\n\u001b[0m\u001b[1;32m     11\u001b[0m \u001b[0mtokenizer\u001b[0m \u001b[0;34m=\u001b[0m \u001b[0mBertTokenizer\u001b[0m\u001b[0;34m.\u001b[0m\u001b[0mfrom_pretrained\u001b[0m\u001b[0;34m(\u001b[0m\u001b[0mmodel_version\u001b[0m\u001b[0;34m,\u001b[0m \u001b[0mdo_lower_case\u001b[0m\u001b[0;34m=\u001b[0m\u001b[0;32mTrue\u001b[0m\u001b[0;34m)\u001b[0m\u001b[0;34m\u001b[0m\u001b[0;34m\u001b[0m\u001b[0m\n\u001b[1;32m     12\u001b[0m \u001b[0mshow\u001b[0m\u001b[0;34m(\u001b[0m\u001b[0mmodel\u001b[0m\u001b[0;34m,\u001b[0m \u001b[0mmodel_type\u001b[0m\u001b[0;34m,\u001b[0m \u001b[0mtokenizer\u001b[0m\u001b[0;34m,\u001b[0m \u001b[0msentence_a\u001b[0m\u001b[0;34m,\u001b[0m \u001b[0msentence_b\u001b[0m\u001b[0;34m,\u001b[0m \u001b[0mlayer\u001b[0m\u001b[0;34m=\u001b[0m\u001b[0;36m4\u001b[0m\u001b[0;34m,\u001b[0m \u001b[0mhead\u001b[0m\u001b[0;34m=\u001b[0m\u001b[0;36m3\u001b[0m\u001b[0;34m)\u001b[0m\u001b[0;34m\u001b[0m\u001b[0;34m\u001b[0m\u001b[0m\n",
            "\u001b[0;32m/usr/local/lib/python3.12/dist-packages/bertviz/transformers_neuron_view/modeling_utils.py\u001b[0m in \u001b[0;36mfrom_pretrained\u001b[0;34m(cls, pretrained_model_name_or_path, *model_args, **kwargs)\u001b[0m\n\u001b[1;32m    455\u001b[0m         \u001b[0;31m# redirect to the cache, if necessary\u001b[0m\u001b[0;34m\u001b[0m\u001b[0;34m\u001b[0m\u001b[0m\n\u001b[1;32m    456\u001b[0m         \u001b[0;32mtry\u001b[0m\u001b[0;34m:\u001b[0m\u001b[0;34m\u001b[0m\u001b[0;34m\u001b[0m\u001b[0m\n\u001b[0;32m--> 457\u001b[0;31m             \u001b[0mresolved_archive_file\u001b[0m \u001b[0;34m=\u001b[0m \u001b[0mcached_path\u001b[0m\u001b[0;34m(\u001b[0m\u001b[0marchive_file\u001b[0m\u001b[0;34m,\u001b[0m \u001b[0mcache_dir\u001b[0m\u001b[0;34m=\u001b[0m\u001b[0mcache_dir\u001b[0m\u001b[0;34m)\u001b[0m\u001b[0;34m\u001b[0m\u001b[0;34m\u001b[0m\u001b[0m\n\u001b[0m\u001b[1;32m    458\u001b[0m         \u001b[0;32mexcept\u001b[0m \u001b[0mEnvironmentError\u001b[0m\u001b[0;34m:\u001b[0m\u001b[0;34m\u001b[0m\u001b[0;34m\u001b[0m\u001b[0m\n\u001b[1;32m    459\u001b[0m             \u001b[0;32mif\u001b[0m \u001b[0mpretrained_model_name_or_path\u001b[0m \u001b[0;32min\u001b[0m \u001b[0mcls\u001b[0m\u001b[0;34m.\u001b[0m\u001b[0mpretrained_model_archive_map\u001b[0m\u001b[0;34m:\u001b[0m\u001b[0;34m\u001b[0m\u001b[0;34m\u001b[0m\u001b[0m\n",
            "\u001b[0;32m/usr/local/lib/python3.12/dist-packages/bertviz/transformers_neuron_view/file_utils.py\u001b[0m in \u001b[0;36mcached_path\u001b[0;34m(url_or_filename, cache_dir)\u001b[0m\n\u001b[1;32m    112\u001b[0m     \u001b[0;32mif\u001b[0m \u001b[0mparsed\u001b[0m\u001b[0;34m.\u001b[0m\u001b[0mscheme\u001b[0m \u001b[0;32min\u001b[0m \u001b[0;34m(\u001b[0m\u001b[0;34m'http'\u001b[0m\u001b[0;34m,\u001b[0m \u001b[0;34m'https'\u001b[0m\u001b[0;34m,\u001b[0m \u001b[0;34m's3'\u001b[0m\u001b[0;34m)\u001b[0m\u001b[0;34m:\u001b[0m\u001b[0;34m\u001b[0m\u001b[0;34m\u001b[0m\u001b[0m\n\u001b[1;32m    113\u001b[0m         \u001b[0;31m# URL, so get it from the cache (downloading if necessary)\u001b[0m\u001b[0;34m\u001b[0m\u001b[0;34m\u001b[0m\u001b[0m\n\u001b[0;32m--> 114\u001b[0;31m         \u001b[0;32mreturn\u001b[0m \u001b[0mget_from_cache\u001b[0m\u001b[0;34m(\u001b[0m\u001b[0murl_or_filename\u001b[0m\u001b[0;34m,\u001b[0m \u001b[0mcache_dir\u001b[0m\u001b[0;34m)\u001b[0m\u001b[0;34m\u001b[0m\u001b[0;34m\u001b[0m\u001b[0m\n\u001b[0m\u001b[1;32m    115\u001b[0m     \u001b[0;32melif\u001b[0m \u001b[0mos\u001b[0m\u001b[0;34m.\u001b[0m\u001b[0mpath\u001b[0m\u001b[0;34m.\u001b[0m\u001b[0mexists\u001b[0m\u001b[0;34m(\u001b[0m\u001b[0murl_or_filename\u001b[0m\u001b[0;34m)\u001b[0m\u001b[0;34m:\u001b[0m\u001b[0;34m\u001b[0m\u001b[0;34m\u001b[0m\u001b[0m\n\u001b[1;32m    116\u001b[0m         \u001b[0;31m# File, and it exists.\u001b[0m\u001b[0;34m\u001b[0m\u001b[0;34m\u001b[0m\u001b[0m\n",
            "\u001b[0;32m/usr/local/lib/python3.12/dist-packages/bertviz/transformers_neuron_view/file_utils.py\u001b[0m in \u001b[0;36mget_from_cache\u001b[0;34m(url, cache_dir)\u001b[0m\n\u001b[1;32m    238\u001b[0m                 \u001b[0ms3_get\u001b[0m\u001b[0;34m(\u001b[0m\u001b[0murl\u001b[0m\u001b[0;34m,\u001b[0m \u001b[0mtemp_file\u001b[0m\u001b[0;34m)\u001b[0m\u001b[0;34m\u001b[0m\u001b[0;34m\u001b[0m\u001b[0m\n\u001b[1;32m    239\u001b[0m             \u001b[0;32melse\u001b[0m\u001b[0;34m:\u001b[0m\u001b[0;34m\u001b[0m\u001b[0;34m\u001b[0m\u001b[0m\n\u001b[0;32m--> 240\u001b[0;31m                 \u001b[0mhttp_get\u001b[0m\u001b[0;34m(\u001b[0m\u001b[0murl\u001b[0m\u001b[0;34m,\u001b[0m \u001b[0mtemp_file\u001b[0m\u001b[0;34m)\u001b[0m\u001b[0;34m\u001b[0m\u001b[0;34m\u001b[0m\u001b[0m\n\u001b[0m\u001b[1;32m    241\u001b[0m \u001b[0;34m\u001b[0m\u001b[0m\n\u001b[1;32m    242\u001b[0m             \u001b[0;31m# we are copying the file before closing it, so flush to avoid truncation\u001b[0m\u001b[0;34m\u001b[0m\u001b[0;34m\u001b[0m\u001b[0m\n",
            "\u001b[0;32m/usr/local/lib/python3.12/dist-packages/bertviz/transformers_neuron_view/file_utils.py\u001b[0m in \u001b[0;36mhttp_get\u001b[0;34m(url, temp_file)\u001b[0m\n\u001b[1;32m    178\u001b[0m     \u001b[0mtotal\u001b[0m \u001b[0;34m=\u001b[0m \u001b[0mint\u001b[0m\u001b[0;34m(\u001b[0m\u001b[0mcontent_length\u001b[0m\u001b[0;34m)\u001b[0m \u001b[0;32mif\u001b[0m \u001b[0mcontent_length\u001b[0m \u001b[0;32mis\u001b[0m \u001b[0;32mnot\u001b[0m \u001b[0;32mNone\u001b[0m \u001b[0;32melse\u001b[0m \u001b[0;32mNone\u001b[0m\u001b[0;34m\u001b[0m\u001b[0;34m\u001b[0m\u001b[0m\n\u001b[1;32m    179\u001b[0m     \u001b[0mprogress\u001b[0m \u001b[0;34m=\u001b[0m \u001b[0mtqdm\u001b[0m\u001b[0;34m(\u001b[0m\u001b[0munit\u001b[0m\u001b[0;34m=\u001b[0m\u001b[0;34m\"B\"\u001b[0m\u001b[0;34m,\u001b[0m \u001b[0mtotal\u001b[0m\u001b[0;34m=\u001b[0m\u001b[0mtotal\u001b[0m\u001b[0;34m)\u001b[0m\u001b[0;34m\u001b[0m\u001b[0;34m\u001b[0m\u001b[0m\n\u001b[0;32m--> 180\u001b[0;31m     \u001b[0;32mfor\u001b[0m \u001b[0mchunk\u001b[0m \u001b[0;32min\u001b[0m \u001b[0mreq\u001b[0m\u001b[0;34m.\u001b[0m\u001b[0miter_content\u001b[0m\u001b[0;34m(\u001b[0m\u001b[0mchunk_size\u001b[0m\u001b[0;34m=\u001b[0m\u001b[0;36m1024\u001b[0m\u001b[0;34m)\u001b[0m\u001b[0;34m:\u001b[0m\u001b[0;34m\u001b[0m\u001b[0;34m\u001b[0m\u001b[0m\n\u001b[0m\u001b[1;32m    181\u001b[0m         \u001b[0;32mif\u001b[0m \u001b[0mchunk\u001b[0m\u001b[0;34m:\u001b[0m \u001b[0;31m# filter out keep-alive new chunks\u001b[0m\u001b[0;34m\u001b[0m\u001b[0;34m\u001b[0m\u001b[0m\n\u001b[1;32m    182\u001b[0m             \u001b[0mprogress\u001b[0m\u001b[0;34m.\u001b[0m\u001b[0mupdate\u001b[0m\u001b[0;34m(\u001b[0m\u001b[0mlen\u001b[0m\u001b[0;34m(\u001b[0m\u001b[0mchunk\u001b[0m\u001b[0;34m)\u001b[0m\u001b[0;34m)\u001b[0m\u001b[0;34m\u001b[0m\u001b[0;34m\u001b[0m\u001b[0m\n",
            "\u001b[0;32m/usr/local/lib/python3.12/dist-packages/requests/models.py\u001b[0m in \u001b[0;36mgenerate\u001b[0;34m()\u001b[0m\n\u001b[1;32m    818\u001b[0m             \u001b[0;32mif\u001b[0m \u001b[0mhasattr\u001b[0m\u001b[0;34m(\u001b[0m\u001b[0mself\u001b[0m\u001b[0;34m.\u001b[0m\u001b[0mraw\u001b[0m\u001b[0;34m,\u001b[0m \u001b[0;34m\"stream\"\u001b[0m\u001b[0;34m)\u001b[0m\u001b[0;34m:\u001b[0m\u001b[0;34m\u001b[0m\u001b[0;34m\u001b[0m\u001b[0m\n\u001b[1;32m    819\u001b[0m                 \u001b[0;32mtry\u001b[0m\u001b[0;34m:\u001b[0m\u001b[0;34m\u001b[0m\u001b[0;34m\u001b[0m\u001b[0m\n\u001b[0;32m--> 820\u001b[0;31m                     \u001b[0;32myield\u001b[0m \u001b[0;32mfrom\u001b[0m \u001b[0mself\u001b[0m\u001b[0;34m.\u001b[0m\u001b[0mraw\u001b[0m\u001b[0;34m.\u001b[0m\u001b[0mstream\u001b[0m\u001b[0;34m(\u001b[0m\u001b[0mchunk_size\u001b[0m\u001b[0;34m,\u001b[0m \u001b[0mdecode_content\u001b[0m\u001b[0;34m=\u001b[0m\u001b[0;32mTrue\u001b[0m\u001b[0;34m)\u001b[0m\u001b[0;34m\u001b[0m\u001b[0;34m\u001b[0m\u001b[0m\n\u001b[0m\u001b[1;32m    821\u001b[0m                 \u001b[0;32mexcept\u001b[0m \u001b[0mProtocolError\u001b[0m \u001b[0;32mas\u001b[0m \u001b[0me\u001b[0m\u001b[0;34m:\u001b[0m\u001b[0;34m\u001b[0m\u001b[0;34m\u001b[0m\u001b[0m\n\u001b[1;32m    822\u001b[0m                     \u001b[0;32mraise\u001b[0m \u001b[0mChunkedEncodingError\u001b[0m\u001b[0;34m(\u001b[0m\u001b[0me\u001b[0m\u001b[0;34m)\u001b[0m\u001b[0;34m\u001b[0m\u001b[0;34m\u001b[0m\u001b[0m\n",
            "\u001b[0;32m/usr/local/lib/python3.12/dist-packages/urllib3/response.py\u001b[0m in \u001b[0;36mstream\u001b[0;34m(self, amt, decode_content)\u001b[0m\n\u001b[1;32m   1089\u001b[0m         \u001b[0;32melse\u001b[0m\u001b[0;34m:\u001b[0m\u001b[0;34m\u001b[0m\u001b[0;34m\u001b[0m\u001b[0m\n\u001b[1;32m   1090\u001b[0m             \u001b[0;32mwhile\u001b[0m \u001b[0;32mnot\u001b[0m \u001b[0mis_fp_closed\u001b[0m\u001b[0;34m(\u001b[0m\u001b[0mself\u001b[0m\u001b[0;34m.\u001b[0m\u001b[0m_fp\u001b[0m\u001b[0;34m)\u001b[0m \u001b[0;32mor\u001b[0m \u001b[0mlen\u001b[0m\u001b[0;34m(\u001b[0m\u001b[0mself\u001b[0m\u001b[0;34m.\u001b[0m\u001b[0m_decoded_buffer\u001b[0m\u001b[0;34m)\u001b[0m \u001b[0;34m>\u001b[0m \u001b[0;36m0\u001b[0m\u001b[0;34m:\u001b[0m\u001b[0;34m\u001b[0m\u001b[0;34m\u001b[0m\u001b[0m\n\u001b[0;32m-> 1091\u001b[0;31m                 \u001b[0mdata\u001b[0m \u001b[0;34m=\u001b[0m \u001b[0mself\u001b[0m\u001b[0;34m.\u001b[0m\u001b[0mread\u001b[0m\u001b[0;34m(\u001b[0m\u001b[0mamt\u001b[0m\u001b[0;34m=\u001b[0m\u001b[0mamt\u001b[0m\u001b[0;34m,\u001b[0m \u001b[0mdecode_content\u001b[0m\u001b[0;34m=\u001b[0m\u001b[0mdecode_content\u001b[0m\u001b[0;34m)\u001b[0m\u001b[0;34m\u001b[0m\u001b[0;34m\u001b[0m\u001b[0m\n\u001b[0m\u001b[1;32m   1092\u001b[0m \u001b[0;34m\u001b[0m\u001b[0m\n\u001b[1;32m   1093\u001b[0m                 \u001b[0;32mif\u001b[0m \u001b[0mdata\u001b[0m\u001b[0;34m:\u001b[0m\u001b[0;34m\u001b[0m\u001b[0;34m\u001b[0m\u001b[0m\n",
            "\u001b[0;32m/usr/local/lib/python3.12/dist-packages/urllib3/response.py\u001b[0m in \u001b[0;36mread\u001b[0;34m(self, amt, decode_content, cache_content)\u001b[0m\n\u001b[1;32m    978\u001b[0m                 \u001b[0;32mreturn\u001b[0m \u001b[0mself\u001b[0m\u001b[0;34m.\u001b[0m\u001b[0m_decoded_buffer\u001b[0m\u001b[0;34m.\u001b[0m\u001b[0mget\u001b[0m\u001b[0;34m(\u001b[0m\u001b[0mamt\u001b[0m\u001b[0;34m)\u001b[0m\u001b[0;34m\u001b[0m\u001b[0;34m\u001b[0m\u001b[0m\n\u001b[1;32m    979\u001b[0m \u001b[0;34m\u001b[0m\u001b[0m\n\u001b[0;32m--> 980\u001b[0;31m         \u001b[0mdata\u001b[0m \u001b[0;34m=\u001b[0m \u001b[0mself\u001b[0m\u001b[0;34m.\u001b[0m\u001b[0m_raw_read\u001b[0m\u001b[0;34m(\u001b[0m\u001b[0mamt\u001b[0m\u001b[0;34m)\u001b[0m\u001b[0;34m\u001b[0m\u001b[0;34m\u001b[0m\u001b[0m\n\u001b[0m\u001b[1;32m    981\u001b[0m \u001b[0;34m\u001b[0m\u001b[0m\n\u001b[1;32m    982\u001b[0m         \u001b[0mflush_decoder\u001b[0m \u001b[0;34m=\u001b[0m \u001b[0mamt\u001b[0m \u001b[0;32mis\u001b[0m \u001b[0;32mNone\u001b[0m \u001b[0;32mor\u001b[0m \u001b[0;34m(\u001b[0m\u001b[0mamt\u001b[0m \u001b[0;34m!=\u001b[0m \u001b[0;36m0\u001b[0m \u001b[0;32mand\u001b[0m \u001b[0;32mnot\u001b[0m \u001b[0mdata\u001b[0m\u001b[0;34m)\u001b[0m\u001b[0;34m\u001b[0m\u001b[0;34m\u001b[0m\u001b[0m\n",
            "\u001b[0;32m/usr/local/lib/python3.12/dist-packages/urllib3/response.py\u001b[0m in \u001b[0;36m_raw_read\u001b[0;34m(self, amt, read1)\u001b[0m\n\u001b[1;32m    902\u001b[0m \u001b[0;34m\u001b[0m\u001b[0m\n\u001b[1;32m    903\u001b[0m         \u001b[0;32mwith\u001b[0m \u001b[0mself\u001b[0m\u001b[0;34m.\u001b[0m\u001b[0m_error_catcher\u001b[0m\u001b[0;34m(\u001b[0m\u001b[0;34m)\u001b[0m\u001b[0;34m:\u001b[0m\u001b[0;34m\u001b[0m\u001b[0;34m\u001b[0m\u001b[0m\n\u001b[0;32m--> 904\u001b[0;31m             \u001b[0mdata\u001b[0m \u001b[0;34m=\u001b[0m \u001b[0mself\u001b[0m\u001b[0;34m.\u001b[0m\u001b[0m_fp_read\u001b[0m\u001b[0;34m(\u001b[0m\u001b[0mamt\u001b[0m\u001b[0;34m,\u001b[0m \u001b[0mread1\u001b[0m\u001b[0;34m=\u001b[0m\u001b[0mread1\u001b[0m\u001b[0;34m)\u001b[0m \u001b[0;32mif\u001b[0m \u001b[0;32mnot\u001b[0m \u001b[0mfp_closed\u001b[0m \u001b[0;32melse\u001b[0m \u001b[0;34mb\"\"\u001b[0m\u001b[0;34m\u001b[0m\u001b[0;34m\u001b[0m\u001b[0m\n\u001b[0m\u001b[1;32m    905\u001b[0m             \u001b[0;32mif\u001b[0m \u001b[0mamt\u001b[0m \u001b[0;32mis\u001b[0m \u001b[0;32mnot\u001b[0m \u001b[0;32mNone\u001b[0m \u001b[0;32mand\u001b[0m \u001b[0mamt\u001b[0m \u001b[0;34m!=\u001b[0m \u001b[0;36m0\u001b[0m \u001b[0;32mand\u001b[0m \u001b[0;32mnot\u001b[0m \u001b[0mdata\u001b[0m\u001b[0;34m:\u001b[0m\u001b[0;34m\u001b[0m\u001b[0;34m\u001b[0m\u001b[0m\n\u001b[1;32m    906\u001b[0m                 \u001b[0;31m# Platform-specific: Buggy versions of Python.\u001b[0m\u001b[0;34m\u001b[0m\u001b[0;34m\u001b[0m\u001b[0m\n",
            "\u001b[0;32m/usr/local/lib/python3.12/dist-packages/urllib3/response.py\u001b[0m in \u001b[0;36m_fp_read\u001b[0;34m(self, amt, read1)\u001b[0m\n\u001b[1;32m    885\u001b[0m         \u001b[0;32melse\u001b[0m\u001b[0;34m:\u001b[0m\u001b[0;34m\u001b[0m\u001b[0;34m\u001b[0m\u001b[0m\n\u001b[1;32m    886\u001b[0m             \u001b[0;31m# StringIO doesn't like amt=None\u001b[0m\u001b[0;34m\u001b[0m\u001b[0;34m\u001b[0m\u001b[0m\n\u001b[0;32m--> 887\u001b[0;31m             \u001b[0;32mreturn\u001b[0m \u001b[0mself\u001b[0m\u001b[0;34m.\u001b[0m\u001b[0m_fp\u001b[0m\u001b[0;34m.\u001b[0m\u001b[0mread\u001b[0m\u001b[0;34m(\u001b[0m\u001b[0mamt\u001b[0m\u001b[0;34m)\u001b[0m \u001b[0;32mif\u001b[0m \u001b[0mamt\u001b[0m \u001b[0;32mis\u001b[0m \u001b[0;32mnot\u001b[0m \u001b[0;32mNone\u001b[0m \u001b[0;32melse\u001b[0m \u001b[0mself\u001b[0m\u001b[0;34m.\u001b[0m\u001b[0m_fp\u001b[0m\u001b[0;34m.\u001b[0m\u001b[0mread\u001b[0m\u001b[0;34m(\u001b[0m\u001b[0;34m)\u001b[0m\u001b[0;34m\u001b[0m\u001b[0;34m\u001b[0m\u001b[0m\n\u001b[0m\u001b[1;32m    888\u001b[0m \u001b[0;34m\u001b[0m\u001b[0m\n\u001b[1;32m    889\u001b[0m     def _raw_read(\n",
            "\u001b[0;32m/usr/lib/python3.12/http/client.py\u001b[0m in \u001b[0;36mread\u001b[0;34m(self, amt)\u001b[0m\n\u001b[1;32m    477\u001b[0m                 \u001b[0;31m# clip the read to the \"end of response\"\u001b[0m\u001b[0;34m\u001b[0m\u001b[0;34m\u001b[0m\u001b[0m\n\u001b[1;32m    478\u001b[0m                 \u001b[0mamt\u001b[0m \u001b[0;34m=\u001b[0m \u001b[0mself\u001b[0m\u001b[0;34m.\u001b[0m\u001b[0mlength\u001b[0m\u001b[0;34m\u001b[0m\u001b[0;34m\u001b[0m\u001b[0m\n\u001b[0;32m--> 479\u001b[0;31m             \u001b[0ms\u001b[0m \u001b[0;34m=\u001b[0m \u001b[0mself\u001b[0m\u001b[0;34m.\u001b[0m\u001b[0mfp\u001b[0m\u001b[0;34m.\u001b[0m\u001b[0mread\u001b[0m\u001b[0;34m(\u001b[0m\u001b[0mamt\u001b[0m\u001b[0;34m)\u001b[0m\u001b[0;34m\u001b[0m\u001b[0;34m\u001b[0m\u001b[0m\n\u001b[0m\u001b[1;32m    480\u001b[0m             \u001b[0;32mif\u001b[0m \u001b[0;32mnot\u001b[0m \u001b[0ms\u001b[0m \u001b[0;32mand\u001b[0m \u001b[0mamt\u001b[0m\u001b[0;34m:\u001b[0m\u001b[0;34m\u001b[0m\u001b[0;34m\u001b[0m\u001b[0m\n\u001b[1;32m    481\u001b[0m                 \u001b[0;31m# Ideally, we would raise IncompleteRead if the content-length\u001b[0m\u001b[0;34m\u001b[0m\u001b[0;34m\u001b[0m\u001b[0m\n",
            "\u001b[0;32m/usr/lib/python3.12/socket.py\u001b[0m in \u001b[0;36mreadinto\u001b[0;34m(self, b)\u001b[0m\n\u001b[1;32m    718\u001b[0m         \u001b[0;32mwhile\u001b[0m \u001b[0;32mTrue\u001b[0m\u001b[0;34m:\u001b[0m\u001b[0;34m\u001b[0m\u001b[0;34m\u001b[0m\u001b[0m\n\u001b[1;32m    719\u001b[0m             \u001b[0;32mtry\u001b[0m\u001b[0;34m:\u001b[0m\u001b[0;34m\u001b[0m\u001b[0;34m\u001b[0m\u001b[0m\n\u001b[0;32m--> 720\u001b[0;31m                 \u001b[0;32mreturn\u001b[0m \u001b[0mself\u001b[0m\u001b[0;34m.\u001b[0m\u001b[0m_sock\u001b[0m\u001b[0;34m.\u001b[0m\u001b[0mrecv_into\u001b[0m\u001b[0;34m(\u001b[0m\u001b[0mb\u001b[0m\u001b[0;34m)\u001b[0m\u001b[0;34m\u001b[0m\u001b[0;34m\u001b[0m\u001b[0m\n\u001b[0m\u001b[1;32m    721\u001b[0m             \u001b[0;32mexcept\u001b[0m \u001b[0mtimeout\u001b[0m\u001b[0;34m:\u001b[0m\u001b[0;34m\u001b[0m\u001b[0;34m\u001b[0m\u001b[0m\n\u001b[1;32m    722\u001b[0m                 \u001b[0mself\u001b[0m\u001b[0;34m.\u001b[0m\u001b[0m_timeout_occurred\u001b[0m \u001b[0;34m=\u001b[0m \u001b[0;32mTrue\u001b[0m\u001b[0;34m\u001b[0m\u001b[0;34m\u001b[0m\u001b[0m\n",
            "\u001b[0;32m/usr/lib/python3.12/ssl.py\u001b[0m in \u001b[0;36mrecv_into\u001b[0;34m(self, buffer, nbytes, flags)\u001b[0m\n\u001b[1;32m   1249\u001b[0m                   \u001b[0;34m\"non-zero flags not allowed in calls to recv_into() on %s\"\u001b[0m \u001b[0;34m%\u001b[0m\u001b[0;34m\u001b[0m\u001b[0;34m\u001b[0m\u001b[0m\n\u001b[1;32m   1250\u001b[0m                   self.__class__)\n\u001b[0;32m-> 1251\u001b[0;31m             \u001b[0;32mreturn\u001b[0m \u001b[0mself\u001b[0m\u001b[0;34m.\u001b[0m\u001b[0mread\u001b[0m\u001b[0;34m(\u001b[0m\u001b[0mnbytes\u001b[0m\u001b[0;34m,\u001b[0m \u001b[0mbuffer\u001b[0m\u001b[0;34m)\u001b[0m\u001b[0;34m\u001b[0m\u001b[0;34m\u001b[0m\u001b[0m\n\u001b[0m\u001b[1;32m   1252\u001b[0m         \u001b[0;32melse\u001b[0m\u001b[0;34m:\u001b[0m\u001b[0;34m\u001b[0m\u001b[0;34m\u001b[0m\u001b[0m\n\u001b[1;32m   1253\u001b[0m             \u001b[0;32mreturn\u001b[0m \u001b[0msuper\u001b[0m\u001b[0;34m(\u001b[0m\u001b[0;34m)\u001b[0m\u001b[0;34m.\u001b[0m\u001b[0mrecv_into\u001b[0m\u001b[0;34m(\u001b[0m\u001b[0mbuffer\u001b[0m\u001b[0;34m,\u001b[0m \u001b[0mnbytes\u001b[0m\u001b[0;34m,\u001b[0m \u001b[0mflags\u001b[0m\u001b[0;34m)\u001b[0m\u001b[0;34m\u001b[0m\u001b[0;34m\u001b[0m\u001b[0m\n",
            "\u001b[0;32m/usr/lib/python3.12/ssl.py\u001b[0m in \u001b[0;36mread\u001b[0;34m(self, len, buffer)\u001b[0m\n\u001b[1;32m   1101\u001b[0m         \u001b[0;32mtry\u001b[0m\u001b[0;34m:\u001b[0m\u001b[0;34m\u001b[0m\u001b[0;34m\u001b[0m\u001b[0m\n\u001b[1;32m   1102\u001b[0m             \u001b[0;32mif\u001b[0m \u001b[0mbuffer\u001b[0m \u001b[0;32mis\u001b[0m \u001b[0;32mnot\u001b[0m \u001b[0;32mNone\u001b[0m\u001b[0;34m:\u001b[0m\u001b[0;34m\u001b[0m\u001b[0;34m\u001b[0m\u001b[0m\n\u001b[0;32m-> 1103\u001b[0;31m                 \u001b[0;32mreturn\u001b[0m \u001b[0mself\u001b[0m\u001b[0;34m.\u001b[0m\u001b[0m_sslobj\u001b[0m\u001b[0;34m.\u001b[0m\u001b[0mread\u001b[0m\u001b[0;34m(\u001b[0m\u001b[0mlen\u001b[0m\u001b[0;34m,\u001b[0m \u001b[0mbuffer\u001b[0m\u001b[0;34m)\u001b[0m\u001b[0;34m\u001b[0m\u001b[0;34m\u001b[0m\u001b[0m\n\u001b[0m\u001b[1;32m   1104\u001b[0m             \u001b[0;32melse\u001b[0m\u001b[0;34m:\u001b[0m\u001b[0;34m\u001b[0m\u001b[0;34m\u001b[0m\u001b[0m\n\u001b[1;32m   1105\u001b[0m                 \u001b[0;32mreturn\u001b[0m \u001b[0mself\u001b[0m\u001b[0;34m.\u001b[0m\u001b[0m_sslobj\u001b[0m\u001b[0;34m.\u001b[0m\u001b[0mread\u001b[0m\u001b[0;34m(\u001b[0m\u001b[0mlen\u001b[0m\u001b[0;34m)\u001b[0m\u001b[0;34m\u001b[0m\u001b[0;34m\u001b[0m\u001b[0m\n",
            "\u001b[0;31mKeyboardInterrupt\u001b[0m: "
          ]
        }
      ],
      "source": [
        "#quick visualization\n",
        "!pip install bertviz\n",
        "from bertviz.transformers_neuron_view import BertModel, BertTokenizer\n",
        "from bertviz.neuron_view import show\n",
        "\n",
        "sentence_a = \"John loves Mary\"\n",
        "sentence_b = \"She is happy for that\"\n",
        "model_type = 'bert'\n",
        "model_version = 'bert-base-uncased'\n",
        "model = BertModel.from_pretrained(model_version, output_attentions=True)\n",
        "tokenizer = BertTokenizer.from_pretrained(model_version, do_lower_case=True)\n",
        "show(model, model_type, tokenizer, sentence_a, sentence_b, layer=4, head=3)"
      ]
    },
    {
      "cell_type": "markdown",
      "metadata": {
        "id": "_qOhooEO2PJv"
      },
      "source": [
        "Attention in Transformers is used in three different ways:\n",
        "- as the encoder's multi-head *self-attention*\n",
        "> This is the core of the encoder. It's designed to help the encoder understand the relationships between all words in the input sequence. For each word, it calculates attention scores with every other word in the same sequence. This allows it to create a new, contextually rich representation for each word by weighing the importance of all the other words around it. Since the encoder processes the entire input at once, there's no need for masking.\n",
        "- as the decoders' **masked** multi-head *self-attention*\n",
        "> This mechanism serves a different purpose in the decoder. The decoder's goal is to generate an output sequence, one word at a time. To ensure the model doesn't \"cheat\" by looking at future words, this self-attention layer is masked. The mask sets the attention weights for future words to zero, ensuring that when the model is generating the word \"bites\" in the sentence \"The dog bites the man,\" it can only pay attention to \"The\" and \"dog,\" not \"the\" and \"man\" which follow.\n",
        "- as the decoder's multi-head *cross-attention*\n",
        "> This is the \"encoder-decoder attention\" layer. It allows the decoder to \"look back\" at the encoder's output and extract the most relevant information needed to generate the next word in the output sequence. The query comes from the decoder's masked self-attention output, while the key and value vectors come from the encoder's output. This cross-attention mechanism acts as a bridge between the encoder and decoder, giving the decoder a context vector tailored specifically to the word it's trying to generate.\n",
        "\n",
        "Differences reside in the *masked* inputs and in source for $\\mathbf{Q}, \\mathbf{K}$ and $\\mathbf{V} $. Let's see why and how."
      ]
    },
    {
      "cell_type": "markdown",
      "metadata": {
        "id": "sQTEQ2iE2PJv"
      },
      "source": [
        "##### Masking"
      ]
    },
    {
      "cell_type": "markdown",
      "metadata": {
        "id": "-rU8DbHE2PJv"
      },
      "source": [
        "By 'masking' we mean setting a value to $-\\infty$. This leads to a 0-value output after the attention's softmax computation, which is exactly what we want."
      ]
    },
    {
      "cell_type": "code",
      "execution_count": null,
      "metadata": {
        "id": "mlcbJ5vX2PJv"
      },
      "outputs": [],
      "source": [
        "#to mask -> infinitely small number: needed when it will be passed\n",
        "#through softmax and to avoid 0/0 errors\n",
        "NEG_INFTY = -1e9"
      ]
    },
    {
      "cell_type": "code",
      "execution_count": null,
      "metadata": {
        "id": "JtegHFn52PJv",
        "outputId": "eaa308e7-ef28-42f9-e3bb-c6c4cdc6f518"
      },
      "outputs": [
        {
          "data": {
            "text/plain": [
              "'now, however, he is to go before the courts once more because the public prosecutor is appealing.'"
            ]
          },
          "execution_count": 61,
          "metadata": {},
          "output_type": "execute_result"
        }
      ],
      "source": [
        "english_batch[0]"
      ]
    },
    {
      "cell_type": "code",
      "execution_count": null,
      "metadata": {
        "id": "i9QrVNFw2PJv",
        "outputId": "dec15341-be64-45d9-940e-dc7d0d3804b7"
      },
      "outputs": [
        {
          "data": {
            "text/plain": [
              "'ora, però, verrà messo nuovamente in stato di accusa perché il pubblico ministero ricorrerà in appello.'"
            ]
          },
          "execution_count": 62,
          "metadata": {},
          "output_type": "execute_result"
        }
      ],
      "source": [
        "italian_batch[0]"
      ]
    },
    {
      "cell_type": "markdown",
      "metadata": {
        "id": "fP_fVuAT2PJw"
      },
      "source": [
        "The encoder's multi-head self attention and decoder's multi-head cross attention does not need any mask. Indeed we want it to extract both right context and left context. The only mask we will apply will block attention to and from \\<PADDING\\> tokens."
      ]
    },
    {
      "cell_type": "code",
      "execution_count": null,
      "metadata": {
        "id": "pcSMjXVb2PJw"
      },
      "outputs": [],
      "source": [
        "def create_encoder_padding_mask(eng_batch):\n",
        "    masks = []\n",
        "    tokenized_batch = en_sentence_embedding.batch_tokenize(eng_batch, start_token = False, end_token = True)\n",
        "    for sentence in tokenized_batch:\n",
        "        row = torch.where(sentence == en_sentence_embedding.language_to_index[en_sentence_embedding.PADDING_TOKEN],\n",
        "                        True, False)\n",
        "        mask = torch.tile(row.unsqueeze(0), (len(sentence), 1)) #repeats a tensor along specified dimensions.\n",
        "        mask = torch.logical_or(mask, mask.T)\n",
        "        mask = torch.where(mask, NEG_INFTY, 0)\n",
        "        masks.append(mask)\n",
        "    masks = torch.stack(masks)\n",
        "    return masks.to(get_device())"
      ]
    },
    {
      "cell_type": "code",
      "execution_count": null,
      "metadata": {
        "id": "ifVjy9KG2PJx"
      },
      "outputs": [],
      "source": [
        "def create_decoder_padding_mask(eng_batch, it_batch):\n",
        "    masks = []\n",
        "    tokenized_it_batch = it_sentence_embedding.batch_tokenize(it_batch, start_token = True, end_token = True)\n",
        "    tokenized_en_batch = en_sentence_embedding.batch_tokenize(eng_batch, start_token = False, end_token = True)\n",
        "    masks = []\n",
        "    for en_sentence, it_sentence in zip(tokenized_en_batch, tokenized_it_batch):\n",
        "        en_row = torch.where(en_sentence == en_sentence_embedding.language_to_index[en_sentence_embedding.PADDING_TOKEN],\n",
        "                        True, False)\n",
        "        en_mask = torch.tile(en_row.unsqueeze(0), (len(en_sentence), 1))\n",
        "        it_row = torch.where(it_sentence == it_sentence_embedding.language_to_index[it_sentence_embedding.PADDING_TOKEN],\n",
        "                        True, False)\n",
        "        it_mask = torch.tile(it_row.unsqueeze(0), (len(it_sentence), 1))\n",
        "        mask = torch.logical_or(it_mask, en_mask.T)\n",
        "        mask = torch.where(mask, NEG_INFTY, 0)\n",
        "        masks.append(mask)\n",
        "    masks = torch.stack(masks)\n",
        "    return masks.to(get_device())"
      ]
    },
    {
      "cell_type": "code",
      "execution_count": null,
      "metadata": {
        "id": "eWn--vtZ2PJx",
        "outputId": "34e24461-f288-41e0-9487-df21bffce8ca"
      },
      "outputs": [
        {
          "data": {
            "text/plain": [
              "<Axes: >"
            ]
          },
          "execution_count": 65,
          "metadata": {},
          "output_type": "execute_result"
        },
        {
          "data": {
            "image/png": "[encoded data removed]",
            "text/plain": [
              "<Figure size 1300x1000 with 2 Axes>"
            ]
          },
          "metadata": {},
          "output_type": "display_data"
        }
      ],
      "source": [
        "m = create_encoder_padding_mask(english_batch)[0]\n",
        "fig, ax = plt.subplots(figsize=(13,10))\n",
        "sns.heatmap(m, xticklabels=tokenized_sentence_pad, yticklabels=tokenized_sentence_pad)"
      ]
    },
    {
      "cell_type": "markdown",
      "metadata": {
        "id": "ykgAQJpJ2PJx"
      },
      "source": [
        "Decoder's cross attention:"
      ]
    },
    {
      "cell_type": "code",
      "execution_count": null,
      "metadata": {
        "id": "oc0I6t552PJy",
        "outputId": "eb838e73-598e-4712-8439-fd433b5ab413"
      },
      "outputs": [
        {
          "data": {
            "text/plain": [
              "<Axes: >"
            ]
          },
          "execution_count": 67,
          "metadata": {},
          "output_type": "execute_result"
        },
        {
          "data": {
            "image/png": "[encoded data removed]",
            "text/plain": [
              "<Figure size 800x600 with 2 Axes>"
            ]
          },
          "metadata": {},
          "output_type": "display_data"
        }
      ],
      "source": [
        "tokenized_sentence_it = it_sentence_embedding.batch_tokenize(italian_batch, start_token = True, end_token = True)[0]\n",
        "tokenized_sentence_it_pad = [index_to_italian[t.item()] for t in tokenized_sentence_it]\n",
        "m = create_decoder_padding_mask(english_batch, italian_batch)[0]\n",
        "fig, ax = plt.subplots(figsize=(8,6))\n",
        "sns.heatmap(m, xticklabels=tokenized_sentence_it_pad, yticklabels=tokenized_sentence_pad)"
      ]
    },
    {
      "cell_type": "markdown",
      "metadata": {
        "id": "4Btpqo2n2PJy"
      },
      "source": [
        "The decoder's masked multi head self attention needs look-ahead masks because it needs to learn to predict the next token: not masking future inputs would be cheating. More formally, remember we need to retain the auto-regressive property of attention to be able to generate text.\\\n",
        "For the decoder's self attention we also need \\<PADDING\\> token mask."
      ]
    },
    {
      "cell_type": "code",
      "execution_count": null,
      "metadata": {
        "id": "hrFfiCx92PJy"
      },
      "outputs": [],
      "source": [
        "def create_decoder_masked_attention_mask(it_batch):\n",
        "    tokenized_batch = it_sentence_embedding.batch_tokenize(it_batch, start_token = True, end_token = True)\n",
        "\n",
        "    masks = []\n",
        "    for sentence in tokenized_batch:\n",
        "        #return a new tensor of a specified size filled with a single value\n",
        "        look_ahead_mask = torch.full([len(sentence), len(sentence)] , True)\n",
        "        #return a new tensor with all elements below the main diagonal set to zero\n",
        "        look_ahead_mask = torch.triu(look_ahead_mask, diagonal=1)\n",
        "        row = torch.where(sentence == it_sentence_embedding.language_to_index[it_sentence_embedding.PADDING_TOKEN],\n",
        "                        True, False)\n",
        "        padding_mask = torch.tile(row.unsqueeze(0), (len(sentence), 1))\n",
        "        padding_mask = torch.logical_or(padding_mask, padding_mask.T)\n",
        "        mask = torch.logical_or(padding_mask, look_ahead_mask)\n",
        "        mask = torch.where(mask, NEG_INFTY, 0)\n",
        "        masks.append(mask)\n",
        "    masks = torch.stack(masks)\n",
        "\n",
        "    return masks.to(get_device())\n",
        ""
      ]
    },
    {
      "cell_type": "code",
      "execution_count": null,
      "metadata": {
        "id": "I7QAfMtR2PJy",
        "outputId": "a5970ddc-f019-476f-87d6-b00eaee45099"
      },
      "outputs": [
        {
          "data": {
            "text/plain": [
              "<Axes: >"
            ]
          },
          "execution_count": 70,
          "metadata": {},
          "output_type": "execute_result"
        },
        {
          "data": {
            "image/png": "[encoded data removed]",
            "text/plain": [
              "<Figure size 800x600 with 2 Axes>"
            ]
          },
          "metadata": {},
          "output_type": "display_data"
        }
      ],
      "source": [
        "m = create_decoder_masked_attention_mask(italian_batch)[0]\n",
        "fig, ax = plt.subplots(figsize=(8,6))\n",
        "sns.heatmap(m, xticklabels=tokenized_sentence_it_pad, yticklabels=tokenized_sentence_it_pad)"
      ]
    },
    {
      "cell_type": "markdown",
      "metadata": {
        "id": "JkM0ma7P2PJz"
      },
      "source": [
        "##### Final Attention Function"
      ]
    },
    {
      "cell_type": "markdown",
      "metadata": {
        "id": "7zfsPZKH2PJz"
      },
      "source": [
        "Let's redefine the attention function so that it accepts masks."
      ]
    },
    {
      "cell_type": "code",
      "execution_count": null,
      "metadata": {
        "id": "m9fRKhoq2PJz"
      },
      "outputs": [],
      "source": [
        "def scaled_dot_product_attention(q, k, v, mask=None):\n",
        "  d_k = q.shape[-1]\n",
        "  scaled = np.matmul(q, k.T) / math.sqrt(d_k)\n",
        "  if mask is not None:\n",
        "    scaled = scaled + mask\n",
        "  attention = softmax(scaled)\n",
        "  out = np.matmul(attention, v)\n",
        "  return out, attention"
      ]
    },
    {
      "cell_type": "markdown",
      "metadata": {
        "id": "iwJwLvN52PJz"
      },
      "source": [
        "### Multi-head Attention"
      ]
    },
    {
      "cell_type": "markdown",
      "metadata": {
        "id": "5-CGM4p42PJz"
      },
      "source": [
        "Multi-head attention allows the model to jointly attend to information from different representation subspaces at different positions.\\\n",
        "They give enriched contextual representation: how do different words relate to each other simultaneously?\\\n",
        "These are sets of self-attention layers, called **heads**, that reside in parallel layers at the same depth in a model, each with its own set of parameters. Given these distinct set of parameters, each head can learn different aspects of the relationships that exist among inputs at the same level of abstraction."
      ]
    },
    {
      "cell_type": "markdown",
      "metadata": {
        "id": "LRt2hOtT2PJ0"
      },
      "source": [
        "Each head takes a split of the original $\\mathbf{Q}, \\mathbf{K}, \\mathbf{V}$ matrices. In the original paper, the authors employ $h = 8$ parallel attention layers, called **heads**, where each head has a reduced input embedding dimensionality $d_{model}/h = 64$, being $d_{model}=512$.\\\n",
        "For the $i$-th attention head,\n",
        "$$\n",
        "\\mathbf{Q} = \\mathbf{XW}_i^Q, \\mathbf{K} = \\mathbf{XW}_i^K, \\mathbf{V} = \\mathbf{XW}_i^V; \\quad \\mathbf{W}_i^Q \\in \\mathbb{R}^{d_{model}\\times d_k}, \\mathbf{W}_i^K \\in \\mathbb{R}^{d_{model}\\times d_k}, \\mathbf{W}_i^V \\in \\mathbb{R}^{d_{model}\\times d_v}\n",
        "$$\n",
        "$$\n",
        "\\mathbf{head}_i = \\text{SelfAttention}(\\mathbf{Q}, \\mathbf{K}, \\mathbf{V})\n",
        "$$\n",
        "Then, we simply concatenate all $h$ outputs:\n",
        "$$\n",
        "\\text{MultiHeadAttn}(\\mathbf{X}) = (\\mathbf{head}_1 \\oplus \\mathbf{head}_2, \\dots, \\oplus  \\mathbf{head}_h) \\mathbf{W}^O, \\quad \\mathbf{W}^O \\in \\mathbb{R}^{hd_{v}\\times d_{model}}\n",
        "$$"
      ]
    },
    {
      "cell_type": "markdown",
      "metadata": {
        "id": "VuuAgYVs2PJ0"
      },
      "source": [
        "Let's say $h=4$: then\n",
        "<center><img src=\"https://github.com/Abudo-S/NLP_COURSE/blob/main/transformers/img/multihead-attn.svg?raw=1\" /></center>"
      ]
    },
    {
      "cell_type": "code",
      "execution_count": null,
      "metadata": {
        "id": "XKRlUGQ12PJ0",
        "outputId": "17c955e9-15d6-45cc-8307-45ac1f37427b"
      },
      "outputs": [
        {
          "name": "stdout",
          "output_type": "stream",
          "text": [
            "X shape: torch.Size([3, 60, 6])\n"
          ]
        }
      ],
      "source": [
        "input = en_sentence_embedding(english_batch, start_token = False, end_token = True)\n",
        "sequence_length = max_sequence_len\n",
        "print(f\"X shape: {input.size()}\")"
      ]
    },
    {
      "cell_type": "markdown",
      "metadata": {
        "id": "dgLEnBGY2PJ0"
      },
      "source": [
        "We will stack our Q, K and V matrices in one single linear layer"
      ]
    },
    {
      "cell_type": "code",
      "execution_count": null,
      "metadata": {
        "id": "_QHALNwo2PJ1",
        "outputId": "cabff402-fac3-4f25-91b8-e5a79f76ff3f"
      },
      "outputs": [
        {
          "name": "stdout",
          "output_type": "stream",
          "text": [
            "QKV stacked matrix shape: torch.Size([3, 60, 18])\n"
          ]
        }
      ],
      "source": [
        "qkv_layer = nn.Linear(d_model , 3 * d_model)\n",
        "qkv = qkv_layer(input)\n",
        "print(f\"QKV stacked matrix shape: {qkv.size()}\")"
      ]
    },
    {
      "cell_type": "code",
      "execution_count": null,
      "metadata": {
        "id": "KYA0Xyra2PJ1",
        "outputId": "f79c0df4-0ccd-4a7d-9c09-98a53d02eed3"
      },
      "outputs": [
        {
          "name": "stdout",
          "output_type": "stream",
          "text": [
            "QKV stacked matrix shape after split data for 2 heads: torch.Size([3, 60, 2, 9])\n"
          ]
        }
      ],
      "source": [
        "num_heads = 2\n",
        "head_dim = d_model // num_heads\n",
        "qkv = qkv.reshape(batch_size, sequence_length, num_heads, 3 * head_dim) #split the last dimension in two, [num_heads and 3 * head_dim]\n",
        "print(f\"QKV stacked matrix shape after split data for {num_heads} heads: {qkv.size()}\")"
      ]
    },
    {
      "cell_type": "markdown",
      "metadata": {
        "id": "if9q8ofy2PJ1"
      },
      "source": [
        "Notice that this shape is equal to $\\texttt{[batch\\_size, sequence\\_length, num\\_heads, 3*head\\_dim]}$.\\\n",
        "We want it to be $\\texttt{[batch\\_size, num\\_heads, sequence\\_length, 3*head\\_dim]}$."
      ]
    },
    {
      "cell_type": "code",
      "execution_count": null,
      "metadata": {
        "id": "qq5ZTbml2PJ1",
        "outputId": "19abb394-d7a8-4ffc-b35a-e8d07462d2cf"
      },
      "outputs": [
        {
          "name": "stdout",
          "output_type": "stream",
          "text": [
            "QKV stacked matrix shape after split data for 2 heads, dimensions permuted: torch.Size([3, 2, 60, 9])\n"
          ]
        }
      ],
      "source": [
        "#rearrange the dimensions\n",
        "qkv = qkv.permute(0, 2, 1, 3) # [batch_size, num_heads, sequence_length, 3*head_dim]\n",
        "print(f\"QKV stacked matrix shape after split data for {num_heads} heads, dimensions permuted: {qkv.size()}\")"
      ]
    },
    {
      "cell_type": "markdown",
      "metadata": {
        "id": "lOZrfWVb2PJ2"
      },
      "source": [
        "Now we only have to (actually) split this matrix in 3 sub-matrices to compute attention."
      ]
    },
    {
      "cell_type": "code",
      "execution_count": null,
      "metadata": {
        "id": "HJ3zabYj2PJ2",
        "outputId": "68b8ef0f-a064-4132-f190-7df4d7175050"
      },
      "outputs": [
        {
          "name": "stdout",
          "output_type": "stream",
          "text": [
            "Q matrix from QKV stacked matrix: torch.Size([3, 2, 60, 3])\n",
            "K matrix from QKV stacked matrix: torch.Size([3, 2, 60, 3])\n",
            "V matrix from QKV stacked matrix: torch.Size([3, 2, 60, 3])\n"
          ]
        }
      ],
      "source": [
        "q, k, v = qkv.chunk(3, dim=-1) #breaking down last dimension\n",
        "print(f\"Q matrix from QKV stacked matrix: {q.size()}\")\n",
        "print(f\"K matrix from QKV stacked matrix: {k.size()}\")\n",
        "print(f\"V matrix from QKV stacked matrix: {v.size()}\")"
      ]
    },
    {
      "cell_type": "markdown",
      "metadata": {
        "id": "7kD8ncsU2PJ2"
      },
      "source": [
        "We are ready to compute attention. First, we must determine $d_k$."
      ]
    },
    {
      "cell_type": "code",
      "execution_count": null,
      "metadata": {
        "id": "VgL6bih12PJ3"
      },
      "outputs": [],
      "source": [
        "d_k = d_model // num_heads #equal to last dimension of q\n",
        "d_k = q.size()[-1]"
      ]
    },
    {
      "cell_type": "markdown",
      "metadata": {
        "id": "0ki78I0l2PJ3"
      },
      "source": [
        "Notice that the matrix multiplication $\\mathbf{QK}^\\top$ must be coded such that only the last two dimensions of a vector with shape  $\\texttt{[batch\\_size, num\\_heads, sequence\\_length, 3*head\\_dim]}$ must be transposed."
      ]
    },
    {
      "cell_type": "code",
      "execution_count": null,
      "metadata": {
        "id": "BKli4Vwq2PJ3",
        "outputId": "b71e5cf8-b191-495a-deb2-3373b8860dec"
      },
      "outputs": [
        {
          "name": "stdout",
          "output_type": "stream",
          "text": [
            "Scaled QK matrix: torch.Size([3, 2, 60, 60])\n"
          ]
        }
      ],
      "source": [
        "scaled = torch.matmul(q, k.transpose(-2, -1)) / math.sqrt(d_k)\n",
        "print(f\"Scaled QK matrix: {scaled.size()}\")"
      ]
    },
    {
      "cell_type": "markdown",
      "metadata": {
        "id": "e_frqDLQ2PJ3"
      },
      "source": [
        "Let's compute and apply the mask for this encoder self-attention."
      ]
    },
    {
      "cell_type": "code",
      "execution_count": null,
      "metadata": {
        "id": "osWZAdSO2PJ4"
      },
      "outputs": [],
      "source": [
        "mask = create_encoder_padding_mask(english_batch)\n",
        "mask = torch.tile(mask.unsqueeze(1), (1, num_heads, 1, 1)) #add a dummy dimension to replicate mask for each split\n",
        "scaled = scaled + mask"
      ]
    },
    {
      "cell_type": "markdown",
      "metadata": {
        "id": "RIcBZl0B2PJ4"
      },
      "source": [
        "Now that we have the masked scaled input, let's normalize the values through softmax."
      ]
    },
    {
      "cell_type": "code",
      "execution_count": null,
      "metadata": {
        "id": "Wd-l718y2PJ4",
        "outputId": "8a30ad7e-5e0f-435d-d198-fbcfa81e3e1a"
      },
      "outputs": [
        {
          "name": "stdout",
          "output_type": "stream",
          "text": [
            "Attention weights matrix: torch.Size([3, 2, 60, 60])\n"
          ]
        }
      ],
      "source": [
        "attention_weights = F.softmax(scaled, dim=-1) #computed only on last dimension containing scaled input\n",
        "print(f\"Attention weights matrix: {attention_weights.size()}\")"
      ]
    },
    {
      "cell_type": "markdown",
      "metadata": {
        "id": "MFSGikV02PJ4"
      },
      "source": [
        "Let's compute the output of each head in multihead attention."
      ]
    },
    {
      "cell_type": "code",
      "execution_count": null,
      "metadata": {
        "id": "FUy_-nmb2PJ4",
        "outputId": "72b6055c-5fe8-4537-9cec-05be6d4553b7"
      },
      "outputs": [
        {
          "name": "stdout",
          "output_type": "stream",
          "text": [
            "Output matrix for all heads: torch.Size([3, 2, 60, 3])\n"
          ]
        }
      ],
      "source": [
        "heads_output = torch.matmul(attention_weights, v)\n",
        "print(f\"Output matrix for all heads: {heads_output.size()}\")"
      ]
    },
    {
      "cell_type": "markdown",
      "metadata": {
        "id": "mV3m2w702PJ4"
      },
      "source": [
        "The final output will simply be the reshaping of all heads outputs, averaged through a linear layer ($\\mathbf{W}^O$)."
      ]
    },
    {
      "cell_type": "code",
      "execution_count": null,
      "metadata": {
        "id": "1L_0Ktpp2PJ5",
        "outputId": "bf3a3673-e52b-47c0-cf94-8ba3472b4215"
      },
      "outputs": [
        {
          "name": "stdout",
          "output_type": "stream",
          "text": [
            "Output matrix for all heads after reshaping, ready for averaging: torch.Size([3, 60, 6])\n"
          ]
        }
      ],
      "source": [
        "heads_output = heads_output.reshape(input.size())\n",
        "print(f\"Output matrix for all heads after reshaping, ready for averaging: {heads_output.size()}\")"
      ]
    },
    {
      "cell_type": "code",
      "execution_count": null,
      "metadata": {
        "id": "mKKCderX2PJ5"
      },
      "outputs": [],
      "source": [
        "linear_layer = nn.Linear(d_model, d_model)\n",
        "output = linear_layer(heads_output)\n",
        "print(f\"Final output matrix after averaging: {output.size()}\")"
      ]
    },
    {
      "cell_type": "markdown",
      "metadata": {
        "id": "sXC9dFgj2PJ5"
      },
      "source": [
        "#### Fancy class for Multi-head Attention"
      ]
    },
    {
      "cell_type": "code",
      "execution_count": null,
      "metadata": {
        "id": "sPg0hLuM2PJ5"
      },
      "outputs": [],
      "source": [
        "def scaled_dot_product(q, k, v, mask=None):\n",
        "    d_k = q.size()[-1]\n",
        "    scaled = torch.matmul(q, k.transpose(-1, -2)) / math.sqrt(d_k)\n",
        "    if mask is not None:\n",
        "        scaled += mask\n",
        "    attention = F.softmax(scaled, dim=-1)\n",
        "    values = torch.matmul(attention, v)\n",
        "    return values, attention\n",
        "\n",
        "class MultiheadAttention(nn.Module):\n",
        "\n",
        "    def __init__(self, d_model, num_heads):\n",
        "        super().__init__()\n",
        "        self.d_model = d_model\n",
        "        self.num_heads = num_heads\n",
        "        self.head_dim = d_model // num_heads\n",
        "        self.qkv_layer = nn.Linear(d_model , 3 * d_model)\n",
        "        self.linear_layer = nn.Linear(d_model, d_model)\n",
        "\n",
        "    def forward(self, x, mask=None):\n",
        "        batch_size, sequence_length, input_dim = x.size()\n",
        "        qkv = self.qkv_layer(x)\n",
        "        qkv = qkv.reshape(batch_size, sequence_length, self.num_heads, 3 * self.head_dim)\n",
        "        qkv = qkv.permute(0, 2, 1, 3)\n",
        "        q, k, v = qkv.chunk(3, dim=-1)\n",
        "        values, attention = scaled_dot_product(q, k, v, mask)\n",
        "        values = values.reshape(batch_size, sequence_length, self.num_heads * self.head_dim)\n",
        "        out = self.linear_layer(values)\n",
        "        return out"
      ]
    },
    {
      "cell_type": "code",
      "execution_count": null,
      "metadata": {
        "id": "DNeua0eO2PJ5",
        "outputId": "1690a48f-3551-40b6-b643-d79619c10fdb"
      },
      "outputs": [
        {
          "data": {
            "text/plain": [
              "tensor([[[-0.1815, -0.6934, -0.1072, -0.0135,  0.5330, -0.0513],\n",
              "         [-0.1970, -0.7488, -0.0271, -0.0108,  0.4686, -0.0932],\n",
              "         [-0.1738, -0.6793, -0.1147, -0.0297,  0.5445, -0.0389],\n",
              "         ...,\n",
              "         [-0.1696, -0.6121,  0.1678, -0.0669,  0.4279, -0.0311],\n",
              "         [-0.2199, -0.7326, -0.0500,  0.1187,  0.5358,  0.0296],\n",
              "         [-0.1616, -0.6791, -0.0842,  0.0171,  0.6230,  0.1352]],\n",
              "\n",
              "        [[-0.1198, -0.5155, -0.0268, -0.0665,  0.5410,  0.0180],\n",
              "         [-0.0662, -0.6860,  0.0772,  0.0176,  0.5001,  0.0592],\n",
              "         [-0.1649, -0.6740, -0.0255,  0.0337,  0.4997, -0.0401],\n",
              "         ...,\n",
              "         [-0.2406, -0.5456,  0.3990,  0.1319,  0.0904, -0.3986],\n",
              "         [-0.2553, -0.6830,  0.1224,  0.2924,  0.2673, -0.2620],\n",
              "         [-0.1012, -0.5264,  0.0952, -0.0017,  0.4880,  0.0404]],\n",
              "\n",
              "        [[-0.2500, -0.8362, -0.0297,  0.0638,  0.4413, -0.1346],\n",
              "         [-0.3346, -0.8322,  0.0011,  0.1660,  0.4168, -0.1419],\n",
              "         [-0.2809, -0.7831, -0.1022,  0.0869,  0.4925, -0.1079],\n",
              "         ...,\n",
              "         [-0.1549, -0.6222,  0.0732, -0.0709,  0.4894,  0.0064],\n",
              "         [-0.2223, -0.7150, -0.0480,  0.1064,  0.5185, -0.0062],\n",
              "         [-0.1993, -0.6960, -0.1036,  0.0920,  0.5731,  0.0429]]],\n",
              "       grad_fn=<ViewBackward0>)"
            ]
          },
          "execution_count": 84,
          "metadata": {},
          "output_type": "execute_result"
        }
      ],
      "source": [
        "model = MultiheadAttention(d_model, num_heads)\n",
        "out = model(input)\n",
        "out"
      ]
    },
    {
      "cell_type": "markdown",
      "metadata": {
        "id": "DRtwWZnv2PJ5"
      },
      "source": [
        "### Layer Normalization"
      ]
    },
    {
      "cell_type": "markdown",
      "metadata": {
        "id": "ZtyNLr2F2PJ6"
      },
      "source": [
        "Matrix multiplications can easily make matrix values exploding or vanishing.\\\n",
        " Layer normalization helps with this possible problem, keeping the values in a range that facilitates gradient-based training."
      ]
    },
    {
      "cell_type": "markdown",
      "metadata": {
        "id": "hwzZwhZU2PJ6"
      },
      "source": [
        "Given a hidden layer with dimensionality $d_h$, these values are calculated as follows\n",
        "$$\n",
        "\\mu = \\frac{1}{d_h}\\sum_{i = 1}^{d_h}x_i\n",
        "$$\n",
        "$$\n",
        "\\sigma = \\sqrt{\\frac{1}{d_h}\\sum_{i = 1}^{d_h}(x_i - \\mu)^2}\n",
        "$$\n",
        "and the normalized values will be computed as\n",
        "$$\n",
        "\\hat{\\mathbf{x}} = \\frac{\\mathbf{x}-\\mu}{\\sigma}\n",
        "$$\n",
        "Finally, in the standard implementation of layer normalization, two learnable parameters $\\gamma$ and $\\beta$, representing gain and offset values, are introduced\n",
        "$$\n",
        "\\text{LayerNorm} = \\gamma \\hat{\\mathbf{x}}+\\beta\n",
        "$$"
      ]
    },
    {
      "cell_type": "markdown",
      "metadata": {
        "id": "Yo4DCZnc2PJ6"
      },
      "source": [
        "We can compute the mean as"
      ]
    },
    {
      "cell_type": "code",
      "execution_count": null,
      "metadata": {
        "id": "tF-N5H0f2PJ6",
        "outputId": "45ca00a2-9937-419c-b200-f8e95952dfe0"
      },
      "outputs": [
        {
          "name": "stdout",
          "output_type": "stream",
          "text": [
            "torch.Size([3, 1, 1])\n",
            "tensor([[[-0.0717]],\n",
            "\n",
            "        [[-0.0335]],\n",
            "\n",
            "        [[-0.0805]]], grad_fn=<MeanBackward1>)\n"
          ]
        }
      ],
      "source": [
        "#we average on the last two dimensions\n",
        "mean = out.mean(dim = (-1, -2), keepdim=True) #keepdim=True retrieves a vector maintaining the number of dimensions of input\n",
        "print(mean.size())\n",
        "print(mean)"
      ]
    },
    {
      "cell_type": "code",
      "execution_count": null,
      "metadata": {
        "id": "8eEb7d_F2PJ6",
        "outputId": "01f6ee96-e13b-4e03-f4f3-c116ebbb739a"
      },
      "outputs": [
        {
          "name": "stdout",
          "output_type": "stream",
          "text": [
            "torch.Size([3, 1, 1])\n",
            "tensor([[[0.3683]],\n",
            "\n",
            "        [[0.3233]],\n",
            "\n",
            "        [[0.3737]]], grad_fn=<StdBackward0>)\n"
          ]
        }
      ],
      "source": [
        "#same for standard deviation\n",
        "std = out.std(dim = (-1, -2), keepdim=True) #keepdim=True retrieves a vector maintaining the number of dimensions of input\n",
        "print(std.size())\n",
        "print(std)"
      ]
    },
    {
      "cell_type": "markdown",
      "metadata": {
        "id": "m_XuvcT72PJ7"
      },
      "source": [
        "And the normalized output is"
      ]
    },
    {
      "cell_type": "code",
      "execution_count": null,
      "metadata": {
        "id": "JL3t3bVf2PJ7",
        "outputId": "a0d5f3fb-5db6-4bad-89d6-88b4fe95127c"
      },
      "outputs": [
        {
          "name": "stdout",
          "output_type": "stream",
          "text": [
            "torch.Size([60, 6])\n",
            "torch.Size([3, 60, 6])\n"
          ]
        }
      ],
      "source": [
        "parameter_shape = out.size()[-2:]\n",
        "print(parameter_shape)\n",
        "gamma = nn.Parameter(torch.ones(parameter_shape))\n",
        "beta =  nn.Parameter(torch.zeros(parameter_shape))\n",
        "\n",
        "out_norm = (out - mean)/std\n",
        "out_norm = gamma * out_norm + beta\n",
        "print(out_norm.size())"
      ]
    },
    {
      "cell_type": "code",
      "execution_count": null,
      "metadata": {
        "id": "X_bNbFjs2PJ7",
        "outputId": "136454ed-61b3-42ca-a807-fabe43f70ae7"
      },
      "outputs": [
        {
          "name": "stdout",
          "output_type": "stream",
          "text": [
            "Old mean and variance:\n",
            "tensor([[[-0.0717]],\n",
            "\n",
            "        [[-0.0335]],\n",
            "\n",
            "        [[-0.0805]]], grad_fn=<MeanBackward1>)\n",
            "tensor([[[0.1357]],\n",
            "\n",
            "        [[0.1045]],\n",
            "\n",
            "        [[0.1397]]], grad_fn=<VarBackward0>)\n",
            "\n",
            "New mean and variance:\n",
            "tensor([[[ 1.5895e-08]],\n",
            "\n",
            "        [[-5.2982e-09]],\n",
            "\n",
            "        [[-1.5895e-08]]], grad_fn=<MeanBackward1>)\n",
            "tensor([[[1.0000]],\n",
            "\n",
            "        [[1.0000]],\n",
            "\n",
            "        [[1.0000]]], grad_fn=<VarBackward0>)\n"
          ]
        }
      ],
      "source": [
        "print(f\"Old mean and variance:\\n{out.mean(dim = (-1, -2), keepdim=True)}\\n{out.var(dim = (-1, -2), keepdim=True)}\")\n",
        "print()\n",
        "print(f\"New mean and variance:\\n{out_norm.mean(dim = (-1, -2), keepdim=True)}\\n{out_norm.var(dim = (-1, -2), keepdim=True)}\")"
      ]
    },
    {
      "cell_type": "markdown",
      "metadata": {
        "id": "RKqCQVUV2PJ7"
      },
      "source": [
        "#### Fancy class for Layer Normalization"
      ]
    },
    {
      "cell_type": "code",
      "execution_count": null,
      "metadata": {
        "id": "V8xEknwm2PJ7"
      },
      "outputs": [],
      "source": [
        "class LayerNormalization(nn.Module):\n",
        "    def __init__(self, parameters_shape, eps=1e-5):\n",
        "        super().__init__()\n",
        "        self.parameters_shape=parameters_shape\n",
        "        self.eps=eps\n",
        "        self.gamma = nn.Parameter(torch.ones(parameters_shape))\n",
        "        self.beta =  nn.Parameter(torch.zeros(parameters_shape))\n",
        "\n",
        "    def forward(self, input):\n",
        "        dims = (-1, -2)\n",
        "        mean = input.mean(dim=dims, keepdim=True)\n",
        "        var = ((input - mean) ** 2).mean(dim=dims, keepdim=True)\n",
        "        std = (var + self.eps).sqrt() #adding espilon to avoid 0 values\n",
        "        y = (input - mean) / std\n",
        "        out = self.gamma * y + self.beta\n",
        "        return out"
      ]
    },
    {
      "cell_type": "code",
      "execution_count": null,
      "metadata": {
        "id": "fOphmvOf2PJ7",
        "outputId": "f9024f1b-10f7-4604-ac75-5c99a45fa271"
      },
      "outputs": [
        {
          "data": {
            "text/plain": [
              "torch.Size([3, 60, 6])"
            ]
          },
          "execution_count": 90,
          "metadata": {},
          "output_type": "execute_result"
        }
      ],
      "source": [
        "out.size()"
      ]
    },
    {
      "cell_type": "code",
      "execution_count": null,
      "metadata": {
        "id": "Zs92ukEg2PJ7",
        "outputId": "b9eb53b3-1cae-4d02-92cd-5869d4ceb34d"
      },
      "outputs": [
        {
          "data": {
            "text/plain": [
              "tensor([[[-0.2984, -1.6900, -0.0965,  0.1584,  1.6440,  0.0555],\n",
              "         [-0.3405, -1.8407,  0.1214,  0.1658,  1.4690, -0.0584],\n",
              "         [-0.2773, -1.6516, -0.1169,  0.1142,  1.6752,  0.0892],\n",
              "         ...,\n",
              "         [-0.2660, -1.4690,  0.6513,  0.0131,  1.3583,  0.1105],\n",
              "         [-0.4028, -1.7965,  0.0590,  0.5176,  1.6515,  0.2756],\n",
              "         [-0.2443, -1.6512, -0.0340,  0.2416,  1.8887,  0.5625]],\n",
              "\n",
              "        [[-0.2671, -1.4929,  0.0208, -0.1020,  1.7797,  0.1597],\n",
              "         [-0.1013, -2.0211,  0.3432,  0.1583,  1.6532,  0.2872],\n",
              "         [-0.4070, -1.9840,  0.0250,  0.2083,  1.6518, -0.0203],\n",
              "         ...,\n",
              "         [-0.6413, -1.5862,  1.3397,  0.5126,  0.3838, -1.1309],\n",
              "         [-0.6868, -2.0117,  0.4831,  1.0097,  0.9318, -0.7077],\n",
              "         [-0.2097, -1.5266,  0.3987,  0.0985,  1.6156,  0.2289]],\n",
              "\n",
              "        [[-0.4542, -2.0249,  0.1361,  0.3866,  1.3980, -0.1450],\n",
              "         [-0.6810, -2.0141,  0.2186,  0.6605,  1.3324, -0.1646],\n",
              "         [-0.5370, -1.8826, -0.0581,  0.4483,  1.5353, -0.0734],\n",
              "         ...,\n",
              "         [-0.1995, -1.4515,  0.4118,  0.0258,  1.5270,  0.2329],\n",
              "         [-0.3801, -1.7001,  0.0870,  0.5007,  1.6050,  0.1989],\n",
              "         [-0.3185, -1.6492, -0.0620,  0.4622,  1.7513,  0.3304]]],\n",
              "       grad_fn=<AddBackward0>)"
            ]
          },
          "execution_count": 91,
          "metadata": {},
          "output_type": "execute_result"
        }
      ],
      "source": [
        "layer_norm = LayerNormalization(out.size()[-2:])\n",
        "output_norm = layer_norm(out)\n",
        "output_norm"
      ]
    },
    {
      "cell_type": "markdown",
      "metadata": {
        "id": "UdW6ZGMy2PJ7"
      },
      "source": [
        "### Residual Connections"
      ]
    },
    {
      "cell_type": "markdown",
      "metadata": {
        "id": "C1ZJWLBU2PJ7"
      },
      "source": [
        "Residual connections are connections that pass information from a lower layer to a higher layer without going through the intermediate layer.\n",
        "also known as skip connections, create a \"shortcut\" for the gradient. Instead of forcing the gradient to flow through every layer, it can take a direct path to earlier layers.\n",
        "\n",
        "The process is:\n",
        "- A sub-layer's input (x) is added directly to its output.\n",
        "- The combined result is then passed through a Layer Normalization step.\n",
        "\n",
        "They are essential to strengthen the signals in deep neural networks as gradients could vanish when performing a high number of matrix multiplications."
      ]
    },
    {
      "cell_type": "markdown",
      "metadata": {
        "id": "-YqRZEAr2PJ7"
      },
      "source": [
        "## Encoder"
      ]
    },
    {
      "cell_type": "code",
      "execution_count": null,
      "metadata": {
        "id": "7oo9SyvJ2PJ7"
      },
      "outputs": [],
      "source": [
        "def scaled_dot_product(q, k, v, mask=None):\n",
        "    d_k = q.size()[-1]\n",
        "    scaled = torch.matmul(q, k.transpose(-1, -2)) / math.sqrt(d_k)\n",
        "    if mask is not None:\n",
        "        scaled = scaled.permute(1, 0, 2, 3) + mask #swap batch and head dimensions to match dimensions with mask\n",
        "        scaled = scaled.permute(1, 0, 2, 3) #resetting\n",
        "    attention = F.softmax(scaled, dim=-1)\n",
        "    values = torch.matmul(attention, v)\n",
        "    return values, attention\n",
        "\n",
        "\n",
        "class MultiHeadAttention(nn.Module):\n",
        "    def __init__(self, d_model, num_heads):\n",
        "        super().__init__()\n",
        "        self.d_model = d_model\n",
        "        self.num_heads = num_heads\n",
        "        self.head_dim = d_model // num_heads\n",
        "        self.qkv_layer = nn.Linear(d_model , 3 * d_model)\n",
        "        self.linear_layer = nn.Linear(d_model, d_model)\n",
        "\n",
        "    def forward(self, x, mask=None):\n",
        "        batch_size, sequence_length, input_dim = x.size()\n",
        "        qkv = self.qkv_layer(x)\n",
        "        qkv = qkv.reshape(batch_size, sequence_length, self.num_heads, 3 * self.head_dim)\n",
        "        qkv = qkv.permute(0, 2, 1, 3)\n",
        "        q, k, v = qkv.chunk(3, dim=-1)\n",
        "        values, attention = scaled_dot_product(q, k, v, mask)\n",
        "        values = values.reshape(batch_size, sequence_length, self.num_heads * self.head_dim)\n",
        "        out = self.linear_layer(values)\n",
        "        return out\n",
        "\n",
        "\n",
        "class LayerNormalization(nn.Module):\n",
        "    def __init__(self, parameters_shape, eps=1e-5):\n",
        "        super().__init__()\n",
        "        self.parameters_shape=parameters_shape\n",
        "        self.eps=eps\n",
        "        self.gamma = nn.Parameter(torch.ones(parameters_shape))\n",
        "        self.beta =  nn.Parameter(torch.zeros(parameters_shape))\n",
        "\n",
        "    def forward(self, input):\n",
        "        dims = (-1, -2)\n",
        "        mean = input.mean(dim=dims, keepdim=True)\n",
        "        var = ((input - mean) ** 2).mean(dim=dims, keepdim=True)\n",
        "        std = (var + self.eps).sqrt() #adding espilon to avoid 0 values\n",
        "        y = (input - mean) / std\n",
        "        out = self.gamma * y + self.beta\n",
        "        return out\n",
        "\n",
        "\n",
        "class PositionwiseFeedForward(nn.Module):\n",
        "    def __init__(self, d_model, hidden, drop_prob=0.1):\n",
        "        super(PositionwiseFeedForward, self).__init__()\n",
        "        self.linear1 = nn.Linear(d_model, hidden)\n",
        "        self.linear2 = nn.Linear(hidden, d_model)\n",
        "        self.relu = nn.ReLU()\n",
        "        self.dropout = nn.Dropout(p=drop_prob)\n",
        "\n",
        "    def forward(self, x):\n",
        "        x = self.linear1(x)\n",
        "        # make network understand better complex pattern\n",
        "        x = self.relu(x)\n",
        "        #better generalization\n",
        "        x = self.dropout(x)\n",
        "        #compress to 512 dimension\n",
        "        x = self.linear2(x)\n",
        "        return x\n",
        "\n",
        "\n",
        "class EncoderLayer(nn.Module):\n",
        "    def __init__(self, d_model, ffn_hidden, num_heads, drop_prob):\n",
        "        super(EncoderLayer, self).__init__()\n",
        "        self.attention = MultiHeadAttention(d_model=d_model, num_heads=num_heads)\n",
        "        self.norm1 = LayerNormalization(parameters_shape=[d_model])\n",
        "        self.dropout1 = nn.Dropout(p=drop_prob)\n",
        "        self.ffn = PositionwiseFeedForward(d_model=d_model, hidden=ffn_hidden, drop_prob=drop_prob)\n",
        "        self.norm2 = LayerNormalization(parameters_shape=[d_model])\n",
        "        self.dropout2 = nn.Dropout(p=drop_prob)\n",
        "\n",
        "    def forward(self, x, self_attention_mask):\n",
        "        residual_x = x\n",
        "        x = self.attention(x, mask= self_attention_mask)\n",
        "        x = self.dropout1(x)\n",
        "        x = self.norm1(x + residual_x)\n",
        "        residual_x = x\n",
        "        x = self.ffn(x)\n",
        "        x = self.dropout2(x)\n",
        "        x = self.norm2(x + residual_x)\n",
        "        return x\n",
        "\n",
        "class SequentialEncoder(nn.Sequential):\n",
        "    def forward(self, *inputs):\n",
        "        x, self_attention_mask  = inputs\n",
        "        for module in self._modules.values():\n",
        "            x = module(x, self_attention_mask)\n",
        "        return x\n",
        "\n",
        "class Encoder(nn.Module):\n",
        "    def __init__(self, d_model, ffn_hidden, num_heads, drop_prob, num_layers):\n",
        "        super().__init__()\n",
        "        #more layers for better vector representation for words and context\n",
        "        self.layers = SequentialEncoder(*[EncoderLayer(d_model, ffn_hidden, num_heads, drop_prob)\n",
        "                                    for _ in range(num_layers)])\n",
        "\n",
        "    def forward(self, x, self_attention_mask):\n",
        "        x = self.layers(x, self_attention_mask)\n",
        "        return x"
      ]
    },
    {
      "cell_type": "code",
      "execution_count": null,
      "metadata": {
        "id": "2SvRM5pD2PJ8"
      },
      "outputs": [],
      "source": [
        "d_model = 512\n",
        "num_heads = 8\n",
        "drop_prob = 0.1\n",
        "batch_size = 30\n",
        "max_sequence_length = 200\n",
        "ffn_hidden = 2048 #as in paper, helps with propagation of information\n",
        "num_layers = 5 #multi to capture complexity\n",
        "\n",
        "encoder = Encoder(d_model, ffn_hidden, num_heads, drop_prob, num_layers)"
      ]
    },
    {
      "cell_type": "code",
      "execution_count": null,
      "metadata": {
        "id": "_Jvv02ec2PJ8",
        "outputId": "fd691dce-7d7c-41d3-dcaf-e8bf3d64374a"
      },
      "outputs": [
        {
          "data": {
            "text/plain": [
              "tensor([[[-0.8500,  0.7653,  2.1215,  ...,  1.4175,  1.3266,  0.2159],\n",
              "         [-0.3447, -0.0237,  2.7391,  ...,  1.2201,  0.3153,  1.3035],\n",
              "         [ 0.8989,  0.0924,  1.9214,  ...,  2.2226,  0.4726,  0.8035],\n",
              "         ...,\n",
              "         [-0.8846, -0.8238,  0.0117,  ...,  0.4396,  0.4311,  0.3909],\n",
              "         [-1.7097, -1.3624,  0.1824,  ...,  0.0895,  0.1675,  0.1268],\n",
              "         [-1.5144, -0.9629, -0.1346,  ..., -0.3034,  0.5814,  0.7248]],\n",
              "\n",
              "        [[-0.4243, -0.4484,  0.8592,  ...,  1.2918,  0.8500,  1.7848],\n",
              "         [ 0.2271, -0.9118,  2.3418,  ...,  1.6834,  0.2225,  2.1119],\n",
              "         [-0.9242, -1.7416,  2.9309,  ...,  2.0814,  1.1473,  1.8689],\n",
              "         ...,\n",
              "         [-0.8875, -0.8801,  0.0251,  ...,  2.0645, -0.4778,  0.4431],\n",
              "         [-1.1269, -0.8158,  0.0274,  ...,  2.5127, -0.3588,  0.6840],\n",
              "         [-1.6378, -0.7345,  0.0125,  ...,  2.0877,  0.6633,  0.2867]],\n",
              "\n",
              "        [[ 0.0536,  1.8209,  1.3162,  ...,  2.1728,  1.0742,  1.2236],\n",
              "         [-0.2738,  0.4081,  0.0236,  ...,  0.6027,  0.8010, -0.3408],\n",
              "         [ 1.1607, -1.2286,  2.4101,  ...,  0.4223, -0.6911,  0.7774],\n",
              "         ...,\n",
              "         [-0.4664, -0.8934,  0.6886,  ...,  2.5396,  0.4037,  0.6134],\n",
              "         [-1.2652, -0.7174,  0.4996,  ...,  2.4094,  0.4567,  1.1790],\n",
              "         [-1.6791, -0.7874, -0.4887,  ...,  2.1429,  0.0520,  0.2597]]],\n",
              "       grad_fn=<AddBackward0>)"
            ]
          },
          "execution_count": 94,
          "metadata": {},
          "output_type": "execute_result"
        }
      ],
      "source": [
        "en_sentence_embedding = SentenceEmbedding(max_sequence_length, d_model, english_to_index, nlp_en.tokenizer, START_TOKEN, END_TOKEN, PADDING_TOKEN)\n",
        "english_batch = next(iterator)[0]\n",
        "input = en_sentence_embedding(english_batch, start_token = False, end_token = True)\n",
        "out_encoder = encoder(input, create_encoder_padding_mask(english_batch))\n",
        "out_encoder"
      ]
    },
    {
      "cell_type": "markdown",
      "metadata": {
        "id": "sZMIFXOH2PJ8"
      },
      "source": [
        "## Decoder"
      ]
    },
    {
      "cell_type": "code",
      "execution_count": null,
      "metadata": {
        "id": "9wi2fGwn2PJ8"
      },
      "outputs": [],
      "source": [
        "class MultiHeadCrossAttention(nn.Module):\n",
        "    def __init__(self, d_model, num_heads):\n",
        "        super().__init__()\n",
        "        self.d_model = d_model\n",
        "        self.num_heads = num_heads\n",
        "        self.head_dim = d_model // num_heads\n",
        "        self.kv_layer = nn.Linear(d_model , 2 * d_model)\n",
        "        self.q_layer = nn.Linear(d_model , d_model)\n",
        "        self.linear_layer = nn.Linear(d_model, d_model)\n",
        "\n",
        "    def forward(self, x, y, mask):\n",
        "        batch_size, sequence_length, d_model = x.size()\n",
        "        kv = self.kv_layer(x)\n",
        "        q = self.q_layer(y)\n",
        "        kv = kv.reshape(batch_size, sequence_length, self.num_heads, 2 * self.head_dim)\n",
        "        q = q.reshape(batch_size, sequence_length, self.num_heads, self.head_dim)\n",
        "        kv = kv.permute(0, 2, 1, 3)\n",
        "        q = q.permute(0, 2, 1, 3)\n",
        "        k, v = kv.chunk(2, dim=-1)\n",
        "        values, attention = scaled_dot_product(q, k, v, mask)\n",
        "        values = values.reshape(batch_size, sequence_length, d_model)\n",
        "        out = self.linear_layer(values)\n",
        "        return out\n",
        "\n",
        "\n",
        "class DecoderLayer(nn.Module):\n",
        "    def __init__(self, d_model, ffn_hidden, num_heads, drop_prob):\n",
        "        super(DecoderLayer, self).__init__()\n",
        "        self.self_attention = MultiHeadAttention(d_model=d_model, num_heads=num_heads)\n",
        "        self.layer_norm1 = LayerNormalization(parameters_shape=[d_model])\n",
        "        self.dropout1 = nn.Dropout(p=drop_prob)\n",
        "\n",
        "        self.encoder_decoder_attention = MultiHeadCrossAttention(d_model=d_model, num_heads=num_heads)\n",
        "        self.layer_norm2 = LayerNormalization(parameters_shape=[d_model])\n",
        "        self.dropout2 = nn.Dropout(p=drop_prob)\n",
        "\n",
        "        self.ffn = PositionwiseFeedForward(d_model=d_model, hidden=ffn_hidden, drop_prob=drop_prob)\n",
        "        self.layer_norm3 = LayerNormalization(parameters_shape=[d_model])\n",
        "        self.dropout3 = nn.Dropout(p=drop_prob)\n",
        "\n",
        "    def forward(self, x, y, self_attention_mask, cross_attention_mask):\n",
        "        _y = y.clone()\n",
        "        y = self.self_attention(y, mask=self_attention_mask)\n",
        "        y = self.dropout1(y)\n",
        "        y = self.layer_norm1(y + _y)\n",
        "\n",
        "        _y = y.clone()\n",
        "        y = self.encoder_decoder_attention(x, y, mask=cross_attention_mask)\n",
        "        y = self.dropout2(y)\n",
        "        y = self.layer_norm2(y + _y)\n",
        "\n",
        "        _y = y.clone()\n",
        "        y = self.ffn(y)\n",
        "        y = self.layer_norm3(y + _y)\n",
        "        return y\n",
        "\n",
        "\n",
        "class SequentialDecoder(nn.Sequential):\n",
        "    def forward(self, *inputs):\n",
        "        x, y, self_attention_mask, cross_attention_mask = inputs\n",
        "        for module in self._modules.values():\n",
        "            y = module(x, y, self_attention_mask, cross_attention_mask)\n",
        "        return y\n",
        "\n",
        "class Decoder(nn.Module):\n",
        "    def __init__(self,\n",
        "                d_model,\n",
        "                ffn_hidden,\n",
        "                num_heads,\n",
        "                drop_prob,\n",
        "                num_layers):\n",
        "        super().__init__()\n",
        "        self.layers = SequentialDecoder(*[DecoderLayer(d_model, ffn_hidden, num_heads, drop_prob) for _ in range(num_layers)])\n",
        "\n",
        "    def forward(self, x, y, self_attention_mask, cross_attention_mask):\n",
        "        y = self.layers(x, y, self_attention_mask, cross_attention_mask)\n",
        "        return y"
      ]
    },
    {
      "cell_type": "code",
      "execution_count": null,
      "metadata": {
        "id": "KsLnBOcr2PJ8",
        "outputId": "729381d8-149f-4232-aacd-7b2afb2e3942"
      },
      "outputs": [
        {
          "data": {
            "text/plain": [
              "tensor([[[-0.5286,  0.5318, -1.8085,  ...,  1.2159, -0.5167, -0.6737],\n",
              "         [ 1.0080,  0.0924, -0.1987,  ...,  1.5374, -0.0780,  0.4019],\n",
              "         [ 0.5671,  0.3612,  0.6105,  ...,  0.3700, -0.0027, -0.6736],\n",
              "         ...,\n",
              "         [ 1.5025, -1.3612,  1.0045,  ..., -0.8944,  0.1215,  1.1953],\n",
              "         [ 1.2719, -1.2833,  1.6319,  ..., -0.7938, -0.0132,  0.9022],\n",
              "         [ 0.7222, -0.3483,  0.7620,  ..., -1.0985,  0.3785,  1.2834]],\n",
              "\n",
              "        [[-0.2686,  0.2096, -0.3642,  ...,  1.0891,  0.1201,  0.1289],\n",
              "         [ 0.7057,  0.6022, -0.0733,  ...,  0.4194,  0.2968, -0.3327],\n",
              "         [ 0.7652, -0.8543, -0.8180,  ...,  1.3043, -0.0100, -0.0762],\n",
              "         ...,\n",
              "         [ 1.9405, -1.5002,  1.5649,  ..., -0.8787, -0.3140,  0.6820],\n",
              "         [ 1.1125, -1.2909,  1.5446,  ..., -0.6786, -0.0604,  1.0224],\n",
              "         [ 1.0098, -1.0731,  0.2518,  ..., -0.9687, -0.4586,  0.1714]],\n",
              "\n",
              "        [[ 1.0801, -0.1200, -1.6381,  ...,  0.7719, -0.5533, -0.6853],\n",
              "         [-0.0451,  0.7152, -0.8331,  ...,  0.0453, -0.2058, -1.0336],\n",
              "         [ 0.2417, -0.4821,  0.3494,  ...,  1.5038, -0.4122, -0.8906],\n",
              "         ...,\n",
              "         [ 0.5981, -0.9913,  1.6438,  ..., -0.7510, -0.4891,  1.3443],\n",
              "         [ 1.0769, -1.2446,  0.7539,  ..., -0.0962, -0.0908,  1.1264],\n",
              "         [ 0.8517, -0.1454,  0.6129,  ..., -0.6627, -0.2016,  0.8897]]],\n",
              "       grad_fn=<AddBackward0>)"
            ]
          },
          "execution_count": 96,
          "metadata": {},
          "output_type": "execute_result"
        }
      ],
      "source": [
        "d_model = 512\n",
        "num_heads = 8\n",
        "drop_prob = 0.1\n",
        "batch_size = 30\n",
        "max_sequence_length = 200\n",
        "ffn_hidden = 2048\n",
        "num_layers = 5\n",
        "\n",
        "it_sentence_embedding = SentenceEmbedding(max_sequence_length, d_model, italian_to_index, nlp_it.tokenizer, START_TOKEN, END_TOKEN, PADDING_TOKEN)\n",
        "italian_batch = next(iterator)[1]\n",
        "input_it = it_sentence_embedding(italian_batch, start_token = True, end_token = True)\n",
        "self_attention_decoder_mask = create_decoder_masked_attention_mask(italian_batch)\n",
        "cross_attention_mask = create_decoder_padding_mask(english_batch, italian_batch)\n",
        "decoder = Decoder(d_model, ffn_hidden, num_heads, drop_prob, num_layers)\n",
        "out_decoder = decoder(out_encoder, input_it, self_attention_decoder_mask, cross_attention_mask)\n",
        "out_decoder"
      ]
    },
    {
      "cell_type": "markdown",
      "metadata": {
        "id": "lsLYaAr62PJ9"
      },
      "source": [
        "## Putting all together"
      ]
    },
    {
      "cell_type": "code",
      "execution_count": null,
      "metadata": {
        "id": "YxJmfM6G2PJ9"
      },
      "outputs": [],
      "source": [
        "class SentenceEmbedding(nn.Module):\n",
        "    def __init__(self, max_sequence_length, d_model, language_to_index, lang_tokenizer, START_TOKEN, END_TOKEN, PADDING_TOKEN):\n",
        "        super().__init__()\n",
        "        self.vocab_size = len(language_to_index)\n",
        "        self.max_sequence_length = max_sequence_length\n",
        "        self.embedding = nn.Embedding(self.vocab_size, d_model)\n",
        "        self.language_to_index = language_to_index\n",
        "        self.language_tokenizer = lang_tokenizer\n",
        "        self.position_encoder = PositionalEncoding(d_model, max_sequence_length)\n",
        "        self.dropout = nn.Dropout(p=0.1)\n",
        "        self.START_TOKEN = START_TOKEN\n",
        "        self.END_TOKEN = END_TOKEN\n",
        "        self.PADDING_TOKEN = PADDING_TOKEN\n",
        "\n",
        "    def batch_tokenize(self, batch, start_token, end_token):\n",
        "\n",
        "        def tokenize(sentence, start_token, end_token):\n",
        "            try:\n",
        "                sentence_word_ids = [self.language_to_index[token.text] for token in self.language_tokenizer(sentence)]\n",
        "            except KeyError:\n",
        "                print(f'Invalid input token: token unknown')\n",
        "                raise KeyError\n",
        "            if start_token:\n",
        "                sentence_word_ids.insert(0, self.language_to_index[self.START_TOKEN])\n",
        "            if end_token:\n",
        "                sentence_word_ids.append(self.language_to_index[self.END_TOKEN])\n",
        "            for _ in range(len(sentence_word_ids), self.max_sequence_length):\n",
        "                sentence_word_ids.append(self.language_to_index[self.PADDING_TOKEN])\n",
        "\n",
        "            return torch.tensor(sentence_word_ids)\n",
        "\n",
        "        tokenized = []\n",
        "        for sentence_num in range(len(batch)):\n",
        "           tokenized.append(tokenize(batch[sentence_num], start_token, end_token))\n",
        "        tokenized = torch.stack(tokenized)\n",
        "        return tokenized.to(get_device())\n",
        "\n",
        "    def forward(self, x, start_token, end_token):\n",
        "        x = self.batch_tokenize(x, start_token, end_token)\n",
        "        x = self.embedding(x)\n",
        "        pos = self.position_encoder().to(get_device())\n",
        "        x = self.dropout(x + pos)\n",
        "        return x\n"
      ]
    },
    {
      "cell_type": "code",
      "execution_count": null,
      "metadata": {
        "id": "OCa35Tnd2PJ9"
      },
      "outputs": [],
      "source": [
        "class Encoder(nn.Module):\n",
        "    def __init__(self,\n",
        "                 d_model,\n",
        "                 ffn_hidden,\n",
        "                 num_heads,\n",
        "                 drop_prob,\n",
        "                 num_layers,\n",
        "                 max_sequence_length,\n",
        "                 language_to_index,\n",
        "                 language_tokenizer,\n",
        "                 START_TOKEN,\n",
        "                 END_TOKEN,\n",
        "                 PADDING_TOKEN):\n",
        "        super().__init__()\n",
        "        self.sentence_embedding = SentenceEmbedding(max_sequence_length, d_model, language_to_index, language_tokenizer, START_TOKEN, END_TOKEN, PADDING_TOKEN)\n",
        "        self.layers = SequentialEncoder(*[EncoderLayer(d_model, ffn_hidden, num_heads, drop_prob)\n",
        "                                      for _ in range(num_layers)])\n",
        "\n",
        "    def forward(self, x, self_attention_mask):\n",
        "        self_attention_mask = create_encoder_padding_mask(x)\n",
        "        x = self.sentence_embedding(x, start_token = False, end_token = True)\n",
        "        x = self.layers(x, self_attention_mask)\n",
        "        return x\n",
        "\n",
        "class Decoder(nn.Module):\n",
        "    def __init__(self,\n",
        "                 d_model,\n",
        "                 ffn_hidden,\n",
        "                 num_heads,\n",
        "                 drop_prob,\n",
        "                 num_layers,\n",
        "                 max_sequence_length,\n",
        "                 language_to_index,\n",
        "                 language_tokenizer,\n",
        "                 START_TOKEN,\n",
        "                 END_TOKEN,\n",
        "                 PADDING_TOKEN):\n",
        "        super().__init__()\n",
        "        self.sentence_embedding = SentenceEmbedding(max_sequence_length, d_model, language_to_index, language_tokenizer, START_TOKEN, END_TOKEN, PADDING_TOKEN)\n",
        "        self.layers = SequentialDecoder(*[DecoderLayer(d_model, ffn_hidden, num_heads, drop_prob) for _ in range(num_layers)])\n",
        "\n",
        "    def forward(self, x, y, decoder_self_attention_mask, decoder_cross_attention_mask):\n",
        "        y = self.sentence_embedding(y, start_token = True, end_token = True)\n",
        "        y = self.layers(x, y, decoder_self_attention_mask, decoder_cross_attention_mask)\n",
        "        return y"
      ]
    },
    {
      "cell_type": "code",
      "execution_count": null,
      "metadata": {
        "id": "uLIhCpGc2PJ9"
      },
      "outputs": [],
      "source": [
        "class Transformer(nn.Module):\n",
        "        def __init__(self,\n",
        "                d_model,\n",
        "                ffn_hidden,\n",
        "                num_heads,\n",
        "                drop_prob,\n",
        "                num_layers,\n",
        "                max_sequence_length,\n",
        "                english_to_index,\n",
        "                english_tokenizer,\n",
        "                italian_to_index,\n",
        "                italian_tokenizer,\n",
        "                index_to_italian,\n",
        "                START_TOKEN,\n",
        "                END_TOKEN,\n",
        "                PADDING_TOKEN,\n",
        "                logging = False\n",
        "                ):\n",
        "                super().__init__()\n",
        "                self.encoder = Encoder(d_model, ffn_hidden, num_heads, drop_prob, num_layers, max_sequence_length, english_to_index, english_tokenizer, START_TOKEN, END_TOKEN, PADDING_TOKEN)\n",
        "                self.decoder = Decoder(d_model, ffn_hidden, num_heads, drop_prob, num_layers, max_sequence_length, italian_to_index, italian_tokenizer, START_TOKEN, END_TOKEN, PADDING_TOKEN)\n",
        "                self.linear = nn.Linear(d_model, len(italian_to_index))\n",
        "                self.softmax = nn.Softmax(dim = -1)\n",
        "                self.device = torch.device('cuda') if torch.cuda.is_available() else torch.device('cpu')\n",
        "                self.index_to_italian = index_to_italian\n",
        "                if logging:\n",
        "                        print('TRANSFORMER - architecture')\n",
        "                        print(f'Internal embeddings dimension (d_model): {d_model}')\n",
        "                        print(f'Hidden feedforward layer dimension (ffn_hidden): {ffn_hidden}')\n",
        "                        print(f'Number of attention heads in Multi-head attention (num_heads): {num_heads}')\n",
        "                        print(f'Dropout probability in Dropout layer (drop_prob): {drop_prob}')\n",
        "                        print(f'Number of Encoder/Decoder layers (num_layers): {num_layers}')\n",
        "                        print(f'Maximum numbers of tokens in an input sequence (max_sequence_length): {max_sequence_length}')\n",
        "        def forward(self,\n",
        "                x,\n",
        "                y):\n",
        "                encoder_self_attention_mask = create_encoder_padding_mask(x)\n",
        "                decoder_self_attention_mask = create_decoder_masked_attention_mask(y)\n",
        "                decoder_cross_attention_mask = create_decoder_padding_mask(x, y)\n",
        "                x = self.encoder(x, encoder_self_attention_mask)\n",
        "                out = self.decoder(x, y, decoder_self_attention_mask, decoder_cross_attention_mask)\n",
        "                out = self.linear(out)\n",
        "                out = self.softmax(out)\n",
        "                out = torch.argmax(out, dim = -1, keepdim=True).squeeze(-1)\n",
        "                out_sentences = []\n",
        "                for sentence in out:\n",
        "                        out_sentences.append(' '.join([self.index_to_italian[idx.item()] for idx in sentence]))\n",
        "                return out, out_sentences"
      ]
    },
    {
      "cell_type": "code",
      "execution_count": null,
      "metadata": {
        "id": "h70K5Zb32PJ9"
      },
      "outputs": [],
      "source": [
        "d_model = 512\n",
        "ffn_hidden = 2048\n",
        "num_heads = 8\n",
        "drop_prob = 0.1\n",
        "num_layers = 6\n",
        "max_sequence_length = 200"
      ]
    },
    {
      "cell_type": "code",
      "execution_count": null,
      "metadata": {
        "id": "50EToHfo2PJ-",
        "outputId": "05c75fdf-38be-42d1-a928-1ea756dde15d"
      },
      "outputs": [
        {
          "name": "stdout",
          "output_type": "stream",
          "text": [
            "TRANSFORMER - architecture\n",
            "Internal embeddings dimension (d_model): 512\n",
            "Hidden feedforward layer dimension (ffn_hidden): 2048\n",
            "Number of attention heads in Multi-head attention (num_heads): 8\n",
            "Dropout probability in Dropout layer (drop_prob): 0.1\n",
            "Number of Encoder/Decoder layers (num_layers): 6\n",
            "Maximum numbers of tokens in an input sequence (max_sequence_length): 200\n"
          ]
        }
      ],
      "source": [
        "transformer_model = Transformer(d_model,\n",
        "                                ffn_hidden,\n",
        "                                num_heads,\n",
        "                                drop_prob,\n",
        "                                num_layers,\n",
        "                                max_sequence_length,\n",
        "                                english_to_index,\n",
        "                                nlp_en.tokenizer,\n",
        "                                italian_to_index,\n",
        "                                nlp_it.tokenizer,\n",
        "                                index_to_italian,\n",
        "                                START_TOKEN,\n",
        "                                END_TOKEN,\n",
        "                                PADDING_TOKEN,\n",
        "                                logging=True)"
      ]
    },
    {
      "cell_type": "code",
      "execution_count": null,
      "metadata": {
        "id": "v2e81zXb2PJ-"
      },
      "outputs": [],
      "source": [
        "dataset_1 = TextDataset(['my favourite animal is the raccoon.',\n",
        "                        'yesterday i saw a raccoon.'],\n",
        "                        ['',\n",
        "                        ''])\n",
        "batch_size_1 = 2\n",
        "train_loader_1 = DataLoader(dataset_1, batch_size_1)\n",
        "iterator_1 = iter(train_loader_1)\n",
        "input_batch_1 = next(iterator_1)"
      ]
    },
    {
      "cell_type": "code",
      "execution_count": null,
      "metadata": {
        "id": "27yU30g52PJ-"
      },
      "outputs": [],
      "source": [
        "output = transformer_model(*input_batch_1)"
      ]
    },
    {
      "cell_type": "code",
      "execution_count": null,
      "metadata": {
        "id": "AM9fyLi12PJ-",
        "outputId": "f8a27819-4004-4d2c-fea5-5aaac7cecefc"
      },
      "outputs": [
        {
          "data": {
            "text/plain": [
              "torch.Size([2, 200])"
            ]
          },
          "execution_count": 104,
          "metadata": {},
          "output_type": "execute_result"
        }
      ],
      "source": [
        "output[0].size()"
      ]
    },
    {
      "cell_type": "code",
      "execution_count": null,
      "metadata": {
        "id": "abdnKmcN2PJ-",
        "outputId": "211058cf-51c2-4b8e-d824-472b18f60015"
      },
      "outputs": [
        {
          "data": {
            "text/plain": [
              "['Cookeo Calcidica correggono nowiki>\\'</nowiki>\"adorazione Vicentine сли сли сли Vicentine Shumway сли correggono gowild nowiki>\\'</nowiki>\"adorazione plauto nowiki>\\'</nowiki>\"adorazione nowiki>\\'</nowiki>\"adorazione nowiki>\\'</nowiki>\"adorazione nowiki>\\'</nowiki>\"adorazione nowiki>\\'</nowiki>\"adorazione nowiki>\\'</nowiki>\"adorazione сли nowiki>\\'</nowiki>\"adorazione nowiki>\\'</nowiki>\"adorazione kea guerrazzi Cimone Othello hwa Francoli faena hwa Airline Othello faena Othello advisors 17:56 funtastic Othello Portabicchieri Othello RICCARDO Othello RICCARDO hwa funtastic Othello Alzatosi Othello fidget limacciosa cerris Chełmno Rotaia cerris Sfondi Rotaia d17 oesterheld superamoled Rotaia superamoled cerris limacciosa Gameforge oesterheld Soemo Guardarlo Relaxed raffigurerebbe Soemo cerris superamoled d17 strumentalizzabile mariel BROWN bellinvia Callen gialline Callen celecoxib polcaro Vanghiano zata polcaro gialline riesa self-documenting 20.02 Triops rivisitò gialline Tsan Donnecercauomo polcaro zata Vanghiano canyonlands Radamès Andry Fervore Algebriche altobelli Andry snore Algebriche facilone Rilasciano facilone Andry Algebriche IBRIDO ventajas Lisco Rilasciano Dupuy facilone facilone i-60 ruminalis facilone snore altobelli nidificato spingerebbe 1.580 Matajur Matajur Maccallini Matajur microclimatici Othello microclimatici Matajur fosca elisir caporal Ricevete Matajur Matajur ilham quatta Matajur ilham CSMB adolescence quatta adolescence passini stornate conseguenza conseguenza tirotto conseguenza Ripieghiamo Venerdì Ripieghiamo Venerdì Intervenite Ripieghiamo popolla Ripieghiamo Ripieghiamo 0735 portinaia spazzolarli Ripieghiamo Ripieghiamo Ripieghiamo spazzolarli Ripieghiamo Ripieghiamo Ripieghiamo Tagliapasta Tagliapasta Tama flachi Clinopodium zata facilone facilone Ribosio milos 0735 Ripasottile lanuginoso zata Û zata zata contrati Û Ripasottile Miscugli Û Û macrofagi zata',\n",
              " 'bacnet Tongue gowild Vicentine сли Vicentine nowiki>\\'</nowiki>\"adorazione turnare Shumway nowiki>\\'</nowiki>\"adorazione nowiki>\\'</nowiki>\"adorazione nowiki>\\'</nowiki>\"adorazione сли nowiki>\\'</nowiki>\"adorazione сли сли сли сли nowiki>\\'</nowiki>\"adorazione nowiki>\\'</nowiki>\"adorazione Tama gowild сли сли сли derise porporano porporano XxxxXxxxx Othello hwa Othello iguaçu Alzatosi faena Othello Othello guerrazzi Othello Othello hwa hwa hwa Othello Longe hwa 17:56 hwa hwa Longe naquane d17 d17 Relaxed bosatelli Rotaia superamoled Skłodowska Rotaia d17 superamoled d17 ewea Gameforge superamoled t-72 cerris Northridge madì Gameforge 895 cerris Quezon Rotaia cerris costituissero Oxy Alimenti Oxy fcl Callen fcl contaci occhiale Bog polcaro 2374 arenzano manifestano gialline rivisitò polcaro polcaro Callen yusa Oxy arrampichiamo grissin Callen Staggia cerris Andry Algebriche Shaka lanifici facilone Algebriche IBRIDO robottoni Algebriche Algebriche Andry Algebriche Algebriche Andry facilone Algebriche Lisco Lisco gancia facilone snore Andry Rilasciano Algebriche SAE scontente microclimatici Matajur montalto zata 1.301 multichat Matajur 491.931 Anoa\\' correggono adolescence NCD Ricevete quatta Matajur spingerebbe Matajur socioeducativo Mediterranee Matajur Matajur socioeducativo Matajur Cavana Ripieghiamo aspetterebbero aspetterebbero Venerdì presuntivo Eustema derosas presuntivo presuntivo spazzolarli Ripieghiamo Intervenite Eroina Cyclopaedia Ripieghiamo 0735 Ripieghiamo Ripieghiamo Ripieghiamo portinaia conseguenza conseguenza Ripieghiamo conseguenza Rodero Tama Tama Tama Cayetana Û sweezy Cayetana Ripasottile facilone zata Û lanuginoso facilone facilone facilone facilone zata Zedillo Ripasottile zata Û ercolanesi Û architravati']"
            ]
          },
          "execution_count": 105,
          "metadata": {},
          "output_type": "execute_result"
        }
      ],
      "source": [
        "output[1]"
      ]
    },
    {
      "cell_type": "markdown",
      "metadata": {
        "id": "g59zxtEu2PJ_"
      },
      "source": [
        "## References"
      ]
    },
    {
      "cell_type": "markdown",
      "metadata": {
        "id": "-F1KbKxu2PJ_"
      },
      "source": [
        "Theory & Intuition\n",
        "- **[Vaswani et al., 2017]** Vaswani, Ashish, Noam Shazeer, Niki Parmar, Jakob Uszkoreit, Llion Jones, Aidan N Gomez, Łukasz Kaiser, and Illia Polosukhin. “Attention Is All You Need.” In Advances in Neural Information Processing Systems, Vol. 30. Curran Associates, Inc., 2017. https://papers.nips.cc/paper/2017/hash/3f5ee243547dee91fbd053c1c4a845aa-Abstract.html.\n",
        "- *\"Speech and Language Processing\"* (2022), Dan Jurafsky and James H.Martin, Chapters 9, 10, 11\n",
        "- *\"Illustrated Guide to Transformers Neural Network: A step by step explanation\"*: https://youtu.be/4Bdc55j80l8\n",
        "- *\"Transformers, explained: Understand the model behind GPT, BERT, and T5\"*: https://youtu.be/SZorAJ4I-sA\n",
        "- *\"Transformer Neural Networks - EXPLAINED! (Attention is all you need)\"*: https://youtu.be/TQQlZhbC5ps\n",
        "- *\"The complete guide to Transformer neural Networks!\"*: https://youtu.be/Nw_PJdmydZY\n",
        "\n",
        "Code\n",
        "- *\"Transformers from scratch\"* playlist: https://youtube.com/playlist?list=PLTl9hO2Oobd97qfWC40gOSU8C0iu0m2l4"
      ]
    },
    {
      "cell_type": "markdown",
      "metadata": {
        "id": "Lj5JcCcZ2PKA"
      },
      "source": []
    }
  ],
  "metadata": {
    "kernelspec": {
      "display_name": "nlp",
      "language": "python",
      "name": "python3"
    },
    "language_info": {
      "codemirror_mode": {
        "name": "ipython",
        "version": 3
      },
      "file_extension": ".py",
      "mimetype": "text/x-python",
      "name": "python",
      "nbconvert_exporter": "python",
      "pygments_lexer": "ipython3",
      "version": "3.10.4"
    },
    "orig_nbformat": 4,
    "colab": {
      "provenance": []
    }
  },
  "nbformat": 4,
  "nbformat_minor": 0
}